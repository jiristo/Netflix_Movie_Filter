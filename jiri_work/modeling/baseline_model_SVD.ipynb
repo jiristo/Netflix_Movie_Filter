{
 "cells": [
  {
   "cell_type": "code",
   "execution_count": 1,
   "metadata": {},
   "outputs": [],
   "source": [
    "import pandas as pd\n",
    "import numpy as np\n",
    "import gzip\n",
    "import os"
   ]
  },
  {
   "cell_type": "code",
   "execution_count": 2,
   "metadata": {},
   "outputs": [],
   "source": [
    "import pandas as pd\n",
    "import numpy as np\n",
    "import matplotlib.pyplot as plt\n",
    "import seaborn as sns\n",
    "\n",
    "\n",
    "from collections import defaultdict #data colector\n",
    "\n",
    "#Surprise: https://surprise.readthedocs.io/en/stable/\n",
    "import surprise\n",
    "from surprise import dump\n",
    "\n",
    "\n",
    "from surprise.reader import Reader\n",
    "from surprise import Dataset\n",
    "from surprise.model_selection import GridSearchCV\n",
    "from surprise.model_selection import KFold\n",
    "\n",
    "  ##CrossValidation\n",
    "from surprise.model_selection import cross_validate\n",
    "\n",
    "from surprise import accuracy\n",
    "\n",
    "\n",
    "  ##Matrix Factorization Algorithms\n",
    "from surprise import SVD"
   ]
  },
  {
   "cell_type": "markdown",
   "metadata": {},
   "source": [
    "# TOY DATA/MODEL"
   ]
  },
  {
   "cell_type": "code",
   "execution_count": 4,
   "metadata": {
    "scrolled": false
   },
   "outputs": [
    {
     "data": {
      "text/html": [
       "<div>\n",
       "<style scoped>\n",
       "    .dataframe tbody tr th:only-of-type {\n",
       "        vertical-align: middle;\n",
       "    }\n",
       "\n",
       "    .dataframe tbody tr th {\n",
       "        vertical-align: top;\n",
       "    }\n",
       "\n",
       "    .dataframe thead th {\n",
       "        text-align: right;\n",
       "    }\n",
       "</style>\n",
       "<table border=\"1\" class=\"dataframe\">\n",
       "  <thead>\n",
       "    <tr style=\"text-align: right;\">\n",
       "      <th></th>\n",
       "      <th>reviewerID</th>\n",
       "      <th>title</th>\n",
       "      <th>overall</th>\n",
       "    </tr>\n",
       "  </thead>\n",
       "  <tbody>\n",
       "    <tr>\n",
       "      <th>0</th>\n",
       "      <td>a</td>\n",
       "      <td>111</td>\n",
       "      <td>1</td>\n",
       "    </tr>\n",
       "    <tr>\n",
       "      <th>1</th>\n",
       "      <td>a</td>\n",
       "      <td>222</td>\n",
       "      <td>2</td>\n",
       "    </tr>\n",
       "    <tr>\n",
       "      <th>2</th>\n",
       "      <td>a</td>\n",
       "      <td>333</td>\n",
       "      <td>3</td>\n",
       "    </tr>\n",
       "    <tr>\n",
       "      <th>3</th>\n",
       "      <td>a</td>\n",
       "      <td>444</td>\n",
       "      <td>4</td>\n",
       "    </tr>\n",
       "    <tr>\n",
       "      <th>4</th>\n",
       "      <td>a</td>\n",
       "      <td>555</td>\n",
       "      <td>5</td>\n",
       "    </tr>\n",
       "    <tr>\n",
       "      <th>5</th>\n",
       "      <td>b</td>\n",
       "      <td>111</td>\n",
       "      <td>2</td>\n",
       "    </tr>\n",
       "    <tr>\n",
       "      <th>6</th>\n",
       "      <td>b</td>\n",
       "      <td>222</td>\n",
       "      <td>3</td>\n",
       "    </tr>\n",
       "    <tr>\n",
       "      <th>7</th>\n",
       "      <td>b</td>\n",
       "      <td>333</td>\n",
       "      <td>4</td>\n",
       "    </tr>\n",
       "    <tr>\n",
       "      <th>8</th>\n",
       "      <td>b</td>\n",
       "      <td>444</td>\n",
       "      <td>5</td>\n",
       "    </tr>\n",
       "    <tr>\n",
       "      <th>9</th>\n",
       "      <td>c</td>\n",
       "      <td>111</td>\n",
       "      <td>3</td>\n",
       "    </tr>\n",
       "    <tr>\n",
       "      <th>10</th>\n",
       "      <td>c</td>\n",
       "      <td>222</td>\n",
       "      <td>4</td>\n",
       "    </tr>\n",
       "    <tr>\n",
       "      <th>11</th>\n",
       "      <td>c</td>\n",
       "      <td>333</td>\n",
       "      <td>5</td>\n",
       "    </tr>\n",
       "  </tbody>\n",
       "</table>\n",
       "</div>"
      ],
      "text/plain": [
       "   reviewerID title  overall\n",
       "0           a   111        1\n",
       "1           a   222        2\n",
       "2           a   333        3\n",
       "3           a   444        4\n",
       "4           a   555        5\n",
       "5           b   111        2\n",
       "6           b   222        3\n",
       "7           b   333        4\n",
       "8           b   444        5\n",
       "9           c   111        3\n",
       "10          c   222        4\n",
       "11          c   333        5"
      ]
     },
     "execution_count": 4,
     "metadata": {},
     "output_type": "execute_result"
    }
   ],
   "source": [
    "ratings_toy = pd.DataFrame({\"reviewerID\": ['a','a','a','a','a', 'b','b','b','b','c','c','c'],\n",
    "                        \"title\":['111', '222', '333', '444','555', '111','222','333','444','111','222','333'],\n",
    "                        \"overall\":[1,2,3,4,5,2,3,4,5,3,4,5]})\n",
    "ratings_toy"
   ]
  },
  {
   "cell_type": "markdown",
   "metadata": {},
   "source": [
    "## Toy Utility (rating) Matrix R"
   ]
  },
  {
   "cell_type": "code",
   "execution_count": 5,
   "metadata": {},
   "outputs": [
    {
     "data": {
      "text/html": [
       "<div>\n",
       "<style scoped>\n",
       "    .dataframe tbody tr th:only-of-type {\n",
       "        vertical-align: middle;\n",
       "    }\n",
       "\n",
       "    .dataframe tbody tr th {\n",
       "        vertical-align: top;\n",
       "    }\n",
       "\n",
       "    .dataframe thead th {\n",
       "        text-align: right;\n",
       "    }\n",
       "</style>\n",
       "<table border=\"1\" class=\"dataframe\">\n",
       "  <thead>\n",
       "    <tr style=\"text-align: right;\">\n",
       "      <th>title</th>\n",
       "      <th>111</th>\n",
       "      <th>222</th>\n",
       "      <th>333</th>\n",
       "      <th>444</th>\n",
       "      <th>555</th>\n",
       "    </tr>\n",
       "    <tr>\n",
       "      <th>reviewerID</th>\n",
       "      <th></th>\n",
       "      <th></th>\n",
       "      <th></th>\n",
       "      <th></th>\n",
       "      <th></th>\n",
       "    </tr>\n",
       "  </thead>\n",
       "  <tbody>\n",
       "    <tr>\n",
       "      <th>a</th>\n",
       "      <td>1.0</td>\n",
       "      <td>2.0</td>\n",
       "      <td>3.0</td>\n",
       "      <td>4.0</td>\n",
       "      <td>5.0</td>\n",
       "    </tr>\n",
       "    <tr>\n",
       "      <th>b</th>\n",
       "      <td>2.0</td>\n",
       "      <td>3.0</td>\n",
       "      <td>4.0</td>\n",
       "      <td>5.0</td>\n",
       "      <td>NaN</td>\n",
       "    </tr>\n",
       "    <tr>\n",
       "      <th>c</th>\n",
       "      <td>3.0</td>\n",
       "      <td>4.0</td>\n",
       "      <td>5.0</td>\n",
       "      <td>NaN</td>\n",
       "      <td>NaN</td>\n",
       "    </tr>\n",
       "  </tbody>\n",
       "</table>\n",
       "</div>"
      ],
      "text/plain": [
       "title       111  222  333  444  555\n",
       "reviewerID                         \n",
       "a           1.0  2.0  3.0  4.0  5.0\n",
       "b           2.0  3.0  4.0  5.0  NaN\n",
       "c           3.0  4.0  5.0  NaN  NaN"
      ]
     },
     "execution_count": 5,
     "metadata": {},
     "output_type": "execute_result"
    }
   ],
   "source": [
    "ratings_toy_pivot = ratings_toy.pivot_table(index = 'reviewerID', columns =  'title', values = 'overall')\n",
    "ratings_toy_pivot"
   ]
  },
  {
   "cell_type": "markdown",
   "metadata": {},
   "source": [
    "#### GLOBAL mean that substitues empty cells in the utility matrix"
   ]
  },
  {
   "cell_type": "code",
   "execution_count": 6,
   "metadata": {},
   "outputs": [
    {
     "data": {
      "text/plain": [
       "overall    3.416667\n",
       "dtype: float64"
      ]
     },
     "execution_count": 6,
     "metadata": {},
     "output_type": "execute_result"
    }
   ],
   "source": [
    "ratings_toy.mean()"
   ]
  },
  {
   "cell_type": "code",
   "execution_count": 159,
   "metadata": {},
   "outputs": [],
   "source": [
    "reader = Reader(rating_scale=(1, 5)) #line_format by default order of the fields\n",
    "data_toy = Dataset.load_from_df(ratings_toy[[\"reviewerID\",\"title\",\"overall\"]], reader=reader)"
   ]
  },
  {
   "cell_type": "code",
   "execution_count": 160,
   "metadata": {},
   "outputs": [
    {
     "data": {
      "text/plain": [
       "[('a', '111', 1.0, None),\n",
       " ('a', '222', 2.0, None),\n",
       " ('a', '333', 3.0, None),\n",
       " ('a', '444', 4.0, None),\n",
       " ('a', '555', 5.0, None),\n",
       " ('b', '111', 2.0, None),\n",
       " ('b', '222', 3.0, None),\n",
       " ('b', '333', 4.0, None),\n",
       " ('b', '444', 5.0, None),\n",
       " ('c', '111', 3.0, None),\n",
       " ('c', '222', 4.0, None),\n",
       " ('c', '333', 5.0, None)]"
      ]
     },
     "execution_count": 160,
     "metadata": {},
     "output_type": "execute_result"
    }
   ],
   "source": [
    "data_toy.raw_ratings"
   ]
  },
  {
   "cell_type": "code",
   "execution_count": 161,
   "metadata": {},
   "outputs": [
    {
     "name": "stdout",
     "output_type": "stream",
     "text": [
      "3\n",
      "5\n",
      "15\n"
     ]
    }
   ],
   "source": [
    "print(ratings_toy.reviewerID.nunique())\n",
    "print(ratings_toy.title.nunique())\n",
    "print(ratings_toy.reviewerID.nunique()*ratings_toy.title.nunique())"
   ]
  },
  {
   "cell_type": "markdown",
   "metadata": {},
   "source": [
    "## Data (Surprise Class)"
   ]
  },
  {
   "cell_type": "code",
   "execution_count": 219,
   "metadata": {},
   "outputs": [],
   "source": [
    "trainset_toy = data_toy.build_full_trainset()\n",
    "testset_yoy = trainset_toy.build_anti_testset()"
   ]
  },
  {
   "cell_type": "code",
   "execution_count": 220,
   "metadata": {},
   "outputs": [],
   "source": [
    "param_grid = {'n_factors': [5, 10], 'n_epochs': {10,15,20}, 'lr_all': [0.002, 0.005]}\n",
    "gs = GridSearchCV(SVD, param_grid, measures=['rmse'], cv = 3)\n",
    "gs.fit(data_toy)"
   ]
  },
  {
   "cell_type": "code",
   "execution_count": 221,
   "metadata": {},
   "outputs": [
    {
     "name": "stdout",
     "output_type": "stream",
     "text": [
      "{'n_factors': 5, 'n_epochs': 20, 'lr_all': 0.005}\n"
     ]
    }
   ],
   "source": [
    "print(gs.best_params['rmse'])"
   ]
  },
  {
   "cell_type": "code",
   "execution_count": 165,
   "metadata": {},
   "outputs": [
    {
     "data": {
      "text/plain": [
       "<surprise.prediction_algorithms.matrix_factorization.SVD at 0x7f83737a2490>"
      ]
     },
     "execution_count": 165,
     "metadata": {},
     "output_type": "execute_result"
    }
   ],
   "source": [
    "algo_SVD = SVD(n_factors = 5,\n",
    "               n_epochs = 20,\n",
    "               lr_all = 0.005)\n",
    "\n",
    "algo_SVD.fit(trainset_toy)"
   ]
  },
  {
   "cell_type": "code",
   "execution_count": 166,
   "metadata": {},
   "outputs": [
    {
     "data": {
      "text/plain": [
       "[Prediction(uid='b', iid='555', r_ui=3.4166666666666665, est=3.5770217008859944, details={'was_impossible': False}),\n",
       " Prediction(uid='c', iid='444', r_ui=3.4166666666666665, est=3.7958513542078345, details={'was_impossible': False}),\n",
       " Prediction(uid='c', iid='555', r_ui=3.4166666666666665, est=3.7410910844909218, details={'was_impossible': False})]"
      ]
     },
     "execution_count": 166,
     "metadata": {},
     "output_type": "execute_result"
    }
   ],
   "source": [
    "predictions_toy = algo_SVD.test(testset_yoy)\n",
    "predictions_toy"
   ]
  },
  {
   "cell_type": "code",
   "execution_count": 167,
   "metadata": {},
   "outputs": [
    {
     "name": "stdout",
     "output_type": "stream",
     "text": [
      "RMSE: 0.3026\n"
     ]
    },
    {
     "data": {
      "text/plain": [
       "0.30262516261638583"
      ]
     },
     "execution_count": 167,
     "metadata": {},
     "output_type": "execute_result"
    }
   ],
   "source": [
    "# RMSE should be low as we are biased\n",
    "accuracy.rmse(predictions_toy, verbose=True)"
   ]
  },
  {
   "cell_type": "markdown",
   "metadata": {},
   "source": [
    "## Function for Recommendstions"
   ]
  },
  {
   "cell_type": "code",
   "execution_count": 329,
   "metadata": {},
   "outputs": [],
   "source": [
    "#def get_top_n(predictions, userId, movies_df, ratings_df, n = 10):\n",
    "\n",
    "def get_top_n(predictions, reviewerID, ratings_df, n = 10):\n",
    "    '''Return the top N (default) movieId for a user,.i.e. userID and history for comparisom\n",
    "    Args:\n",
    "    Returns: \n",
    "  \n",
    "    '''\n",
    "    #Peart I.: Surprise docomuntation\n",
    "    \n",
    "    #1. First map the predictions to each user.\n",
    "    top_n = defaultdict(list)\n",
    "    for uid, iid, true_r, est, _ in predictions:\n",
    "        top_n[uid].append((iid, est))\n",
    "\n",
    "    #2. Then sort the predictions for each user and retrieve the k highest ones.\n",
    "    for uid, user_ratings in top_n.items():\n",
    "        user_ratings.sort(key = lambda x: x[1], reverse = True)\n",
    "        top_n[uid] = user_ratings[: n ]\n",
    "    \n",
    "    #Part II.: inspired by: https://beckernick.github.io/matrix-factorization-recommender/\n",
    "    \n",
    "    #3. Tells how many movies the user has already rated\n",
    "    user_data = ratings_df[ratings_df.reviewerID == (reviewerID)]\n",
    "    print('User {0} has already rated {1} movies.'.format(reviewerID, user_data.shape[0]))\n",
    "\n",
    "    \n",
    "    #4. Data Frame with predictions. \n",
    "    preds_df = pd.DataFrame([(id, pair[0],pair[1]) for id, row in top_n.items() for pair in row],\n",
    "                        columns=[\"reviewerID\",\"title\",\"rat_pred\"])\n",
    "    \n",
    "    preds_df = preds_df[preds_df['reviewerID'] == reviewerID]\n",
    "          \n",
    "    #6. Return hist_usr, i.e. top N historically rated movies with (merged) titles and genres for holistic evaluation\n",
    "    hist_usr = ratings_df[ratings_df.reviewerID == (reviewerID) ].sort_values(\"overall\", ascending = False)\n",
    "    \n",
    "    \n",
    "    return preds_df, hist_usr # pred_usr"
   ]
  },
  {
   "cell_type": "markdown",
   "metadata": {},
   "source": [
    "### examination"
   ]
  },
  {
   "cell_type": "code",
   "execution_count": 330,
   "metadata": {},
   "outputs": [
    {
     "data": {
      "text/html": [
       "<div>\n",
       "<style scoped>\n",
       "    .dataframe tbody tr th:only-of-type {\n",
       "        vertical-align: middle;\n",
       "    }\n",
       "\n",
       "    .dataframe tbody tr th {\n",
       "        vertical-align: top;\n",
       "    }\n",
       "\n",
       "    .dataframe thead th {\n",
       "        text-align: right;\n",
       "    }\n",
       "</style>\n",
       "<table border=\"1\" class=\"dataframe\">\n",
       "  <thead>\n",
       "    <tr style=\"text-align: right;\">\n",
       "      <th>title</th>\n",
       "      <th>111</th>\n",
       "      <th>222</th>\n",
       "      <th>333</th>\n",
       "      <th>444</th>\n",
       "      <th>555</th>\n",
       "    </tr>\n",
       "    <tr>\n",
       "      <th>reviewerID</th>\n",
       "      <th></th>\n",
       "      <th></th>\n",
       "      <th></th>\n",
       "      <th></th>\n",
       "      <th></th>\n",
       "    </tr>\n",
       "  </thead>\n",
       "  <tbody>\n",
       "    <tr>\n",
       "      <th>a</th>\n",
       "      <td>1.0</td>\n",
       "      <td>2.0</td>\n",
       "      <td>3.0</td>\n",
       "      <td>4.0</td>\n",
       "      <td>5.0</td>\n",
       "    </tr>\n",
       "    <tr>\n",
       "      <th>b</th>\n",
       "      <td>2.0</td>\n",
       "      <td>3.0</td>\n",
       "      <td>4.0</td>\n",
       "      <td>5.0</td>\n",
       "      <td>NaN</td>\n",
       "    </tr>\n",
       "    <tr>\n",
       "      <th>c</th>\n",
       "      <td>3.0</td>\n",
       "      <td>4.0</td>\n",
       "      <td>5.0</td>\n",
       "      <td>NaN</td>\n",
       "      <td>NaN</td>\n",
       "    </tr>\n",
       "  </tbody>\n",
       "</table>\n",
       "</div>"
      ],
      "text/plain": [
       "title       111  222  333  444  555\n",
       "reviewerID                         \n",
       "a           1.0  2.0  3.0  4.0  5.0\n",
       "b           2.0  3.0  4.0  5.0  NaN\n",
       "c           3.0  4.0  5.0  NaN  NaN"
      ]
     },
     "execution_count": 330,
     "metadata": {},
     "output_type": "execute_result"
    }
   ],
   "source": [
    "ratings_toy_pivot"
   ]
  },
  {
   "cell_type": "code",
   "execution_count": 331,
   "metadata": {},
   "outputs": [
    {
     "data": {
      "text/plain": [
       "[Prediction(uid='b', iid='555', r_ui=3.4166666666666665, est=3.5770217008859944, details={'was_impossible': False}),\n",
       " Prediction(uid='c', iid='444', r_ui=3.4166666666666665, est=3.7958513542078345, details={'was_impossible': False}),\n",
       " Prediction(uid='c', iid='555', r_ui=3.4166666666666665, est=3.7410910844909218, details={'was_impossible': False})]"
      ]
     },
     "execution_count": 331,
     "metadata": {},
     "output_type": "execute_result"
    }
   ],
   "source": [
    "predictions_toy"
   ]
  },
  {
   "cell_type": "markdown",
   "metadata": {},
   "source": [
    "### Prediction on toy data"
   ]
  },
  {
   "cell_type": "code",
   "execution_count": 332,
   "metadata": {},
   "outputs": [
    {
     "name": "stdout",
     "output_type": "stream",
     "text": [
      "User c has already rated 3 movies.\n"
     ]
    }
   ],
   "source": [
    "toy_pred, topy_hist =  get_top_n(predictions_toy, reviewerID = 'c', ratings_df = ratings_toy , n = 10)"
   ]
  },
  {
   "cell_type": "code",
   "execution_count": 333,
   "metadata": {},
   "outputs": [
    {
     "data": {
      "text/html": [
       "<div>\n",
       "<style scoped>\n",
       "    .dataframe tbody tr th:only-of-type {\n",
       "        vertical-align: middle;\n",
       "    }\n",
       "\n",
       "    .dataframe tbody tr th {\n",
       "        vertical-align: top;\n",
       "    }\n",
       "\n",
       "    .dataframe thead th {\n",
       "        text-align: right;\n",
       "    }\n",
       "</style>\n",
       "<table border=\"1\" class=\"dataframe\">\n",
       "  <thead>\n",
       "    <tr style=\"text-align: right;\">\n",
       "      <th></th>\n",
       "      <th>reviewerID</th>\n",
       "      <th>title</th>\n",
       "      <th>rat_pred</th>\n",
       "    </tr>\n",
       "  </thead>\n",
       "  <tbody>\n",
       "    <tr>\n",
       "      <th>1</th>\n",
       "      <td>c</td>\n",
       "      <td>444</td>\n",
       "      <td>3.795851</td>\n",
       "    </tr>\n",
       "    <tr>\n",
       "      <th>2</th>\n",
       "      <td>c</td>\n",
       "      <td>555</td>\n",
       "      <td>3.741091</td>\n",
       "    </tr>\n",
       "  </tbody>\n",
       "</table>\n",
       "</div>"
      ],
      "text/plain": [
       "  reviewerID title  rat_pred\n",
       "1          c   444  3.795851\n",
       "2          c   555  3.741091"
      ]
     },
     "execution_count": 333,
     "metadata": {},
     "output_type": "execute_result"
    }
   ],
   "source": [
    "toy_pred"
   ]
  },
  {
   "cell_type": "code",
   "execution_count": 28,
   "metadata": {},
   "outputs": [
    {
     "data": {
      "text/html": [
       "<div>\n",
       "<style scoped>\n",
       "    .dataframe tbody tr th:only-of-type {\n",
       "        vertical-align: middle;\n",
       "    }\n",
       "\n",
       "    .dataframe tbody tr th {\n",
       "        vertical-align: top;\n",
       "    }\n",
       "\n",
       "    .dataframe thead th {\n",
       "        text-align: right;\n",
       "    }\n",
       "</style>\n",
       "<table border=\"1\" class=\"dataframe\">\n",
       "  <thead>\n",
       "    <tr style=\"text-align: right;\">\n",
       "      <th></th>\n",
       "      <th>reviewerID</th>\n",
       "      <th>title</th>\n",
       "      <th>overall</th>\n",
       "    </tr>\n",
       "  </thead>\n",
       "  <tbody>\n",
       "    <tr>\n",
       "      <th>11</th>\n",
       "      <td>c</td>\n",
       "      <td>333</td>\n",
       "      <td>5</td>\n",
       "    </tr>\n",
       "    <tr>\n",
       "      <th>10</th>\n",
       "      <td>c</td>\n",
       "      <td>222</td>\n",
       "      <td>4</td>\n",
       "    </tr>\n",
       "    <tr>\n",
       "      <th>9</th>\n",
       "      <td>c</td>\n",
       "      <td>111</td>\n",
       "      <td>3</td>\n",
       "    </tr>\n",
       "  </tbody>\n",
       "</table>\n",
       "</div>"
      ],
      "text/plain": [
       "   reviewerID title  overall\n",
       "11          c   333        5\n",
       "10          c   222        4\n",
       "9           c   111        3"
      ]
     },
     "execution_count": 28,
     "metadata": {},
     "output_type": "execute_result"
    }
   ],
   "source": [
    "topy_hist"
   ]
  },
  {
   "cell_type": "code",
   "execution_count": null,
   "metadata": {},
   "outputs": [],
   "source": []
  },
  {
   "cell_type": "markdown",
   "metadata": {},
   "source": [
    "## Amazon Data"
   ]
  },
  {
   "cell_type": "code",
   "execution_count": 334,
   "metadata": {},
   "outputs": [],
   "source": [
    "data_dir = os.path.join('/Users/jiristodulka/GoogleDrive/GitHub/Netflix_Movie_Filter','data')"
   ]
  },
  {
   "cell_type": "code",
   "execution_count": 335,
   "metadata": {},
   "outputs": [],
   "source": [
    "ratings = pd.read_csv(data_dir + '/ratings_sample.csv').drop_duplicates(subset=['reviewerID', 'title'])"
   ]
  },
  {
   "cell_type": "code",
   "execution_count": 336,
   "metadata": {},
   "outputs": [
    {
     "data": {
      "text/html": [
       "<div>\n",
       "<style scoped>\n",
       "    .dataframe tbody tr th:only-of-type {\n",
       "        vertical-align: middle;\n",
       "    }\n",
       "\n",
       "    .dataframe tbody tr th {\n",
       "        vertical-align: top;\n",
       "    }\n",
       "\n",
       "    .dataframe thead th {\n",
       "        text-align: right;\n",
       "    }\n",
       "</style>\n",
       "<table border=\"1\" class=\"dataframe\">\n",
       "  <thead>\n",
       "    <tr style=\"text-align: right;\">\n",
       "      <th></th>\n",
       "      <th>reviewerID</th>\n",
       "      <th>title</th>\n",
       "      <th>overall</th>\n",
       "    </tr>\n",
       "  </thead>\n",
       "  <tbody>\n",
       "    <tr>\n",
       "      <th>0</th>\n",
       "      <td>A2U7DG83EXUSFP</td>\n",
       "      <td>An American Christmas Carol VHS</td>\n",
       "      <td>5.0</td>\n",
       "    </tr>\n",
       "    <tr>\n",
       "      <th>1</th>\n",
       "      <td>A2L3Y17SPNJ918</td>\n",
       "      <td>An American Christmas Carol VHS</td>\n",
       "      <td>4.0</td>\n",
       "    </tr>\n",
       "    <tr>\n",
       "      <th>2</th>\n",
       "      <td>A340KTL9KUGYB7</td>\n",
       "      <td>An American Christmas Carol VHS</td>\n",
       "      <td>3.0</td>\n",
       "    </tr>\n",
       "    <tr>\n",
       "      <th>3</th>\n",
       "      <td>AM87PNTXTKLOI</td>\n",
       "      <td>An American Christmas Carol VHS</td>\n",
       "      <td>4.0</td>\n",
       "    </tr>\n",
       "    <tr>\n",
       "      <th>4</th>\n",
       "      <td>AURHUEDIPJ4T9</td>\n",
       "      <td>An American Christmas Carol VHS</td>\n",
       "      <td>5.0</td>\n",
       "    </tr>\n",
       "    <tr>\n",
       "      <th>...</th>\n",
       "      <td>...</td>\n",
       "      <td>...</td>\n",
       "      <td>...</td>\n",
       "    </tr>\n",
       "    <tr>\n",
       "      <th>296498</th>\n",
       "      <td>A1NSDP9YZXLMDX</td>\n",
       "      <td>Innocence</td>\n",
       "      <td>3.0</td>\n",
       "    </tr>\n",
       "    <tr>\n",
       "      <th>296499</th>\n",
       "      <td>A23DFB8IUTIZM0</td>\n",
       "      <td>Verdi: Falstaff</td>\n",
       "      <td>5.0</td>\n",
       "    </tr>\n",
       "    <tr>\n",
       "      <th>296500</th>\n",
       "      <td>A2RG7OPDXVQZU2</td>\n",
       "      <td>Terminator Genisys</td>\n",
       "      <td>2.0</td>\n",
       "    </tr>\n",
       "    <tr>\n",
       "      <th>296501</th>\n",
       "      <td>AP6KDSZPSP288</td>\n",
       "      <td>Terminator Genisys</td>\n",
       "      <td>3.0</td>\n",
       "    </tr>\n",
       "    <tr>\n",
       "      <th>296502</th>\n",
       "      <td>A271QDD41UTD0S</td>\n",
       "      <td>Terminator Genisys</td>\n",
       "      <td>5.0</td>\n",
       "    </tr>\n",
       "  </tbody>\n",
       "</table>\n",
       "<p>296503 rows × 3 columns</p>\n",
       "</div>"
      ],
      "text/plain": [
       "            reviewerID                            title  overall\n",
       "0       A2U7DG83EXUSFP  An American Christmas Carol VHS      5.0\n",
       "1       A2L3Y17SPNJ918  An American Christmas Carol VHS      4.0\n",
       "2       A340KTL9KUGYB7  An American Christmas Carol VHS      3.0\n",
       "3        AM87PNTXTKLOI  An American Christmas Carol VHS      4.0\n",
       "4        AURHUEDIPJ4T9  An American Christmas Carol VHS      5.0\n",
       "...                ...                              ...      ...\n",
       "296498  A1NSDP9YZXLMDX                        Innocence      3.0\n",
       "296499  A23DFB8IUTIZM0                  Verdi: Falstaff      5.0\n",
       "296500  A2RG7OPDXVQZU2               Terminator Genisys      2.0\n",
       "296501   AP6KDSZPSP288               Terminator Genisys      3.0\n",
       "296502  A271QDD41UTD0S               Terminator Genisys      5.0\n",
       "\n",
       "[296503 rows x 3 columns]"
      ]
     },
     "execution_count": 336,
     "metadata": {},
     "output_type": "execute_result"
    }
   ],
   "source": [
    "ratings"
   ]
  },
  {
   "cell_type": "code",
   "execution_count": 337,
   "metadata": {},
   "outputs": [],
   "source": [
    "amazon_imbd_titles = pd.read_csv(\n",
    "    data_dir + '/amazon_unique_title_common_imbd_info.csv').drop_duplicates(subset=['reviewerID', 'title'])"
   ]
  },
  {
   "cell_type": "code",
   "execution_count": 338,
   "metadata": {},
   "outputs": [
    {
     "data": {
      "text/html": [
       "<div>\n",
       "<style scoped>\n",
       "    .dataframe tbody tr th:only-of-type {\n",
       "        vertical-align: middle;\n",
       "    }\n",
       "\n",
       "    .dataframe tbody tr th {\n",
       "        vertical-align: top;\n",
       "    }\n",
       "\n",
       "    .dataframe thead th {\n",
       "        text-align: right;\n",
       "    }\n",
       "</style>\n",
       "<table border=\"1\" class=\"dataframe\">\n",
       "  <thead>\n",
       "    <tr style=\"text-align: right;\">\n",
       "      <th></th>\n",
       "      <th>overall</th>\n",
       "      <th>verified</th>\n",
       "      <th>reviewTime</th>\n",
       "      <th>reviewerID</th>\n",
       "      <th>asin</th>\n",
       "      <th>style</th>\n",
       "      <th>reviewerName</th>\n",
       "      <th>reviewText</th>\n",
       "      <th>summary</th>\n",
       "      <th>unixReviewTime</th>\n",
       "      <th>...</th>\n",
       "      <th>countries</th>\n",
       "      <th>languages</th>\n",
       "      <th>actors</th>\n",
       "      <th>genre</th>\n",
       "      <th>tagline</th>\n",
       "      <th>description</th>\n",
       "      <th>directors</th>\n",
       "      <th>runtime</th>\n",
       "      <th>imdb_url</th>\n",
       "      <th>votes_int</th>\n",
       "    </tr>\n",
       "  </thead>\n",
       "  <tbody>\n",
       "    <tr>\n",
       "      <th>0</th>\n",
       "      <td>5.0</td>\n",
       "      <td>True</td>\n",
       "      <td>04 13, 2015</td>\n",
       "      <td>A2OI3HU0KN4118</td>\n",
       "      <td>0005119367</td>\n",
       "      <td>{'Format:': ' DVD'}</td>\n",
       "      <td>Shantal N.</td>\n",
       "      <td>Thanks for everything.</td>\n",
       "      <td>Five Stars</td>\n",
       "      <td>1428883200</td>\n",
       "      <td>...</td>\n",
       "      <td>NaN</td>\n",
       "      <td>NaN</td>\n",
       "      <td>NaN</td>\n",
       "      <td>NaN</td>\n",
       "      <td>NaN</td>\n",
       "      <td>NaN</td>\n",
       "      <td>NaN</td>\n",
       "      <td>NaN</td>\n",
       "      <td>NaN</td>\n",
       "      <td>NaN</td>\n",
       "    </tr>\n",
       "    <tr>\n",
       "      <th>1</th>\n",
       "      <td>5.0</td>\n",
       "      <td>True</td>\n",
       "      <td>04 15, 2014</td>\n",
       "      <td>A385J7MEM932DL</td>\n",
       "      <td>0005119367</td>\n",
       "      <td>{'Format:': ' DVD'}</td>\n",
       "      <td>Jim</td>\n",
       "      <td>This one was really interesting!  Loved it com...</td>\n",
       "      <td>Bible Story</td>\n",
       "      <td>1397520000</td>\n",
       "      <td>...</td>\n",
       "      <td>NaN</td>\n",
       "      <td>NaN</td>\n",
       "      <td>NaN</td>\n",
       "      <td>NaN</td>\n",
       "      <td>NaN</td>\n",
       "      <td>NaN</td>\n",
       "      <td>NaN</td>\n",
       "      <td>NaN</td>\n",
       "      <td>NaN</td>\n",
       "      <td>NaN</td>\n",
       "    </tr>\n",
       "    <tr>\n",
       "      <th>2</th>\n",
       "      <td>5.0</td>\n",
       "      <td>True</td>\n",
       "      <td>04 27, 2017</td>\n",
       "      <td>AIVTZDMB297BG</td>\n",
       "      <td>0767001311</td>\n",
       "      <td>{'Format:': ' DVD'}</td>\n",
       "      <td>Alan Denman</td>\n",
       "      <td>funny</td>\n",
       "      <td>Five Stars</td>\n",
       "      <td>1493251200</td>\n",
       "      <td>...</td>\n",
       "      <td>NaN</td>\n",
       "      <td>NaN</td>\n",
       "      <td>NaN</td>\n",
       "      <td>NaN</td>\n",
       "      <td>NaN</td>\n",
       "      <td>NaN</td>\n",
       "      <td>NaN</td>\n",
       "      <td>NaN</td>\n",
       "      <td>NaN</td>\n",
       "      <td>NaN</td>\n",
       "    </tr>\n",
       "    <tr>\n",
       "      <th>3</th>\n",
       "      <td>4.0</td>\n",
       "      <td>True</td>\n",
       "      <td>12 2, 2016</td>\n",
       "      <td>AXOX48S8K994V</td>\n",
       "      <td>0767001311</td>\n",
       "      <td>{'Format:': ' DVD'}</td>\n",
       "      <td>Amazon Customer</td>\n",
       "      <td>Great series</td>\n",
       "      <td>Four Stars</td>\n",
       "      <td>1480636800</td>\n",
       "      <td>...</td>\n",
       "      <td>NaN</td>\n",
       "      <td>NaN</td>\n",
       "      <td>NaN</td>\n",
       "      <td>NaN</td>\n",
       "      <td>NaN</td>\n",
       "      <td>NaN</td>\n",
       "      <td>NaN</td>\n",
       "      <td>NaN</td>\n",
       "      <td>NaN</td>\n",
       "      <td>NaN</td>\n",
       "    </tr>\n",
       "    <tr>\n",
       "      <th>4</th>\n",
       "      <td>4.0</td>\n",
       "      <td>True</td>\n",
       "      <td>10 13, 2016</td>\n",
       "      <td>A3J9LLWHZH15HG</td>\n",
       "      <td>0767001311</td>\n",
       "      <td>{'Format:': ' DVD'}</td>\n",
       "      <td>JJ</td>\n",
       "      <td>I happen to like Bob Newhart even though he is...</td>\n",
       "      <td>Well done, amusing series.</td>\n",
       "      <td>1476316800</td>\n",
       "      <td>...</td>\n",
       "      <td>NaN</td>\n",
       "      <td>NaN</td>\n",
       "      <td>NaN</td>\n",
       "      <td>NaN</td>\n",
       "      <td>NaN</td>\n",
       "      <td>NaN</td>\n",
       "      <td>NaN</td>\n",
       "      <td>NaN</td>\n",
       "      <td>NaN</td>\n",
       "      <td>NaN</td>\n",
       "    </tr>\n",
       "  </tbody>\n",
       "</table>\n",
       "<p>5 rows × 34 columns</p>\n",
       "</div>"
      ],
      "text/plain": [
       "   overall  verified   reviewTime      reviewerID        asin  \\\n",
       "0      5.0      True  04 13, 2015  A2OI3HU0KN4118  0005119367   \n",
       "1      5.0      True  04 15, 2014  A385J7MEM932DL  0005119367   \n",
       "2      5.0      True  04 27, 2017   AIVTZDMB297BG  0767001311   \n",
       "3      4.0      True   12 2, 2016   AXOX48S8K994V  0767001311   \n",
       "4      4.0      True  10 13, 2016  A3J9LLWHZH15HG  0767001311   \n",
       "\n",
       "                 style     reviewerName  \\\n",
       "0  {'Format:': ' DVD'}       Shantal N.   \n",
       "1  {'Format:': ' DVD'}              Jim   \n",
       "2  {'Format:': ' DVD'}      Alan Denman   \n",
       "3  {'Format:': ' DVD'}  Amazon Customer   \n",
       "4  {'Format:': ' DVD'}               JJ   \n",
       "\n",
       "                                          reviewText  \\\n",
       "0                             Thanks for everything.   \n",
       "1  This one was really interesting!  Loved it com...   \n",
       "2                                              funny   \n",
       "3                                       Great series   \n",
       "4  I happen to like Bob Newhart even though he is...   \n",
       "\n",
       "                      summary  unixReviewTime  ... countries languages actors  \\\n",
       "0                  Five Stars      1428883200  ...       NaN       NaN    NaN   \n",
       "1                 Bible Story      1397520000  ...       NaN       NaN    NaN   \n",
       "2                  Five Stars      1493251200  ...       NaN       NaN    NaN   \n",
       "3                  Four Stars      1480636800  ...       NaN       NaN    NaN   \n",
       "4  Well done, amusing series.      1476316800  ...       NaN       NaN    NaN   \n",
       "\n",
       "   genre  tagline  description directors runtime imdb_url  votes_int  \n",
       "0    NaN      NaN          NaN       NaN     NaN      NaN        NaN  \n",
       "1    NaN      NaN          NaN       NaN     NaN      NaN        NaN  \n",
       "2    NaN      NaN          NaN       NaN     NaN      NaN        NaN  \n",
       "3    NaN      NaN          NaN       NaN     NaN      NaN        NaN  \n",
       "4    NaN      NaN          NaN       NaN     NaN      NaN        NaN  \n",
       "\n",
       "[5 rows x 34 columns]"
      ]
     },
     "execution_count": 338,
     "metadata": {},
     "output_type": "execute_result"
    }
   ],
   "source": [
    "amazon_imbd_titles.head(5)"
   ]
  },
  {
   "cell_type": "code",
   "execution_count": 339,
   "metadata": {},
   "outputs": [
    {
     "data": {
      "text/html": [
       "<div>\n",
       "<style scoped>\n",
       "    .dataframe tbody tr th:only-of-type {\n",
       "        vertical-align: middle;\n",
       "    }\n",
       "\n",
       "    .dataframe tbody tr th {\n",
       "        vertical-align: top;\n",
       "    }\n",
       "\n",
       "    .dataframe thead th {\n",
       "        text-align: right;\n",
       "    }\n",
       "</style>\n",
       "<table border=\"1\" class=\"dataframe\">\n",
       "  <thead>\n",
       "    <tr style=\"text-align: right;\">\n",
       "      <th></th>\n",
       "      <th>reviewerID</th>\n",
       "      <th>title</th>\n",
       "      <th>overall</th>\n",
       "    </tr>\n",
       "  </thead>\n",
       "  <tbody>\n",
       "    <tr>\n",
       "      <th>0</th>\n",
       "      <td>A2U7DG83EXUSFP</td>\n",
       "      <td>An American Christmas Carol VHS</td>\n",
       "      <td>5.0</td>\n",
       "    </tr>\n",
       "    <tr>\n",
       "      <th>1</th>\n",
       "      <td>A2L3Y17SPNJ918</td>\n",
       "      <td>An American Christmas Carol VHS</td>\n",
       "      <td>4.0</td>\n",
       "    </tr>\n",
       "    <tr>\n",
       "      <th>2</th>\n",
       "      <td>A340KTL9KUGYB7</td>\n",
       "      <td>An American Christmas Carol VHS</td>\n",
       "      <td>3.0</td>\n",
       "    </tr>\n",
       "    <tr>\n",
       "      <th>3</th>\n",
       "      <td>AM87PNTXTKLOI</td>\n",
       "      <td>An American Christmas Carol VHS</td>\n",
       "      <td>4.0</td>\n",
       "    </tr>\n",
       "    <tr>\n",
       "      <th>4</th>\n",
       "      <td>AURHUEDIPJ4T9</td>\n",
       "      <td>An American Christmas Carol VHS</td>\n",
       "      <td>5.0</td>\n",
       "    </tr>\n",
       "    <tr>\n",
       "      <th>...</th>\n",
       "      <td>...</td>\n",
       "      <td>...</td>\n",
       "      <td>...</td>\n",
       "    </tr>\n",
       "    <tr>\n",
       "      <th>296498</th>\n",
       "      <td>A1NSDP9YZXLMDX</td>\n",
       "      <td>Innocence</td>\n",
       "      <td>3.0</td>\n",
       "    </tr>\n",
       "    <tr>\n",
       "      <th>296499</th>\n",
       "      <td>A23DFB8IUTIZM0</td>\n",
       "      <td>Verdi: Falstaff</td>\n",
       "      <td>5.0</td>\n",
       "    </tr>\n",
       "    <tr>\n",
       "      <th>296500</th>\n",
       "      <td>A2RG7OPDXVQZU2</td>\n",
       "      <td>Terminator Genisys</td>\n",
       "      <td>2.0</td>\n",
       "    </tr>\n",
       "    <tr>\n",
       "      <th>296501</th>\n",
       "      <td>AP6KDSZPSP288</td>\n",
       "      <td>Terminator Genisys</td>\n",
       "      <td>3.0</td>\n",
       "    </tr>\n",
       "    <tr>\n",
       "      <th>296502</th>\n",
       "      <td>A271QDD41UTD0S</td>\n",
       "      <td>Terminator Genisys</td>\n",
       "      <td>5.0</td>\n",
       "    </tr>\n",
       "  </tbody>\n",
       "</table>\n",
       "<p>296503 rows × 3 columns</p>\n",
       "</div>"
      ],
      "text/plain": [
       "            reviewerID                            title  overall\n",
       "0       A2U7DG83EXUSFP  An American Christmas Carol VHS      5.0\n",
       "1       A2L3Y17SPNJ918  An American Christmas Carol VHS      4.0\n",
       "2       A340KTL9KUGYB7  An American Christmas Carol VHS      3.0\n",
       "3        AM87PNTXTKLOI  An American Christmas Carol VHS      4.0\n",
       "4        AURHUEDIPJ4T9  An American Christmas Carol VHS      5.0\n",
       "...                ...                              ...      ...\n",
       "296498  A1NSDP9YZXLMDX                        Innocence      3.0\n",
       "296499  A23DFB8IUTIZM0                  Verdi: Falstaff      5.0\n",
       "296500  A2RG7OPDXVQZU2               Terminator Genisys      2.0\n",
       "296501   AP6KDSZPSP288               Terminator Genisys      3.0\n",
       "296502  A271QDD41UTD0S               Terminator Genisys      5.0\n",
       "\n",
       "[296503 rows x 3 columns]"
      ]
     },
     "execution_count": 339,
     "metadata": {},
     "output_type": "execute_result"
    }
   ],
   "source": [
    "ratings"
   ]
  },
  {
   "cell_type": "code",
   "execution_count": 340,
   "metadata": {},
   "outputs": [],
   "source": [
    "merged_ratings = pd.merge(ratings, amazon_imbd_titles[['old', 'new']], how = 'inner', left_on='title',  right_on='old' )\n",
    "merged_ratings.drop_duplicates(inplace = True)"
   ]
  },
  {
   "cell_type": "code",
   "execution_count": 341,
   "metadata": {},
   "outputs": [
    {
     "data": {
      "text/html": [
       "<div>\n",
       "<style scoped>\n",
       "    .dataframe tbody tr th:only-of-type {\n",
       "        vertical-align: middle;\n",
       "    }\n",
       "\n",
       "    .dataframe tbody tr th {\n",
       "        vertical-align: top;\n",
       "    }\n",
       "\n",
       "    .dataframe thead th {\n",
       "        text-align: right;\n",
       "    }\n",
       "</style>\n",
       "<table border=\"1\" class=\"dataframe\">\n",
       "  <thead>\n",
       "    <tr style=\"text-align: right;\">\n",
       "      <th></th>\n",
       "      <th>reviewerID</th>\n",
       "      <th>title</th>\n",
       "      <th>overall</th>\n",
       "    </tr>\n",
       "  </thead>\n",
       "  <tbody>\n",
       "    <tr>\n",
       "      <th>427</th>\n",
       "      <td>AGT9N96H15B15</td>\n",
       "      <td>Steel Magnolias VHS</td>\n",
       "      <td>5.0</td>\n",
       "    </tr>\n",
       "    <tr>\n",
       "      <th>428</th>\n",
       "      <td>A81Z2THNUIWS2</td>\n",
       "      <td>Steel Magnolias VHS</td>\n",
       "      <td>5.0</td>\n",
       "    </tr>\n",
       "    <tr>\n",
       "      <th>429</th>\n",
       "      <td>A2O9M056X2BK8T</td>\n",
       "      <td>Steel Magnolias VHS</td>\n",
       "      <td>4.0</td>\n",
       "    </tr>\n",
       "    <tr>\n",
       "      <th>430</th>\n",
       "      <td>A23A0QXR5ULD9F</td>\n",
       "      <td>Steel Magnolias VHS</td>\n",
       "      <td>5.0</td>\n",
       "    </tr>\n",
       "    <tr>\n",
       "      <th>431</th>\n",
       "      <td>A3ANO8MT4P12D8</td>\n",
       "      <td>Steel Magnolias VHS</td>\n",
       "      <td>5.0</td>\n",
       "    </tr>\n",
       "    <tr>\n",
       "      <th>...</th>\n",
       "      <td>...</td>\n",
       "      <td>...</td>\n",
       "      <td>...</td>\n",
       "    </tr>\n",
       "    <tr>\n",
       "      <th>294689</th>\n",
       "      <td>A31GBCW6YPY9OW</td>\n",
       "      <td>God's Not Dead 2</td>\n",
       "      <td>5.0</td>\n",
       "    </tr>\n",
       "    <tr>\n",
       "      <th>294690</th>\n",
       "      <td>AVJCSUZYIRR53</td>\n",
       "      <td>God's Not Dead 2</td>\n",
       "      <td>5.0</td>\n",
       "    </tr>\n",
       "    <tr>\n",
       "      <th>295440</th>\n",
       "      <td>AG49D1LO7VTPY</td>\n",
       "      <td>Somewhere in Time</td>\n",
       "      <td>5.0</td>\n",
       "    </tr>\n",
       "    <tr>\n",
       "      <th>295441</th>\n",
       "      <td>A28LN6UJ5SJBC7</td>\n",
       "      <td>Somewhere in Time</td>\n",
       "      <td>5.0</td>\n",
       "    </tr>\n",
       "    <tr>\n",
       "      <th>295442</th>\n",
       "      <td>A31878LTMXNKHU</td>\n",
       "      <td>Somewhere in Time</td>\n",
       "      <td>5.0</td>\n",
       "    </tr>\n",
       "  </tbody>\n",
       "</table>\n",
       "<p>27644 rows × 3 columns</p>\n",
       "</div>"
      ],
      "text/plain": [
       "            reviewerID                title  overall\n",
       "427      AGT9N96H15B15  Steel Magnolias VHS      5.0\n",
       "428      A81Z2THNUIWS2  Steel Magnolias VHS      5.0\n",
       "429     A2O9M056X2BK8T  Steel Magnolias VHS      4.0\n",
       "430     A23A0QXR5ULD9F  Steel Magnolias VHS      5.0\n",
       "431     A3ANO8MT4P12D8  Steel Magnolias VHS      5.0\n",
       "...                ...                  ...      ...\n",
       "294689  A31GBCW6YPY9OW     God's Not Dead 2      5.0\n",
       "294690   AVJCSUZYIRR53     God's Not Dead 2      5.0\n",
       "295440   AG49D1LO7VTPY    Somewhere in Time      5.0\n",
       "295441  A28LN6UJ5SJBC7    Somewhere in Time      5.0\n",
       "295442  A31878LTMXNKHU    Somewhere in Time      5.0\n",
       "\n",
       "[27644 rows x 3 columns]"
      ]
     },
     "execution_count": 341,
     "metadata": {},
     "output_type": "execute_result"
    }
   ],
   "source": [
    "ratings[ratings['title'].isin(amazon_imbd_titles['old'])]"
   ]
  },
  {
   "cell_type": "code",
   "execution_count": 342,
   "metadata": {},
   "outputs": [],
   "source": [
    "merged_ratings['title'] = merged_ratings['new']\n",
    "merged_ratings = merged_ratings.drop(['old', 'new'], axis = 1)"
   ]
  },
  {
   "cell_type": "code",
   "execution_count": 343,
   "metadata": {},
   "outputs": [
    {
     "data": {
      "text/html": [
       "<div>\n",
       "<style scoped>\n",
       "    .dataframe tbody tr th:only-of-type {\n",
       "        vertical-align: middle;\n",
       "    }\n",
       "\n",
       "    .dataframe tbody tr th {\n",
       "        vertical-align: top;\n",
       "    }\n",
       "\n",
       "    .dataframe thead th {\n",
       "        text-align: right;\n",
       "    }\n",
       "</style>\n",
       "<table border=\"1\" class=\"dataframe\">\n",
       "  <thead>\n",
       "    <tr style=\"text-align: right;\">\n",
       "      <th></th>\n",
       "      <th>reviewerID</th>\n",
       "      <th>title</th>\n",
       "      <th>overall</th>\n",
       "    </tr>\n",
       "  </thead>\n",
       "  <tbody>\n",
       "    <tr>\n",
       "      <th>0</th>\n",
       "      <td>AGT9N96H15B15</td>\n",
       "      <td>Steel Magnolias</td>\n",
       "      <td>5.0</td>\n",
       "    </tr>\n",
       "    <tr>\n",
       "      <th>11</th>\n",
       "      <td>A81Z2THNUIWS2</td>\n",
       "      <td>Steel Magnolias</td>\n",
       "      <td>5.0</td>\n",
       "    </tr>\n",
       "    <tr>\n",
       "      <th>22</th>\n",
       "      <td>A2O9M056X2BK8T</td>\n",
       "      <td>Steel Magnolias</td>\n",
       "      <td>4.0</td>\n",
       "    </tr>\n",
       "    <tr>\n",
       "      <th>33</th>\n",
       "      <td>A23A0QXR5ULD9F</td>\n",
       "      <td>Steel Magnolias</td>\n",
       "      <td>5.0</td>\n",
       "    </tr>\n",
       "    <tr>\n",
       "      <th>44</th>\n",
       "      <td>A3ANO8MT4P12D8</td>\n",
       "      <td>Steel Magnolias</td>\n",
       "      <td>5.0</td>\n",
       "    </tr>\n",
       "    <tr>\n",
       "      <th>...</th>\n",
       "      <td>...</td>\n",
       "      <td>...</td>\n",
       "      <td>...</td>\n",
       "    </tr>\n",
       "    <tr>\n",
       "      <th>456542</th>\n",
       "      <td>A2MWHPNXYBKQQP</td>\n",
       "      <td>God's Not Dead</td>\n",
       "      <td>5.0</td>\n",
       "    </tr>\n",
       "    <tr>\n",
       "      <th>456548</th>\n",
       "      <td>A2HKFMBM1WNE22</td>\n",
       "      <td>God's Not Dead</td>\n",
       "      <td>3.0</td>\n",
       "    </tr>\n",
       "    <tr>\n",
       "      <th>456554</th>\n",
       "      <td>A3AL9BPP2PQA3J</td>\n",
       "      <td>God's Not Dead</td>\n",
       "      <td>5.0</td>\n",
       "    </tr>\n",
       "    <tr>\n",
       "      <th>456560</th>\n",
       "      <td>A31GBCW6YPY9OW</td>\n",
       "      <td>God's Not Dead</td>\n",
       "      <td>5.0</td>\n",
       "    </tr>\n",
       "    <tr>\n",
       "      <th>456566</th>\n",
       "      <td>AVJCSUZYIRR53</td>\n",
       "      <td>God's Not Dead</td>\n",
       "      <td>5.0</td>\n",
       "    </tr>\n",
       "  </tbody>\n",
       "</table>\n",
       "<p>27644 rows × 3 columns</p>\n",
       "</div>"
      ],
      "text/plain": [
       "            reviewerID            title  overall\n",
       "0        AGT9N96H15B15  Steel Magnolias      5.0\n",
       "11       A81Z2THNUIWS2  Steel Magnolias      5.0\n",
       "22      A2O9M056X2BK8T  Steel Magnolias      4.0\n",
       "33      A23A0QXR5ULD9F  Steel Magnolias      5.0\n",
       "44      A3ANO8MT4P12D8  Steel Magnolias      5.0\n",
       "...                ...              ...      ...\n",
       "456542  A2MWHPNXYBKQQP   God's Not Dead      5.0\n",
       "456548  A2HKFMBM1WNE22   God's Not Dead      3.0\n",
       "456554  A3AL9BPP2PQA3J   God's Not Dead      5.0\n",
       "456560  A31GBCW6YPY9OW   God's Not Dead      5.0\n",
       "456566   AVJCSUZYIRR53   God's Not Dead      5.0\n",
       "\n",
       "[27644 rows x 3 columns]"
      ]
     },
     "execution_count": 343,
     "metadata": {},
     "output_type": "execute_result"
    }
   ],
   "source": [
    "merged_ratings"
   ]
  },
  {
   "cell_type": "code",
   "execution_count": 238,
   "metadata": {},
   "outputs": [
    {
     "data": {
      "text/html": [
       "<div>\n",
       "<style scoped>\n",
       "    .dataframe tbody tr th:only-of-type {\n",
       "        vertical-align: middle;\n",
       "    }\n",
       "\n",
       "    .dataframe tbody tr th {\n",
       "        vertical-align: top;\n",
       "    }\n",
       "\n",
       "    .dataframe thead th {\n",
       "        text-align: right;\n",
       "    }\n",
       "</style>\n",
       "<table border=\"1\" class=\"dataframe\">\n",
       "  <thead>\n",
       "    <tr style=\"text-align: right;\">\n",
       "      <th></th>\n",
       "      <th>reviewerID</th>\n",
       "      <th>title</th>\n",
       "      <th>overall</th>\n",
       "    </tr>\n",
       "  </thead>\n",
       "  <tbody>\n",
       "    <tr>\n",
       "      <th>0</th>\n",
       "      <td>A2U7DG83EXUSFP</td>\n",
       "      <td>An American Christmas Carol VHS</td>\n",
       "      <td>5.0</td>\n",
       "    </tr>\n",
       "    <tr>\n",
       "      <th>1</th>\n",
       "      <td>A2L3Y17SPNJ918</td>\n",
       "      <td>An American Christmas Carol VHS</td>\n",
       "      <td>4.0</td>\n",
       "    </tr>\n",
       "    <tr>\n",
       "      <th>2</th>\n",
       "      <td>A340KTL9KUGYB7</td>\n",
       "      <td>An American Christmas Carol VHS</td>\n",
       "      <td>3.0</td>\n",
       "    </tr>\n",
       "    <tr>\n",
       "      <th>3</th>\n",
       "      <td>AM87PNTXTKLOI</td>\n",
       "      <td>An American Christmas Carol VHS</td>\n",
       "      <td>4.0</td>\n",
       "    </tr>\n",
       "    <tr>\n",
       "      <th>4</th>\n",
       "      <td>AURHUEDIPJ4T9</td>\n",
       "      <td>An American Christmas Carol VHS</td>\n",
       "      <td>5.0</td>\n",
       "    </tr>\n",
       "    <tr>\n",
       "      <th>...</th>\n",
       "      <td>...</td>\n",
       "      <td>...</td>\n",
       "      <td>...</td>\n",
       "    </tr>\n",
       "    <tr>\n",
       "      <th>296498</th>\n",
       "      <td>A1NSDP9YZXLMDX</td>\n",
       "      <td>Innocence</td>\n",
       "      <td>3.0</td>\n",
       "    </tr>\n",
       "    <tr>\n",
       "      <th>296499</th>\n",
       "      <td>A23DFB8IUTIZM0</td>\n",
       "      <td>Verdi: Falstaff</td>\n",
       "      <td>5.0</td>\n",
       "    </tr>\n",
       "    <tr>\n",
       "      <th>296500</th>\n",
       "      <td>A2RG7OPDXVQZU2</td>\n",
       "      <td>Terminator Genisys</td>\n",
       "      <td>2.0</td>\n",
       "    </tr>\n",
       "    <tr>\n",
       "      <th>296501</th>\n",
       "      <td>AP6KDSZPSP288</td>\n",
       "      <td>Terminator Genisys</td>\n",
       "      <td>3.0</td>\n",
       "    </tr>\n",
       "    <tr>\n",
       "      <th>296502</th>\n",
       "      <td>A271QDD41UTD0S</td>\n",
       "      <td>Terminator Genisys</td>\n",
       "      <td>5.0</td>\n",
       "    </tr>\n",
       "  </tbody>\n",
       "</table>\n",
       "<p>296503 rows × 3 columns</p>\n",
       "</div>"
      ],
      "text/plain": [
       "            reviewerID                            title  overall\n",
       "0       A2U7DG83EXUSFP  An American Christmas Carol VHS      5.0\n",
       "1       A2L3Y17SPNJ918  An American Christmas Carol VHS      4.0\n",
       "2       A340KTL9KUGYB7  An American Christmas Carol VHS      3.0\n",
       "3        AM87PNTXTKLOI  An American Christmas Carol VHS      4.0\n",
       "4        AURHUEDIPJ4T9  An American Christmas Carol VHS      5.0\n",
       "...                ...                              ...      ...\n",
       "296498  A1NSDP9YZXLMDX                        Innocence      3.0\n",
       "296499  A23DFB8IUTIZM0                  Verdi: Falstaff      5.0\n",
       "296500  A2RG7OPDXVQZU2               Terminator Genisys      2.0\n",
       "296501   AP6KDSZPSP288               Terminator Genisys      3.0\n",
       "296502  A271QDD41UTD0S               Terminator Genisys      5.0\n",
       "\n",
       "[296503 rows x 3 columns]"
      ]
     },
     "execution_count": 238,
     "metadata": {},
     "output_type": "execute_result"
    }
   ],
   "source": [
    "ratings"
   ]
  },
  {
   "cell_type": "code",
   "execution_count": null,
   "metadata": {},
   "outputs": [],
   "source": []
  },
  {
   "cell_type": "code",
   "execution_count": 344,
   "metadata": {},
   "outputs": [],
   "source": [
    "dime = merged_ratings.reviewerID.nunique()*(merged_ratings.title.nunique())\n",
    "count_ratings = merged_ratings.overall.count()"
   ]
  },
  {
   "cell_type": "code",
   "execution_count": 345,
   "metadata": {},
   "outputs": [],
   "source": [
    "def utility_matrix_info(ratings):\n",
    "    dime = ratings.reviewerID.nunique()*(ratings.title.nunique())\n",
    "    count_ratings = ratings.overall.count()\n",
    "    print('There are {0}: userss'.format(ratings.reviewerID.nunique()))\n",
    "    print('There are {0}: movie titles'.format(ratings.title.nunique()))\n",
    "    print('The utility matrix has: {0} entries'.format(dime))\n",
    "    print('There are {0}: ratings in the utility matrix'.format(count_ratings))\n",
    "    print('Sparsity: {0}'.format((1-(count_ratings/dime))*100),'%')"
   ]
  },
  {
   "cell_type": "code",
   "execution_count": 346,
   "metadata": {},
   "outputs": [
    {
     "name": "stdout",
     "output_type": "stream",
     "text": [
      "There are 7637: userss\n",
      "There are 373: movie titles\n",
      "The utility matrix has: 2848601 entries\n",
      "There are 27644: ratings in the utility matrix\n",
      "Sparsity: 99.02955872022793 %\n"
     ]
    }
   ],
   "source": [
    " utility_matrix_info(merged_ratings)"
   ]
  },
  {
   "cell_type": "markdown",
   "metadata": {},
   "source": [
    "`^^^ We need to subsample !!!!!`"
   ]
  },
  {
   "cell_type": "code",
   "execution_count": 347,
   "metadata": {},
   "outputs": [],
   "source": [
    "def subsample_utility_matrix(ratings, reviewer_rating_min, title_rating_min):\n",
    "\n",
    "    ratings['reviewer_rating_count'] = ratings.groupby(\n",
    "        'reviewerID')['overall'].transform('count')\n",
    "    ratings['title_rating_count'] = ratings.groupby(\n",
    "        'title')['overall'].transform('count')\n",
    "    subsample = ratings[(ratings['reviewer_rating_count'] > reviewer_rating_min) & (\n",
    "        ratings['title_rating_count'] > title_rating_min)].drop(['reviewer_rating_count', 'title_rating_count'], axis=1)\n",
    "    utility_matrix_info(subsample)\n",
    "    return subsample"
   ]
  },
  {
   "cell_type": "code",
   "execution_count": 349,
   "metadata": {
    "scrolled": false
   },
   "outputs": [
    {
     "name": "stdout",
     "output_type": "stream",
     "text": [
      "There are 1413: userss\n",
      "There are 373: movie titles\n",
      "The utility matrix has: 527049 entries\n",
      "There are 13827: ratings in the utility matrix\n",
      "Sparsity: 97.37652476335218 %\n"
     ]
    },
    {
     "data": {
      "text/html": [
       "<div>\n",
       "<style scoped>\n",
       "    .dataframe tbody tr th:only-of-type {\n",
       "        vertical-align: middle;\n",
       "    }\n",
       "\n",
       "    .dataframe tbody tr th {\n",
       "        vertical-align: top;\n",
       "    }\n",
       "\n",
       "    .dataframe thead th {\n",
       "        text-align: right;\n",
       "    }\n",
       "</style>\n",
       "<table border=\"1\" class=\"dataframe\">\n",
       "  <thead>\n",
       "    <tr style=\"text-align: right;\">\n",
       "      <th></th>\n",
       "      <th>reviewerID</th>\n",
       "      <th>title</th>\n",
       "      <th>overall</th>\n",
       "    </tr>\n",
       "  </thead>\n",
       "  <tbody>\n",
       "    <tr>\n",
       "      <th>33</th>\n",
       "      <td>A23A0QXR5ULD9F</td>\n",
       "      <td>Steel Magnolias</td>\n",
       "      <td>5.0</td>\n",
       "    </tr>\n",
       "    <tr>\n",
       "      <th>66</th>\n",
       "      <td>A32AKB5NFIAW97</td>\n",
       "      <td>Steel Magnolias</td>\n",
       "      <td>5.0</td>\n",
       "    </tr>\n",
       "    <tr>\n",
       "      <th>88</th>\n",
       "      <td>A2LOA2R50C4FN9</td>\n",
       "      <td>Steel Magnolias</td>\n",
       "      <td>4.0</td>\n",
       "    </tr>\n",
       "    <tr>\n",
       "      <th>99</th>\n",
       "      <td>A372W1OI7K64AX</td>\n",
       "      <td>Steel Magnolias</td>\n",
       "      <td>5.0</td>\n",
       "    </tr>\n",
       "    <tr>\n",
       "      <th>176</th>\n",
       "      <td>A2KQ36MM72JAXP</td>\n",
       "      <td>Steel Magnolias</td>\n",
       "      <td>4.0</td>\n",
       "    </tr>\n",
       "    <tr>\n",
       "      <th>...</th>\n",
       "      <td>...</td>\n",
       "      <td>...</td>\n",
       "      <td>...</td>\n",
       "    </tr>\n",
       "    <tr>\n",
       "      <th>456416</th>\n",
       "      <td>A2EHSHZF7FEJJG</td>\n",
       "      <td>God's Not Dead</td>\n",
       "      <td>5.0</td>\n",
       "    </tr>\n",
       "    <tr>\n",
       "      <th>456458</th>\n",
       "      <td>A1GJ0SYG0RBWAX</td>\n",
       "      <td>God's Not Dead</td>\n",
       "      <td>3.0</td>\n",
       "    </tr>\n",
       "    <tr>\n",
       "      <th>456494</th>\n",
       "      <td>A3JL15TG84TRSN</td>\n",
       "      <td>God's Not Dead</td>\n",
       "      <td>5.0</td>\n",
       "    </tr>\n",
       "    <tr>\n",
       "      <th>456500</th>\n",
       "      <td>A1V4F0QIO7JSWH</td>\n",
       "      <td>God's Not Dead</td>\n",
       "      <td>5.0</td>\n",
       "    </tr>\n",
       "    <tr>\n",
       "      <th>456536</th>\n",
       "      <td>A1XBKY1TQBGCKZ</td>\n",
       "      <td>God's Not Dead</td>\n",
       "      <td>5.0</td>\n",
       "    </tr>\n",
       "  </tbody>\n",
       "</table>\n",
       "<p>13827 rows × 3 columns</p>\n",
       "</div>"
      ],
      "text/plain": [
       "            reviewerID            title  overall\n",
       "33      A23A0QXR5ULD9F  Steel Magnolias      5.0\n",
       "66      A32AKB5NFIAW97  Steel Magnolias      5.0\n",
       "88      A2LOA2R50C4FN9  Steel Magnolias      4.0\n",
       "99      A372W1OI7K64AX  Steel Magnolias      5.0\n",
       "176     A2KQ36MM72JAXP  Steel Magnolias      4.0\n",
       "...                ...              ...      ...\n",
       "456416  A2EHSHZF7FEJJG   God's Not Dead      5.0\n",
       "456458  A1GJ0SYG0RBWAX   God's Not Dead      3.0\n",
       "456494  A3JL15TG84TRSN   God's Not Dead      5.0\n",
       "456500  A1V4F0QIO7JSWH   God's Not Dead      5.0\n",
       "456536  A1XBKY1TQBGCKZ   God's Not Dead      5.0\n",
       "\n",
       "[13827 rows x 3 columns]"
      ]
     },
     "execution_count": 349,
     "metadata": {},
     "output_type": "execute_result"
    }
   ],
   "source": [
    "subsample_ratings = subsample_utility_matrix(merged_ratings, reviewer_rating_min = 5, title_rating_min = 5)\n",
    "subsample_ratings"
   ]
  },
  {
   "cell_type": "code",
   "execution_count": null,
   "metadata": {},
   "outputs": [],
   "source": []
  },
  {
   "cell_type": "code",
   "execution_count": 113,
   "metadata": {},
   "outputs": [
    {
     "data": {
      "image/png": "[encoded data removed]",
      "text/plain": [
       "<Figure size 432x288 with 1 Axes>"
      ]
     },
     "metadata": {
      "needs_background": "light"
     },
     "output_type": "display_data"
    }
   ],
   "source": [
    "subsample_ratings.overall.hist()\n",
    "plt.show()"
   ]
  },
  {
   "cell_type": "code",
   "execution_count": 114,
   "metadata": {},
   "outputs": [
    {
     "data": {
      "text/plain": [
       "<matplotlib.axes._subplots.AxesSubplot at 0x7f8370d68890>"
      ]
     },
     "execution_count": 114,
     "metadata": {},
     "output_type": "execute_result"
    },
    {
     "data": {
      "image/png": "[encoded data removed]",
      "text/plain": [
       "<Figure size 432x288 with 1 Axes>"
      ]
     },
     "metadata": {
      "needs_background": "light"
     },
     "output_type": "display_data"
    }
   ],
   "source": [
    "subsample_ratings.title.value_counts().hist()"
   ]
  },
  {
   "cell_type": "markdown",
   "metadata": {},
   "source": [
    "## MODELING on Subsample"
   ]
  },
  {
   "cell_type": "code",
   "execution_count": 350,
   "metadata": {},
   "outputs": [],
   "source": [
    "reader = Reader(rating_scale=(1, 5)) #line_format by default order of the fields\n",
    "data = Dataset.load_from_df(subsample_ratings[[\"reviewerID\",\"title\",\"overall\"]], reader=reader)"
   ]
  },
  {
   "cell_type": "code",
   "execution_count": 351,
   "metadata": {},
   "outputs": [],
   "source": [
    "trainset = data.build_full_trainset()\n",
    "testset = trainset.build_anti_testset()"
   ]
  },
  {
   "cell_type": "code",
   "execution_count": null,
   "metadata": {},
   "outputs": [],
   "source": []
  },
  {
   "cell_type": "code",
   "execution_count": null,
   "metadata": {},
   "outputs": [],
   "source": []
  },
  {
   "cell_type": "code",
   "execution_count": 352,
   "metadata": {},
   "outputs": [
    {
     "data": {
      "text/plain": [
       "<surprise.prediction_algorithms.matrix_factorization.SVD at 0x7f8370d66ed0>"
      ]
     },
     "execution_count": 352,
     "metadata": {},
     "output_type": "execute_result"
    }
   ],
   "source": [
    "algo_SVD = SVD(n_factors = 5,\n",
    "               n_epochs = 20,\n",
    "               lr_all = 0.005)\n",
    "\n",
    "algo_SVD.fit(trainset)"
   ]
  },
  {
   "cell_type": "code",
   "execution_count": 353,
   "metadata": {},
   "outputs": [
    {
     "name": "stdout",
     "output_type": "stream",
     "text": [
      "<surprise.prediction_algorithms.matrix_factorization.SVD object at 0x7f837380f710>\n",
      "{'n_factors': 5, 'n_epochs': 20, 'lr_all': 0.005}\n"
     ]
    }
   ],
   "source": [
    "print(gs.best_estimator['rmse'])\n",
    "print(gs.best_params['rmse'])"
   ]
  },
  {
   "cell_type": "code",
   "execution_count": 354,
   "metadata": {},
   "outputs": [
    {
     "name": "stdout",
     "output_type": "stream",
     "text": [
      "RMSE: 0.3228\n"
     ]
    },
    {
     "data": {
      "text/plain": [
       "0.3228001966681532"
      ]
     },
     "execution_count": 354,
     "metadata": {},
     "output_type": "execute_result"
    }
   ],
   "source": [
    "#testset = trainset.build_testset()\n",
    "predictions = algo_SVD.test(testset)\n",
    "# RMSE should be low as we are biased\n",
    "accuracy.rmse(predictions, verbose=True)"
   ]
  },
  {
   "cell_type": "markdown",
   "metadata": {},
   "source": [
    "### Double Check: `Is the rating matrix filled now?`"
   ]
  },
  {
   "cell_type": "code",
   "execution_count": 195,
   "metadata": {
    "scrolled": true
   },
   "outputs": [],
   "source": [
    "# # doublecheck: does the count of predictions plus counts of rattings add up to 715745 entries inside the matrix?\n",
    "# assert len(predictions) + subsample_ratings.overall.count() ==  subsample_ratings.reviewerID.nunique()*(subsample_ratings.title.nunique())\n",
    "# print('Yes, count of rui and rui^head add up to:{0}'.format(subsample_ratings.reviewerID.nunique()*(subsample_ratings.title.nunique())))"
   ]
  },
  {
   "cell_type": "code",
   "execution_count": 313,
   "metadata": {},
   "outputs": [
    {
     "name": "stdout",
     "output_type": "stream",
     "text": [
      "Prec.: 0.9054862842892768\n",
      "Rec.: 0.9281119291717796\n",
      "Prec.: 0.9036231884057971\n",
      "Rec.: 0.9214922758401017\n",
      "Prec.: 0.9061712846347604\n",
      "Rec.: 0.9278031908384552\n",
      "Prec.: 0.9145763187429852\n",
      "Rec.: 0.931131831131831\n",
      "Prec.: 0.9115438893592996\n",
      "Rec.: 0.9248908749543803\n"
     ]
    }
   ],
   "source": [
    "def precision_recall_at_k(predictions, k=10, threshold=3.5):\n",
    "    \"\"\"Return precision and recall at k metrics for each user\"\"\"\n",
    "\n",
    "    # First map the predictions to each user.\n",
    "    user_est_true = defaultdict(list)\n",
    "    for uid, _, true_r, est, _ in predictions:\n",
    "        user_est_true[uid].append((est, true_r))\n",
    "\n",
    "    precisions = dict()\n",
    "    recalls = dict()\n",
    "    for uid, user_ratings in user_est_true.items():\n",
    "\n",
    "        # Sort user ratings by estimated value\n",
    "        user_ratings.sort(key=lambda x: x[0], reverse=True)\n",
    "\n",
    "        # Number of relevant items\n",
    "        n_rel = sum((true_r >= threshold) for (_, true_r) in user_ratings)\n",
    "\n",
    "        # Number of recommended items in top k\n",
    "        n_rec_k = sum((est >= threshold) for (est, _) in user_ratings[:k])\n",
    "\n",
    "        # Number of relevant and recommended items in top k\n",
    "        n_rel_and_rec_k = sum(((true_r >= threshold) and (est >= threshold))\n",
    "                              for (est, true_r) in user_ratings[:k])\n",
    "\n",
    "        # Precision@K: Proportion of recommended items that are relevant\n",
    "        # When n_rec_k is 0, Precision is undefined. We here set it to 0.\n",
    "\n",
    "        precisions[uid] = n_rel_and_rec_k / n_rec_k if n_rec_k != 0 else 0\n",
    "\n",
    "        # Recall@K: Proportion of relevant items that are recommended\n",
    "        # When n_rel is 0, Recall is undefined. We here set it to 0.\n",
    "\n",
    "        recalls[uid] = n_rel_and_rec_k / n_rel if n_rel != 0 else 0\n",
    "\n",
    "    return precisions, recalls\n",
    "\n",
    "\n",
    "kf = KFold(n_splits = 5)\n",
    "algo = SVD()\n",
    "\n",
    "for trainset, testset in kf.split(data):\n",
    "    algo.fit(trainset)\n",
    "    predictions = algo.test(testset)\n",
    "    precisions, recalls = precision_recall_at_k(predictions, k=5, threshold=4)\n",
    "\n",
    "    # Precision and recall can then be averaged over all users\n",
    "    print('Prec.:',sum(prec for prec in precisions.values()) / len(precisions))\n",
    "    print('Rec.:',sum(rec for rec in recalls.values()) / len(recalls))"
   ]
  },
  {
   "cell_type": "code",
   "execution_count": 355,
   "metadata": {},
   "outputs": [
    {
     "data": {
      "text/plain": [
       "528170"
      ]
     },
     "execution_count": 355,
     "metadata": {},
     "output_type": "execute_result"
    }
   ],
   "source": [
    "len(predictions) + 14702 "
   ]
  },
  {
   "cell_type": "markdown",
   "metadata": {},
   "source": [
    "### Doump the Model"
   ]
  },
  {
   "cell_type": "code",
   "execution_count": 366,
   "metadata": {},
   "outputs": [
    {
     "name": "stdout",
     "output_type": "stream",
     "text": [
      "Predictions are the same\n"
     ]
    }
   ],
   "source": [
    "# Compute predictions of the 'original' algorithm.\n",
    "predictions = algo_SVD.test(testset)\n",
    "\n",
    "# Dump algorithm and reload it.\n",
    "file_name = os.path.expanduser('~/dump_file')\n",
    "dump.dump(file_name, algo=algo_SVD)\n",
    "_, loaded_algo = dump.load(file_name)\n",
    "\n",
    "# We now ensure that the algo is still the same by checking the predictions.\n",
    "predictions_loaded_algo = loaded_algo.test(testset)\n",
    "assert predictions == predictions_loaded_algo\n",
    "print('Predictions are the same')"
   ]
  },
  {
   "cell_type": "code",
   "execution_count": 124,
   "metadata": {},
   "outputs": [
    {
     "data": {
      "text/plain": [
       "<module 'posixpath' from '/Users/jiristodulka/anaconda3/lib/python3.7/posixpath.py'>"
      ]
     },
     "execution_count": 124,
     "metadata": {},
     "output_type": "execute_result"
    }
   ],
   "source": [
    "os.path"
   ]
  },
  {
   "cell_type": "markdown",
   "metadata": {},
   "source": [
    "`<module 'posixpath' from '/Users/jiristodulka/anaconda3/envs/product_filter/lib/python3.8/posixpath.py'>`"
   ]
  },
  {
   "cell_type": "markdown",
   "metadata": {},
   "source": [
    "# Predictions and History"
   ]
  },
  {
   "cell_type": "code",
   "execution_count": 367,
   "metadata": {},
   "outputs": [
    {
     "data": {
      "text/html": [
       "<div>\n",
       "<style scoped>\n",
       "    .dataframe tbody tr th:only-of-type {\n",
       "        vertical-align: middle;\n",
       "    }\n",
       "\n",
       "    .dataframe tbody tr th {\n",
       "        vertical-align: top;\n",
       "    }\n",
       "\n",
       "    .dataframe thead th {\n",
       "        text-align: right;\n",
       "    }\n",
       "</style>\n",
       "<table border=\"1\" class=\"dataframe\">\n",
       "  <thead>\n",
       "    <tr style=\"text-align: right;\">\n",
       "      <th></th>\n",
       "      <th>reviewerID</th>\n",
       "      <th>title</th>\n",
       "      <th>overall</th>\n",
       "    </tr>\n",
       "  </thead>\n",
       "  <tbody>\n",
       "    <tr>\n",
       "      <th>33</th>\n",
       "      <td>A23A0QXR5ULD9F</td>\n",
       "      <td>Steel Magnolias</td>\n",
       "      <td>5.0</td>\n",
       "    </tr>\n",
       "    <tr>\n",
       "      <th>66</th>\n",
       "      <td>A32AKB5NFIAW97</td>\n",
       "      <td>Steel Magnolias</td>\n",
       "      <td>5.0</td>\n",
       "    </tr>\n",
       "    <tr>\n",
       "      <th>88</th>\n",
       "      <td>A2LOA2R50C4FN9</td>\n",
       "      <td>Steel Magnolias</td>\n",
       "      <td>4.0</td>\n",
       "    </tr>\n",
       "    <tr>\n",
       "      <th>99</th>\n",
       "      <td>A372W1OI7K64AX</td>\n",
       "      <td>Steel Magnolias</td>\n",
       "      <td>5.0</td>\n",
       "    </tr>\n",
       "    <tr>\n",
       "      <th>176</th>\n",
       "      <td>A2KQ36MM72JAXP</td>\n",
       "      <td>Steel Magnolias</td>\n",
       "      <td>4.0</td>\n",
       "    </tr>\n",
       "    <tr>\n",
       "      <th>...</th>\n",
       "      <td>...</td>\n",
       "      <td>...</td>\n",
       "      <td>...</td>\n",
       "    </tr>\n",
       "    <tr>\n",
       "      <th>456416</th>\n",
       "      <td>A2EHSHZF7FEJJG</td>\n",
       "      <td>God's Not Dead</td>\n",
       "      <td>5.0</td>\n",
       "    </tr>\n",
       "    <tr>\n",
       "      <th>456458</th>\n",
       "      <td>A1GJ0SYG0RBWAX</td>\n",
       "      <td>God's Not Dead</td>\n",
       "      <td>3.0</td>\n",
       "    </tr>\n",
       "    <tr>\n",
       "      <th>456494</th>\n",
       "      <td>A3JL15TG84TRSN</td>\n",
       "      <td>God's Not Dead</td>\n",
       "      <td>5.0</td>\n",
       "    </tr>\n",
       "    <tr>\n",
       "      <th>456500</th>\n",
       "      <td>A1V4F0QIO7JSWH</td>\n",
       "      <td>God's Not Dead</td>\n",
       "      <td>5.0</td>\n",
       "    </tr>\n",
       "    <tr>\n",
       "      <th>456536</th>\n",
       "      <td>A1XBKY1TQBGCKZ</td>\n",
       "      <td>God's Not Dead</td>\n",
       "      <td>5.0</td>\n",
       "    </tr>\n",
       "  </tbody>\n",
       "</table>\n",
       "<p>13827 rows × 3 columns</p>\n",
       "</div>"
      ],
      "text/plain": [
       "            reviewerID            title  overall\n",
       "33      A23A0QXR5ULD9F  Steel Magnolias      5.0\n",
       "66      A32AKB5NFIAW97  Steel Magnolias      5.0\n",
       "88      A2LOA2R50C4FN9  Steel Magnolias      4.0\n",
       "99      A372W1OI7K64AX  Steel Magnolias      5.0\n",
       "176     A2KQ36MM72JAXP  Steel Magnolias      4.0\n",
       "...                ...              ...      ...\n",
       "456416  A2EHSHZF7FEJJG   God's Not Dead      5.0\n",
       "456458  A1GJ0SYG0RBWAX   God's Not Dead      3.0\n",
       "456494  A3JL15TG84TRSN   God's Not Dead      5.0\n",
       "456500  A1V4F0QIO7JSWH   God's Not Dead      5.0\n",
       "456536  A1XBKY1TQBGCKZ   God's Not Dead      5.0\n",
       "\n",
       "[13827 rows x 3 columns]"
      ]
     },
     "execution_count": 367,
     "metadata": {},
     "output_type": "execute_result"
    }
   ],
   "source": [
    "subsample_ratings"
   ]
  },
  {
   "cell_type": "code",
   "execution_count": 368,
   "metadata": {},
   "outputs": [],
   "source": [
    "#def get_top_n(predictions, userId, movies_df, ratings_df, n = 10):\n",
    "\n",
    "def get_top_n(predictions, reviewerID, ratings_df, n = 10):\n",
    "    '''Return the top N (default) movieId for a user,.i.e. userID and history for comparisom\n",
    "    Args:\n",
    "    Returns: \n",
    "  \n",
    "    '''\n",
    "    #Peart I.: Surprise docomuntation\n",
    "    \n",
    "    #1. First map the predictions to each user.\n",
    "    top_n = defaultdict(list)\n",
    "    for uid, iid, true_r, est, _ in predictions:\n",
    "        top_n[uid].append((iid, est))\n",
    "\n",
    "    #2. Then sort the predictions for each user and retrieve the k highest ones.\n",
    "    for uid, user_ratings in top_n.items():\n",
    "        user_ratings.sort(key = lambda x: x[1], reverse = True)\n",
    "        top_n[uid] = user_ratings[: n ]\n",
    "    \n",
    "    #Part II.: inspired by: https://beckernick.github.io/matrix-factorization-recommender/\n",
    "    \n",
    "    #3. Tells how many movies the user has already rated\n",
    "    user_data = ratings_df[ratings_df.reviewerID == (reviewerID)]\n",
    "    print('User {0} has already rated {1} movies.'.format(reviewerID, user_data.shape[0]))\n",
    "\n",
    "    \n",
    "    #4. Data Frame with predictions. \n",
    "    preds_df = pd.DataFrame([(id, pair[0],pair[1]) for id, row in top_n.items() for pair in row],\n",
    "                        columns=[\"reviewerID\",\"title\",\"rat_pred\"])\n",
    "    \n",
    "    preds_df = preds_df[preds_df['reviewerID'] == reviewerID]\n",
    "          \n",
    "    #6. Return hist_usr, i.e. top N historically rated movies with (merged) titles and genres for holistic evaluation\n",
    "    hist_usr = ratings_df[ratings_df.reviewerID == (reviewerID) ].sort_values(\"overall\", ascending = False)\n",
    "    \n",
    "    \n",
    "    return preds_df, hist_usr # pred_usr"
   ]
  },
  {
   "cell_type": "code",
   "execution_count": null,
   "metadata": {},
   "outputs": [],
   "source": []
  },
  {
   "cell_type": "code",
   "execution_count": 361,
   "metadata": {},
   "outputs": [
    {
     "data": {
      "text/plain": [
       "109567    A38JEMY9AZ9JR2\n",
       "Name: reviewerID, dtype: object"
      ]
     },
     "execution_count": 361,
     "metadata": {},
     "output_type": "execute_result"
    }
   ],
   "source": [
    "subsample_ratings['reviewerID'].sample()"
   ]
  },
  {
   "cell_type": "code",
   "execution_count": 379,
   "metadata": {},
   "outputs": [
    {
     "name": "stdout",
     "output_type": "stream",
     "text": [
      "User A38JEMY9AZ9JR2 has already rated 8 movies.\n"
     ]
    }
   ],
   "source": [
    "pred_, hist_ = get_top_n(predictions, reviewerID = 'A38JEMY9AZ9JR2',\n",
    "                         ratings_df = subsample_ratings, n = 370)"
   ]
  },
  {
   "cell_type": "code",
   "execution_count": 377,
   "metadata": {},
   "outputs": [
    {
     "data": {
      "text/html": [
       "<div>\n",
       "<style scoped>\n",
       "    .dataframe tbody tr th:only-of-type {\n",
       "        vertical-align: middle;\n",
       "    }\n",
       "\n",
       "    .dataframe tbody tr th {\n",
       "        vertical-align: top;\n",
       "    }\n",
       "\n",
       "    .dataframe thead th {\n",
       "        text-align: right;\n",
       "    }\n",
       "</style>\n",
       "<table border=\"1\" class=\"dataframe\">\n",
       "  <thead>\n",
       "    <tr style=\"text-align: right;\">\n",
       "      <th></th>\n",
       "      <th>reviewerID</th>\n",
       "      <th>title</th>\n",
       "      <th>rat_pred</th>\n",
       "    </tr>\n",
       "  </thead>\n",
       "  <tbody>\n",
       "    <tr>\n",
       "      <th>77791</th>\n",
       "      <td>A38JEMY9AZ9JR2</td>\n",
       "      <td>The Magnificent Seven</td>\n",
       "      <td>4.789489</td>\n",
       "    </tr>\n",
       "    <tr>\n",
       "      <th>77792</th>\n",
       "      <td>A38JEMY9AZ9JR2</td>\n",
       "      <td>Secondhand Lions</td>\n",
       "      <td>4.787134</td>\n",
       "    </tr>\n",
       "    <tr>\n",
       "      <th>77793</th>\n",
       "      <td>A38JEMY9AZ9JR2</td>\n",
       "      <td>E.T. the Extra-Terrestrial</td>\n",
       "      <td>4.753899</td>\n",
       "    </tr>\n",
       "    <tr>\n",
       "      <th>77794</th>\n",
       "      <td>A38JEMY9AZ9JR2</td>\n",
       "      <td>Doctor Zhivago</td>\n",
       "      <td>4.745755</td>\n",
       "    </tr>\n",
       "    <tr>\n",
       "      <th>77795</th>\n",
       "      <td>A38JEMY9AZ9JR2</td>\n",
       "      <td>The African Queen</td>\n",
       "      <td>4.737287</td>\n",
       "    </tr>\n",
       "    <tr>\n",
       "      <th>...</th>\n",
       "      <td>...</td>\n",
       "      <td>...</td>\n",
       "      <td>...</td>\n",
       "    </tr>\n",
       "    <tr>\n",
       "      <th>78152</th>\n",
       "      <td>A38JEMY9AZ9JR2</td>\n",
       "      <td>After Earth</td>\n",
       "      <td>3.891998</td>\n",
       "    </tr>\n",
       "    <tr>\n",
       "      <th>78153</th>\n",
       "      <td>A38JEMY9AZ9JR2</td>\n",
       "      <td>Bone Tomahawk</td>\n",
       "      <td>3.762630</td>\n",
       "    </tr>\n",
       "    <tr>\n",
       "      <th>78154</th>\n",
       "      <td>A38JEMY9AZ9JR2</td>\n",
       "      <td>The Great Gatsby</td>\n",
       "      <td>3.745799</td>\n",
       "    </tr>\n",
       "    <tr>\n",
       "      <th>78155</th>\n",
       "      <td>A38JEMY9AZ9JR2</td>\n",
       "      <td>Cloud Atlas</td>\n",
       "      <td>3.649949</td>\n",
       "    </tr>\n",
       "    <tr>\n",
       "      <th>78156</th>\n",
       "      <td>A38JEMY9AZ9JR2</td>\n",
       "      <td>The Dreamers</td>\n",
       "      <td>3.619158</td>\n",
       "    </tr>\n",
       "  </tbody>\n",
       "</table>\n",
       "<p>366 rows × 3 columns</p>\n",
       "</div>"
      ],
      "text/plain": [
       "           reviewerID                       title  rat_pred\n",
       "77791  A38JEMY9AZ9JR2       The Magnificent Seven  4.789489\n",
       "77792  A38JEMY9AZ9JR2            Secondhand Lions  4.787134\n",
       "77793  A38JEMY9AZ9JR2  E.T. the Extra-Terrestrial  4.753899\n",
       "77794  A38JEMY9AZ9JR2              Doctor Zhivago  4.745755\n",
       "77795  A38JEMY9AZ9JR2           The African Queen  4.737287\n",
       "...               ...                         ...       ...\n",
       "78152  A38JEMY9AZ9JR2                 After Earth  3.891998\n",
       "78153  A38JEMY9AZ9JR2               Bone Tomahawk  3.762630\n",
       "78154  A38JEMY9AZ9JR2            The Great Gatsby  3.745799\n",
       "78155  A38JEMY9AZ9JR2                 Cloud Atlas  3.649949\n",
       "78156  A38JEMY9AZ9JR2                The Dreamers  3.619158\n",
       "\n",
       "[366 rows x 3 columns]"
      ]
     },
     "execution_count": 377,
     "metadata": {},
     "output_type": "execute_result"
    }
   ],
   "source": [
    "pred_"
   ]
  },
  {
   "cell_type": "code",
   "execution_count": 371,
   "metadata": {},
   "outputs": [
    {
     "data": {
      "text/html": [
       "<div>\n",
       "<style scoped>\n",
       "    .dataframe tbody tr th:only-of-type {\n",
       "        vertical-align: middle;\n",
       "    }\n",
       "\n",
       "    .dataframe tbody tr th {\n",
       "        vertical-align: top;\n",
       "    }\n",
       "\n",
       "    .dataframe thead th {\n",
       "        text-align: right;\n",
       "    }\n",
       "</style>\n",
       "<table border=\"1\" class=\"dataframe\">\n",
       "  <thead>\n",
       "    <tr style=\"text-align: right;\">\n",
       "      <th></th>\n",
       "      <th>reviewerID</th>\n",
       "      <th>title</th>\n",
       "      <th>overall</th>\n",
       "    </tr>\n",
       "  </thead>\n",
       "  <tbody>\n",
       "    <tr>\n",
       "      <th>109567</th>\n",
       "      <td>A38JEMY9AZ9JR2</td>\n",
       "      <td>Under the Tuscan Sun</td>\n",
       "      <td>5.0</td>\n",
       "    </tr>\n",
       "    <tr>\n",
       "      <th>152755</th>\n",
       "      <td>A38JEMY9AZ9JR2</td>\n",
       "      <td>New in Town</td>\n",
       "      <td>5.0</td>\n",
       "    </tr>\n",
       "    <tr>\n",
       "      <th>241861</th>\n",
       "      <td>A38JEMY9AZ9JR2</td>\n",
       "      <td>The Best Exotic Marigold Hotel</td>\n",
       "      <td>5.0</td>\n",
       "    </tr>\n",
       "    <tr>\n",
       "      <th>439905</th>\n",
       "      <td>A38JEMY9AZ9JR2</td>\n",
       "      <td>The Second Best Exotic Marigold Hotel</td>\n",
       "      <td>5.0</td>\n",
       "    </tr>\n",
       "    <tr>\n",
       "      <th>441187</th>\n",
       "      <td>A38JEMY9AZ9JR2</td>\n",
       "      <td>The Best Exotic Marigold Hotel</td>\n",
       "      <td>5.0</td>\n",
       "    </tr>\n",
       "    <tr>\n",
       "      <th>452395</th>\n",
       "      <td>A38JEMY9AZ9JR2</td>\n",
       "      <td>A Christmas Story</td>\n",
       "      <td>5.0</td>\n",
       "    </tr>\n",
       "    <tr>\n",
       "      <th>15195</th>\n",
       "      <td>A38JEMY9AZ9JR2</td>\n",
       "      <td>The First Wives Club</td>\n",
       "      <td>4.0</td>\n",
       "    </tr>\n",
       "    <tr>\n",
       "      <th>7676</th>\n",
       "      <td>A38JEMY9AZ9JR2</td>\n",
       "      <td>Pretty Woman</td>\n",
       "      <td>1.0</td>\n",
       "    </tr>\n",
       "  </tbody>\n",
       "</table>\n",
       "</div>"
      ],
      "text/plain": [
       "            reviewerID                                  title  overall\n",
       "109567  A38JEMY9AZ9JR2                   Under the Tuscan Sun      5.0\n",
       "152755  A38JEMY9AZ9JR2                            New in Town      5.0\n",
       "241861  A38JEMY9AZ9JR2         The Best Exotic Marigold Hotel      5.0\n",
       "439905  A38JEMY9AZ9JR2  The Second Best Exotic Marigold Hotel      5.0\n",
       "441187  A38JEMY9AZ9JR2         The Best Exotic Marigold Hotel      5.0\n",
       "452395  A38JEMY9AZ9JR2                      A Christmas Story      5.0\n",
       "15195   A38JEMY9AZ9JR2                   The First Wives Club      4.0\n",
       "7676    A38JEMY9AZ9JR2                           Pretty Woman      1.0"
      ]
     },
     "execution_count": 371,
     "metadata": {},
     "output_type": "execute_result"
    }
   ],
   "source": [
    "hist_"
   ]
  },
  {
   "cell_type": "code",
   "execution_count": 374,
   "metadata": {},
   "outputs": [
    {
     "data": {
      "text/plain": [
       "373"
      ]
     },
     "execution_count": 374,
     "metadata": {},
     "output_type": "execute_result"
    }
   ],
   "source": [
    "subsample_ratings.title.nunique()"
   ]
  },
  {
   "cell_type": "code",
   "execution_count": 338,
   "metadata": {},
   "outputs": [],
   "source": [
    "subsample_ratings.drop_duplicates().to_csv(data_dir + '/sampled_titles_baseline.csv', index=False)"
   ]
  },
  {
   "cell_type": "code",
   "execution_count": null,
   "metadata": {},
   "outputs": [],
   "source": []
  }
 ],
 "metadata": {
  "kernelspec": {
   "display_name": "Python 3",
   "language": "python",
   "name": "python3"
  },
  "language_info": {
   "codemirror_mode": {
    "name": "ipython",
    "version": 3
   },
   "file_extension": ".py",
   "mimetype": "text/x-python",
   "name": "python",
   "nbconvert_exporter": "python",
   "pygments_lexer": "ipython3",
   "version": "3.7.4"
  },
  "toc": {
   "base_numbering": 1,
   "nav_menu": {},
   "number_sections": true,
   "sideBar": true,
   "skip_h1_title": false,
   "title_cell": "Table of Contents",
   "title_sidebar": "Contents",
   "toc_cell": false,
   "toc_position": {},
   "toc_section_display": true,
   "toc_window_display": false
  }
 },
 "nbformat": 4,
 "nbformat_minor": 4
}
