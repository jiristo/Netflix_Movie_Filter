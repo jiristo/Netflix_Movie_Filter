{
 "cells": [
  {
   "cell_type": "code",
   "execution_count": 1,
   "metadata": {},
   "outputs": [],
   "source": [
    "import pandas as pd\n",
    "import numpy as np\n",
    "import gzip\n",
    "import os"
   ]
  },
  {
   "cell_type": "code",
   "execution_count": 2,
   "metadata": {},
   "outputs": [],
   "source": [
    "import pandas as pd\n",
    "import numpy as np\n",
    "import matplotlib.pyplot as plt\n",
    "import seaborn as sns\n",
    "\n",
    "\n",
    "from collections import defaultdict #data colector\n",
    "\n",
    "#Surprise: https://surprise.readthedocs.io/en/stable/\n",
    "import surprise\n",
    "from surprise import dump\n",
    "\n",
    "\n",
    "from surprise.reader import Reader\n",
    "from surprise import Dataset\n",
    "from surprise.model_selection import GridSearchCV\n",
    "from surprise.model_selection import KFold\n",
    "\n",
    "  ##CrossValidation\n",
    "from surprise.model_selection import cross_validate\n",
    "\n",
    "from surprise import accuracy\n",
    "\n",
    "\n",
    "  ##Matrix Factorization Algorithms\n",
    "from surprise import SVD"
   ]
  },
  {
   "cell_type": "markdown",
   "metadata": {},
   "source": [
    "# TOY DATA/MODEL"
   ]
  },
  {
   "cell_type": "code",
   "execution_count": 4,
   "metadata": {
    "scrolled": false
   },
   "outputs": [
    {
     "data": {
      "text/html": [
       "<div>\n",
       "<style scoped>\n",
       "    .dataframe tbody tr th:only-of-type {\n",
       "        vertical-align: middle;\n",
       "    }\n",
       "\n",
       "    .dataframe tbody tr th {\n",
       "        vertical-align: top;\n",
       "    }\n",
       "\n",
       "    .dataframe thead th {\n",
       "        text-align: right;\n",
       "    }\n",
       "</style>\n",
       "<table border=\"1\" class=\"dataframe\">\n",
       "  <thead>\n",
       "    <tr style=\"text-align: right;\">\n",
       "      <th></th>\n",
       "      <th>reviewerID</th>\n",
       "      <th>title</th>\n",
       "      <th>overall</th>\n",
       "    </tr>\n",
       "  </thead>\n",
       "  <tbody>\n",
       "    <tr>\n",
       "      <th>0</th>\n",
       "      <td>a</td>\n",
       "      <td>111</td>\n",
       "      <td>1</td>\n",
       "    </tr>\n",
       "    <tr>\n",
       "      <th>1</th>\n",
       "      <td>a</td>\n",
       "      <td>222</td>\n",
       "      <td>2</td>\n",
       "    </tr>\n",
       "    <tr>\n",
       "      <th>2</th>\n",
       "      <td>a</td>\n",
       "      <td>333</td>\n",
       "      <td>3</td>\n",
       "    </tr>\n",
       "    <tr>\n",
       "      <th>3</th>\n",
       "      <td>a</td>\n",
       "      <td>444</td>\n",
       "      <td>4</td>\n",
       "    </tr>\n",
       "    <tr>\n",
       "      <th>4</th>\n",
       "      <td>a</td>\n",
       "      <td>555</td>\n",
       "      <td>5</td>\n",
       "    </tr>\n",
       "    <tr>\n",
       "      <th>5</th>\n",
       "      <td>b</td>\n",
       "      <td>111</td>\n",
       "      <td>2</td>\n",
       "    </tr>\n",
       "    <tr>\n",
       "      <th>6</th>\n",
       "      <td>b</td>\n",
       "      <td>222</td>\n",
       "      <td>3</td>\n",
       "    </tr>\n",
       "    <tr>\n",
       "      <th>7</th>\n",
       "      <td>b</td>\n",
       "      <td>333</td>\n",
       "      <td>4</td>\n",
       "    </tr>\n",
       "    <tr>\n",
       "      <th>8</th>\n",
       "      <td>b</td>\n",
       "      <td>444</td>\n",
       "      <td>5</td>\n",
       "    </tr>\n",
       "    <tr>\n",
       "      <th>9</th>\n",
       "      <td>c</td>\n",
       "      <td>111</td>\n",
       "      <td>3</td>\n",
       "    </tr>\n",
       "    <tr>\n",
       "      <th>10</th>\n",
       "      <td>c</td>\n",
       "      <td>222</td>\n",
       "      <td>4</td>\n",
       "    </tr>\n",
       "    <tr>\n",
       "      <th>11</th>\n",
       "      <td>c</td>\n",
       "      <td>333</td>\n",
       "      <td>5</td>\n",
       "    </tr>\n",
       "  </tbody>\n",
       "</table>\n",
       "</div>"
      ],
      "text/plain": [
       "   reviewerID title  overall\n",
       "0           a   111        1\n",
       "1           a   222        2\n",
       "2           a   333        3\n",
       "3           a   444        4\n",
       "4           a   555        5\n",
       "5           b   111        2\n",
       "6           b   222        3\n",
       "7           b   333        4\n",
       "8           b   444        5\n",
       "9           c   111        3\n",
       "10          c   222        4\n",
       "11          c   333        5"
      ]
     },
     "execution_count": 4,
     "metadata": {},
     "output_type": "execute_result"
    }
   ],
   "source": [
    "ratings_toy = pd.DataFrame({\"reviewerID\": ['a','a','a','a','a', 'b','b','b','b','c','c','c'],\n",
    "                        \"title\":['111', '222', '333', '444','555', '111','222','333','444','111','222','333'],\n",
    "                        \"overall\":[1,2,3,4,5,2,3,4,5,3,4,5]})\n",
    "ratings_toy"
   ]
  },
  {
   "cell_type": "markdown",
   "metadata": {},
   "source": [
    "## Toy Utility (rating) Matrix R"
   ]
  },
  {
   "cell_type": "code",
   "execution_count": 5,
   "metadata": {},
   "outputs": [
    {
     "data": {
      "text/html": [
       "<div>\n",
       "<style scoped>\n",
       "    .dataframe tbody tr th:only-of-type {\n",
       "        vertical-align: middle;\n",
       "    }\n",
       "\n",
       "    .dataframe tbody tr th {\n",
       "        vertical-align: top;\n",
       "    }\n",
       "\n",
       "    .dataframe thead th {\n",
       "        text-align: right;\n",
       "    }\n",
       "</style>\n",
       "<table border=\"1\" class=\"dataframe\">\n",
       "  <thead>\n",
       "    <tr style=\"text-align: right;\">\n",
       "      <th>title</th>\n",
       "      <th>111</th>\n",
       "      <th>222</th>\n",
       "      <th>333</th>\n",
       "      <th>444</th>\n",
       "      <th>555</th>\n",
       "    </tr>\n",
       "    <tr>\n",
       "      <th>reviewerID</th>\n",
       "      <th></th>\n",
       "      <th></th>\n",
       "      <th></th>\n",
       "      <th></th>\n",
       "      <th></th>\n",
       "    </tr>\n",
       "  </thead>\n",
       "  <tbody>\n",
       "    <tr>\n",
       "      <th>a</th>\n",
       "      <td>1.0</td>\n",
       "      <td>2.0</td>\n",
       "      <td>3.0</td>\n",
       "      <td>4.0</td>\n",
       "      <td>5.0</td>\n",
       "    </tr>\n",
       "    <tr>\n",
       "      <th>b</th>\n",
       "      <td>2.0</td>\n",
       "      <td>3.0</td>\n",
       "      <td>4.0</td>\n",
       "      <td>5.0</td>\n",
       "      <td>NaN</td>\n",
       "    </tr>\n",
       "    <tr>\n",
       "      <th>c</th>\n",
       "      <td>3.0</td>\n",
       "      <td>4.0</td>\n",
       "      <td>5.0</td>\n",
       "      <td>NaN</td>\n",
       "      <td>NaN</td>\n",
       "    </tr>\n",
       "  </tbody>\n",
       "</table>\n",
       "</div>"
      ],
      "text/plain": [
       "title       111  222  333  444  555\n",
       "reviewerID                         \n",
       "a           1.0  2.0  3.0  4.0  5.0\n",
       "b           2.0  3.0  4.0  5.0  NaN\n",
       "c           3.0  4.0  5.0  NaN  NaN"
      ]
     },
     "execution_count": 5,
     "metadata": {},
     "output_type": "execute_result"
    }
   ],
   "source": [
    "ratings_toy_pivot = ratings_toy.pivot_table(index = 'reviewerID', columns =  'title', values = 'overall')\n",
    "ratings_toy_pivot"
   ]
  },
  {
   "cell_type": "markdown",
   "metadata": {},
   "source": [
    "#### GLOBAL mean that substitues empty cells in the utility matrix"
   ]
  },
  {
   "cell_type": "code",
   "execution_count": 6,
   "metadata": {},
   "outputs": [
    {
     "data": {
      "text/plain": [
       "overall    3.416667\n",
       "dtype: float64"
      ]
     },
     "execution_count": 6,
     "metadata": {},
     "output_type": "execute_result"
    }
   ],
   "source": [
    "ratings_toy.mean()"
   ]
  },
  {
   "cell_type": "code",
   "execution_count": 9,
   "metadata": {},
   "outputs": [],
   "source": [
    "reader = Reader(rating_scale=(1, 5)) #line_format by default order of the fields\n",
    "data_toy = Dataset.load_from_df(ratings_toy[[\"reviewerID\",\"title\",\"overall\"]], reader=reader)"
   ]
  },
  {
   "cell_type": "code",
   "execution_count": 10,
   "metadata": {},
   "outputs": [
    {
     "data": {
      "text/plain": [
       "[('a', '111', 1.0, None),\n",
       " ('a', '222', 2.0, None),\n",
       " ('a', '333', 3.0, None),\n",
       " ('a', '444', 4.0, None),\n",
       " ('a', '555', 5.0, None),\n",
       " ('b', '111', 2.0, None),\n",
       " ('b', '222', 3.0, None),\n",
       " ('b', '333', 4.0, None),\n",
       " ('b', '444', 5.0, None),\n",
       " ('c', '111', 3.0, None),\n",
       " ('c', '222', 4.0, None),\n",
       " ('c', '333', 5.0, None)]"
      ]
     },
     "execution_count": 10,
     "metadata": {},
     "output_type": "execute_result"
    }
   ],
   "source": [
    "data_toy.raw_ratings"
   ]
  },
  {
   "cell_type": "code",
   "execution_count": 11,
   "metadata": {},
   "outputs": [
    {
     "name": "stdout",
     "output_type": "stream",
     "text": [
      "3\n",
      "5\n",
      "15\n"
     ]
    }
   ],
   "source": [
    "print(ratings_toy.reviewerID.nunique())\n",
    "print(ratings_toy.title.nunique())\n",
    "print(ratings_toy.reviewerID.nunique()*ratings_toy.title.nunique())"
   ]
  },
  {
   "cell_type": "markdown",
   "metadata": {},
   "source": [
    "## Data (Surprise Class)"
   ]
  },
  {
   "cell_type": "code",
   "execution_count": 18,
   "metadata": {},
   "outputs": [],
   "source": [
    "trainset_toy = data_toy.build_full_trainset()\n",
    "testset_yoy = trainset_toy.build_anti_testset()"
   ]
  },
  {
   "cell_type": "code",
   "execution_count": 19,
   "metadata": {},
   "outputs": [],
   "source": [
    "param_grid = {'n_factors': [5, 10], 'n_epochs': {10,15,20}, 'lr_all': [0.002, 0.005]}\n",
    "gs = GridSearchCV(SVD, param_grid, measures=['rmse'], cv = 3)\n",
    "gs.fit(data_toy)"
   ]
  },
  {
   "cell_type": "code",
   "execution_count": 20,
   "metadata": {},
   "outputs": [
    {
     "name": "stdout",
     "output_type": "stream",
     "text": [
      "{'n_factors': 5, 'n_epochs': 15, 'lr_all': 0.002}\n"
     ]
    }
   ],
   "source": [
    "print(gs.best_params['rmse'])"
   ]
  },
  {
   "cell_type": "code",
   "execution_count": 21,
   "metadata": {},
   "outputs": [
    {
     "data": {
      "text/plain": [
       "<surprise.prediction_algorithms.matrix_factorization.SVD at 0x7f839d7360d0>"
      ]
     },
     "execution_count": 21,
     "metadata": {},
     "output_type": "execute_result"
    }
   ],
   "source": [
    "algo_SVD = SVD(n_factors = 5,\n",
    "               n_epochs = 20,\n",
    "               lr_all = 0.005)\n",
    "\n",
    "algo_SVD.fit(trainset_toy)"
   ]
  },
  {
   "cell_type": "code",
   "execution_count": 22,
   "metadata": {},
   "outputs": [
    {
     "data": {
      "text/plain": [
       "[Prediction(uid='b', iid='555', r_ui=3.4166666666666665, est=3.6329102298504585, details={'was_impossible': False}),\n",
       " Prediction(uid='c', iid='444', r_ui=3.4166666666666665, est=3.7729186381990725, details={'was_impossible': False}),\n",
       " Prediction(uid='c', iid='555', r_ui=3.4166666666666665, est=3.7310431087048324, details={'was_impossible': False})]"
      ]
     },
     "execution_count": 22,
     "metadata": {},
     "output_type": "execute_result"
    }
   ],
   "source": [
    "predictions_toy = algo_SVD.test(testset_yoy)\n",
    "predictions_toy"
   ]
  },
  {
   "cell_type": "code",
   "execution_count": 17,
   "metadata": {},
   "outputs": [
    {
     "name": "stdout",
     "output_type": "stream",
     "text": [
      "RMSE: 0.2863\n"
     ]
    },
    {
     "data": {
      "text/plain": [
       "0.2863278355504948"
      ]
     },
     "execution_count": 17,
     "metadata": {},
     "output_type": "execute_result"
    }
   ],
   "source": [
    "# RMSE should be low as we are biased\n",
    "accuracy.rmse(predictions_toy, verbose=True)"
   ]
  },
  {
   "cell_type": "markdown",
   "metadata": {},
   "source": [
    "## Function for Recommendstions"
   ]
  },
  {
   "cell_type": "code",
   "execution_count": 23,
   "metadata": {},
   "outputs": [],
   "source": [
    "#def get_top_n(predictions, userId, movies_df, ratings_df, n = 10):\n",
    "\n",
    "def get_top_n(predictions, reviewerID, ratings_df, n = 10):\n",
    "    '''Return the top N (default) movieId for a user,.i.e. userID and history for comparisom\n",
    "    Args:\n",
    "    Returns: \n",
    "  \n",
    "    '''\n",
    "    #Peart I.: Surprise docomuntation\n",
    "    \n",
    "    #1. First map the predictions to each user.\n",
    "    top_n = defaultdict(list)\n",
    "    for uid, iid, true_r, est, _ in predictions:\n",
    "        top_n[uid].append((iid, est))\n",
    "\n",
    "    #2. Then sort the predictions for each user and retrieve the k highest ones.\n",
    "    for uid, user_ratings in top_n.items():\n",
    "        user_ratings.sort(key = lambda x: x[1], reverse = True)\n",
    "        top_n[uid] = user_ratings[: n ]\n",
    "    \n",
    "    #Part II.: inspired by: https://beckernick.github.io/matrix-factorization-recommender/\n",
    "    \n",
    "    #3. Tells how many movies the user has already rated\n",
    "    user_data = ratings_df[ratings_df.reviewerID == (reviewerID)]\n",
    "    print('User {0} has already rated {1} movies.'.format(reviewerID, user_data.shape[0]))\n",
    "\n",
    "    \n",
    "    #4. Data Frame with predictions. \n",
    "    preds_df = pd.DataFrame([(id, pair[0],pair[1]) for id, row in top_n.items() for pair in row],\n",
    "                        columns=[\"reviewerID\",\"title\",\"rat_pred\"])\n",
    "    preds_df = preds_df[preds_df['reviewerID']==reviewerID]\n",
    "          \n",
    "    #6. Return hist_usr, i.e. top N historically rated movies with (merged) titles and genres for holistic evaluation\n",
    "    hist_usr = ratings_df[ratings_df.reviewerID == (reviewerID) ].sort_values(\"overall\", ascending = False)\n",
    "    \n",
    "    \n",
    "    return preds_df, hist_usr # pred_usr"
   ]
  },
  {
   "cell_type": "markdown",
   "metadata": {},
   "source": [
    "### examination"
   ]
  },
  {
   "cell_type": "code",
   "execution_count": 24,
   "metadata": {},
   "outputs": [
    {
     "data": {
      "text/html": [
       "<div>\n",
       "<style scoped>\n",
       "    .dataframe tbody tr th:only-of-type {\n",
       "        vertical-align: middle;\n",
       "    }\n",
       "\n",
       "    .dataframe tbody tr th {\n",
       "        vertical-align: top;\n",
       "    }\n",
       "\n",
       "    .dataframe thead th {\n",
       "        text-align: right;\n",
       "    }\n",
       "</style>\n",
       "<table border=\"1\" class=\"dataframe\">\n",
       "  <thead>\n",
       "    <tr style=\"text-align: right;\">\n",
       "      <th>title</th>\n",
       "      <th>111</th>\n",
       "      <th>222</th>\n",
       "      <th>333</th>\n",
       "      <th>444</th>\n",
       "      <th>555</th>\n",
       "    </tr>\n",
       "    <tr>\n",
       "      <th>reviewerID</th>\n",
       "      <th></th>\n",
       "      <th></th>\n",
       "      <th></th>\n",
       "      <th></th>\n",
       "      <th></th>\n",
       "    </tr>\n",
       "  </thead>\n",
       "  <tbody>\n",
       "    <tr>\n",
       "      <th>a</th>\n",
       "      <td>1.0</td>\n",
       "      <td>2.0</td>\n",
       "      <td>3.0</td>\n",
       "      <td>4.0</td>\n",
       "      <td>5.0</td>\n",
       "    </tr>\n",
       "    <tr>\n",
       "      <th>b</th>\n",
       "      <td>2.0</td>\n",
       "      <td>3.0</td>\n",
       "      <td>4.0</td>\n",
       "      <td>5.0</td>\n",
       "      <td>NaN</td>\n",
       "    </tr>\n",
       "    <tr>\n",
       "      <th>c</th>\n",
       "      <td>3.0</td>\n",
       "      <td>4.0</td>\n",
       "      <td>5.0</td>\n",
       "      <td>NaN</td>\n",
       "      <td>NaN</td>\n",
       "    </tr>\n",
       "  </tbody>\n",
       "</table>\n",
       "</div>"
      ],
      "text/plain": [
       "title       111  222  333  444  555\n",
       "reviewerID                         \n",
       "a           1.0  2.0  3.0  4.0  5.0\n",
       "b           2.0  3.0  4.0  5.0  NaN\n",
       "c           3.0  4.0  5.0  NaN  NaN"
      ]
     },
     "execution_count": 24,
     "metadata": {},
     "output_type": "execute_result"
    }
   ],
   "source": [
    "ratings_toy_pivot"
   ]
  },
  {
   "cell_type": "code",
   "execution_count": 25,
   "metadata": {},
   "outputs": [
    {
     "data": {
      "text/plain": [
       "[Prediction(uid='b', iid='555', r_ui=3.4166666666666665, est=3.6329102298504585, details={'was_impossible': False}),\n",
       " Prediction(uid='c', iid='444', r_ui=3.4166666666666665, est=3.7729186381990725, details={'was_impossible': False}),\n",
       " Prediction(uid='c', iid='555', r_ui=3.4166666666666665, est=3.7310431087048324, details={'was_impossible': False})]"
      ]
     },
     "execution_count": 25,
     "metadata": {},
     "output_type": "execute_result"
    }
   ],
   "source": [
    "predictions_toy"
   ]
  },
  {
   "cell_type": "markdown",
   "metadata": {},
   "source": [
    "### Prediction on toy data"
   ]
  },
  {
   "cell_type": "code",
   "execution_count": 26,
   "metadata": {},
   "outputs": [
    {
     "name": "stdout",
     "output_type": "stream",
     "text": [
      "User c has already rated 3 movies.\n"
     ]
    }
   ],
   "source": [
    "toy_pred, topy_hist =  get_top_n(predictions_toy, reviewerID = 'c', ratings_df = ratings_toy , n = 10)"
   ]
  },
  {
   "cell_type": "code",
   "execution_count": 27,
   "metadata": {},
   "outputs": [
    {
     "data": {
      "text/html": [
       "<div>\n",
       "<style scoped>\n",
       "    .dataframe tbody tr th:only-of-type {\n",
       "        vertical-align: middle;\n",
       "    }\n",
       "\n",
       "    .dataframe tbody tr th {\n",
       "        vertical-align: top;\n",
       "    }\n",
       "\n",
       "    .dataframe thead th {\n",
       "        text-align: right;\n",
       "    }\n",
       "</style>\n",
       "<table border=\"1\" class=\"dataframe\">\n",
       "  <thead>\n",
       "    <tr style=\"text-align: right;\">\n",
       "      <th></th>\n",
       "      <th>reviewerID</th>\n",
       "      <th>title</th>\n",
       "      <th>rat_pred</th>\n",
       "    </tr>\n",
       "  </thead>\n",
       "  <tbody>\n",
       "    <tr>\n",
       "      <th>1</th>\n",
       "      <td>c</td>\n",
       "      <td>444</td>\n",
       "      <td>3.772919</td>\n",
       "    </tr>\n",
       "    <tr>\n",
       "      <th>2</th>\n",
       "      <td>c</td>\n",
       "      <td>555</td>\n",
       "      <td>3.731043</td>\n",
       "    </tr>\n",
       "  </tbody>\n",
       "</table>\n",
       "</div>"
      ],
      "text/plain": [
       "  reviewerID title  rat_pred\n",
       "1          c   444  3.772919\n",
       "2          c   555  3.731043"
      ]
     },
     "execution_count": 27,
     "metadata": {},
     "output_type": "execute_result"
    }
   ],
   "source": [
    "toy_pred"
   ]
  },
  {
   "cell_type": "code",
   "execution_count": 28,
   "metadata": {},
   "outputs": [
    {
     "data": {
      "text/html": [
       "<div>\n",
       "<style scoped>\n",
       "    .dataframe tbody tr th:only-of-type {\n",
       "        vertical-align: middle;\n",
       "    }\n",
       "\n",
       "    .dataframe tbody tr th {\n",
       "        vertical-align: top;\n",
       "    }\n",
       "\n",
       "    .dataframe thead th {\n",
       "        text-align: right;\n",
       "    }\n",
       "</style>\n",
       "<table border=\"1\" class=\"dataframe\">\n",
       "  <thead>\n",
       "    <tr style=\"text-align: right;\">\n",
       "      <th></th>\n",
       "      <th>reviewerID</th>\n",
       "      <th>title</th>\n",
       "      <th>overall</th>\n",
       "    </tr>\n",
       "  </thead>\n",
       "  <tbody>\n",
       "    <tr>\n",
       "      <th>11</th>\n",
       "      <td>c</td>\n",
       "      <td>333</td>\n",
       "      <td>5</td>\n",
       "    </tr>\n",
       "    <tr>\n",
       "      <th>10</th>\n",
       "      <td>c</td>\n",
       "      <td>222</td>\n",
       "      <td>4</td>\n",
       "    </tr>\n",
       "    <tr>\n",
       "      <th>9</th>\n",
       "      <td>c</td>\n",
       "      <td>111</td>\n",
       "      <td>3</td>\n",
       "    </tr>\n",
       "  </tbody>\n",
       "</table>\n",
       "</div>"
      ],
      "text/plain": [
       "   reviewerID title  overall\n",
       "11          c   333        5\n",
       "10          c   222        4\n",
       "9           c   111        3"
      ]
     },
     "execution_count": 28,
     "metadata": {},
     "output_type": "execute_result"
    }
   ],
   "source": [
    "topy_hist"
   ]
  },
  {
   "cell_type": "code",
   "execution_count": null,
   "metadata": {},
   "outputs": [],
   "source": []
  },
  {
   "cell_type": "markdown",
   "metadata": {},
   "source": [
    "## Amazon Data"
   ]
  },
  {
   "cell_type": "code",
   "execution_count": 31,
   "metadata": {},
   "outputs": [],
   "source": [
    "data_dir = os.path.join('/Users/jiristodulka/GoogleDrive/GitHub/Netflix_Movie_Filter','data')"
   ]
  },
  {
   "cell_type": "code",
   "execution_count": 32,
   "metadata": {},
   "outputs": [
    {
     "ename": "FileNotFoundError",
     "evalue": "[Errno 2] File b'/Users/jiristodulka/GoogleDrive/GitHub/Netflix_Movie_Filter/data/ratings_sample.csv' does not exist: b'/Users/jiristodulka/GoogleDrive/GitHub/Netflix_Movie_Filter/data/ratings_sample.csv'",
     "output_type": "error",
     "traceback": [
      "\u001b[0;31m---------------------------------------------------------------------------\u001b[0m",
      "\u001b[0;31mFileNotFoundError\u001b[0m                         Traceback (most recent call last)",
      "\u001b[0;32m<ipython-input-32-5b2bfaa1c601>\u001b[0m in \u001b[0;36m<module>\u001b[0;34m\u001b[0m\n\u001b[0;32m----> 1\u001b[0;31m \u001b[0mratings\u001b[0m \u001b[0;34m=\u001b[0m \u001b[0mpd\u001b[0m\u001b[0;34m.\u001b[0m\u001b[0mread_csv\u001b[0m\u001b[0;34m(\u001b[0m\u001b[0mdata_dir\u001b[0m \u001b[0;34m+\u001b[0m \u001b[0;34m'/ratings_sample.csv'\u001b[0m\u001b[0;34m)\u001b[0m\u001b[0;34m.\u001b[0m\u001b[0mdrop_duplicates\u001b[0m\u001b[0;34m(\u001b[0m\u001b[0msubset\u001b[0m\u001b[0;34m=\u001b[0m\u001b[0;34m[\u001b[0m\u001b[0;34m'reviewerID'\u001b[0m\u001b[0;34m,\u001b[0m \u001b[0;34m'title'\u001b[0m\u001b[0;34m]\u001b[0m\u001b[0;34m)\u001b[0m\u001b[0;34m\u001b[0m\u001b[0;34m\u001b[0m\u001b[0m\n\u001b[0m",
      "\u001b[0;32m~/anaconda3/lib/python3.7/site-packages/pandas/io/parsers.py\u001b[0m in \u001b[0;36mparser_f\u001b[0;34m(filepath_or_buffer, sep, delimiter, header, names, index_col, usecols, squeeze, prefix, mangle_dupe_cols, dtype, engine, converters, true_values, false_values, skipinitialspace, skiprows, skipfooter, nrows, na_values, keep_default_na, na_filter, verbose, skip_blank_lines, parse_dates, infer_datetime_format, keep_date_col, date_parser, dayfirst, cache_dates, iterator, chunksize, compression, thousands, decimal, lineterminator, quotechar, quoting, doublequote, escapechar, comment, encoding, dialect, error_bad_lines, warn_bad_lines, delim_whitespace, low_memory, memory_map, float_precision)\u001b[0m\n\u001b[1;32m    683\u001b[0m         )\n\u001b[1;32m    684\u001b[0m \u001b[0;34m\u001b[0m\u001b[0m\n\u001b[0;32m--> 685\u001b[0;31m         \u001b[0;32mreturn\u001b[0m \u001b[0m_read\u001b[0m\u001b[0;34m(\u001b[0m\u001b[0mfilepath_or_buffer\u001b[0m\u001b[0;34m,\u001b[0m \u001b[0mkwds\u001b[0m\u001b[0;34m)\u001b[0m\u001b[0;34m\u001b[0m\u001b[0;34m\u001b[0m\u001b[0m\n\u001b[0m\u001b[1;32m    686\u001b[0m \u001b[0;34m\u001b[0m\u001b[0m\n\u001b[1;32m    687\u001b[0m     \u001b[0mparser_f\u001b[0m\u001b[0;34m.\u001b[0m\u001b[0m__name__\u001b[0m \u001b[0;34m=\u001b[0m \u001b[0mname\u001b[0m\u001b[0;34m\u001b[0m\u001b[0;34m\u001b[0m\u001b[0m\n",
      "\u001b[0;32m~/anaconda3/lib/python3.7/site-packages/pandas/io/parsers.py\u001b[0m in \u001b[0;36m_read\u001b[0;34m(filepath_or_buffer, kwds)\u001b[0m\n\u001b[1;32m    455\u001b[0m \u001b[0;34m\u001b[0m\u001b[0m\n\u001b[1;32m    456\u001b[0m     \u001b[0;31m# Create the parser.\u001b[0m\u001b[0;34m\u001b[0m\u001b[0;34m\u001b[0m\u001b[0;34m\u001b[0m\u001b[0m\n\u001b[0;32m--> 457\u001b[0;31m     \u001b[0mparser\u001b[0m \u001b[0;34m=\u001b[0m \u001b[0mTextFileReader\u001b[0m\u001b[0;34m(\u001b[0m\u001b[0mfp_or_buf\u001b[0m\u001b[0;34m,\u001b[0m \u001b[0;34m**\u001b[0m\u001b[0mkwds\u001b[0m\u001b[0;34m)\u001b[0m\u001b[0;34m\u001b[0m\u001b[0;34m\u001b[0m\u001b[0m\n\u001b[0m\u001b[1;32m    458\u001b[0m \u001b[0;34m\u001b[0m\u001b[0m\n\u001b[1;32m    459\u001b[0m     \u001b[0;32mif\u001b[0m \u001b[0mchunksize\u001b[0m \u001b[0;32mor\u001b[0m \u001b[0miterator\u001b[0m\u001b[0;34m:\u001b[0m\u001b[0;34m\u001b[0m\u001b[0;34m\u001b[0m\u001b[0m\n",
      "\u001b[0;32m~/anaconda3/lib/python3.7/site-packages/pandas/io/parsers.py\u001b[0m in \u001b[0;36m__init__\u001b[0;34m(self, f, engine, **kwds)\u001b[0m\n\u001b[1;32m    893\u001b[0m             \u001b[0mself\u001b[0m\u001b[0;34m.\u001b[0m\u001b[0moptions\u001b[0m\u001b[0;34m[\u001b[0m\u001b[0;34m\"has_index_names\"\u001b[0m\u001b[0;34m]\u001b[0m \u001b[0;34m=\u001b[0m \u001b[0mkwds\u001b[0m\u001b[0;34m[\u001b[0m\u001b[0;34m\"has_index_names\"\u001b[0m\u001b[0;34m]\u001b[0m\u001b[0;34m\u001b[0m\u001b[0;34m\u001b[0m\u001b[0m\n\u001b[1;32m    894\u001b[0m \u001b[0;34m\u001b[0m\u001b[0m\n\u001b[0;32m--> 895\u001b[0;31m         \u001b[0mself\u001b[0m\u001b[0;34m.\u001b[0m\u001b[0m_make_engine\u001b[0m\u001b[0;34m(\u001b[0m\u001b[0mself\u001b[0m\u001b[0;34m.\u001b[0m\u001b[0mengine\u001b[0m\u001b[0;34m)\u001b[0m\u001b[0;34m\u001b[0m\u001b[0;34m\u001b[0m\u001b[0m\n\u001b[0m\u001b[1;32m    896\u001b[0m \u001b[0;34m\u001b[0m\u001b[0m\n\u001b[1;32m    897\u001b[0m     \u001b[0;32mdef\u001b[0m \u001b[0mclose\u001b[0m\u001b[0;34m(\u001b[0m\u001b[0mself\u001b[0m\u001b[0;34m)\u001b[0m\u001b[0;34m:\u001b[0m\u001b[0;34m\u001b[0m\u001b[0;34m\u001b[0m\u001b[0m\n",
      "\u001b[0;32m~/anaconda3/lib/python3.7/site-packages/pandas/io/parsers.py\u001b[0m in \u001b[0;36m_make_engine\u001b[0;34m(self, engine)\u001b[0m\n\u001b[1;32m   1133\u001b[0m     \u001b[0;32mdef\u001b[0m \u001b[0m_make_engine\u001b[0m\u001b[0;34m(\u001b[0m\u001b[0mself\u001b[0m\u001b[0;34m,\u001b[0m \u001b[0mengine\u001b[0m\u001b[0;34m=\u001b[0m\u001b[0;34m\"c\"\u001b[0m\u001b[0;34m)\u001b[0m\u001b[0;34m:\u001b[0m\u001b[0;34m\u001b[0m\u001b[0;34m\u001b[0m\u001b[0m\n\u001b[1;32m   1134\u001b[0m         \u001b[0;32mif\u001b[0m \u001b[0mengine\u001b[0m \u001b[0;34m==\u001b[0m \u001b[0;34m\"c\"\u001b[0m\u001b[0;34m:\u001b[0m\u001b[0;34m\u001b[0m\u001b[0;34m\u001b[0m\u001b[0m\n\u001b[0;32m-> 1135\u001b[0;31m             \u001b[0mself\u001b[0m\u001b[0;34m.\u001b[0m\u001b[0m_engine\u001b[0m \u001b[0;34m=\u001b[0m \u001b[0mCParserWrapper\u001b[0m\u001b[0;34m(\u001b[0m\u001b[0mself\u001b[0m\u001b[0;34m.\u001b[0m\u001b[0mf\u001b[0m\u001b[0;34m,\u001b[0m \u001b[0;34m**\u001b[0m\u001b[0mself\u001b[0m\u001b[0;34m.\u001b[0m\u001b[0moptions\u001b[0m\u001b[0;34m)\u001b[0m\u001b[0;34m\u001b[0m\u001b[0;34m\u001b[0m\u001b[0m\n\u001b[0m\u001b[1;32m   1136\u001b[0m         \u001b[0;32melse\u001b[0m\u001b[0;34m:\u001b[0m\u001b[0;34m\u001b[0m\u001b[0;34m\u001b[0m\u001b[0m\n\u001b[1;32m   1137\u001b[0m             \u001b[0;32mif\u001b[0m \u001b[0mengine\u001b[0m \u001b[0;34m==\u001b[0m \u001b[0;34m\"python\"\u001b[0m\u001b[0;34m:\u001b[0m\u001b[0;34m\u001b[0m\u001b[0;34m\u001b[0m\u001b[0m\n",
      "\u001b[0;32m~/anaconda3/lib/python3.7/site-packages/pandas/io/parsers.py\u001b[0m in \u001b[0;36m__init__\u001b[0;34m(self, src, **kwds)\u001b[0m\n\u001b[1;32m   1915\u001b[0m         \u001b[0mkwds\u001b[0m\u001b[0;34m[\u001b[0m\u001b[0;34m\"usecols\"\u001b[0m\u001b[0;34m]\u001b[0m \u001b[0;34m=\u001b[0m \u001b[0mself\u001b[0m\u001b[0;34m.\u001b[0m\u001b[0musecols\u001b[0m\u001b[0;34m\u001b[0m\u001b[0;34m\u001b[0m\u001b[0m\n\u001b[1;32m   1916\u001b[0m \u001b[0;34m\u001b[0m\u001b[0m\n\u001b[0;32m-> 1917\u001b[0;31m         \u001b[0mself\u001b[0m\u001b[0;34m.\u001b[0m\u001b[0m_reader\u001b[0m \u001b[0;34m=\u001b[0m \u001b[0mparsers\u001b[0m\u001b[0;34m.\u001b[0m\u001b[0mTextReader\u001b[0m\u001b[0;34m(\u001b[0m\u001b[0msrc\u001b[0m\u001b[0;34m,\u001b[0m \u001b[0;34m**\u001b[0m\u001b[0mkwds\u001b[0m\u001b[0;34m)\u001b[0m\u001b[0;34m\u001b[0m\u001b[0;34m\u001b[0m\u001b[0m\n\u001b[0m\u001b[1;32m   1918\u001b[0m         \u001b[0mself\u001b[0m\u001b[0;34m.\u001b[0m\u001b[0munnamed_cols\u001b[0m \u001b[0;34m=\u001b[0m \u001b[0mself\u001b[0m\u001b[0;34m.\u001b[0m\u001b[0m_reader\u001b[0m\u001b[0;34m.\u001b[0m\u001b[0munnamed_cols\u001b[0m\u001b[0;34m\u001b[0m\u001b[0;34m\u001b[0m\u001b[0m\n\u001b[1;32m   1919\u001b[0m \u001b[0;34m\u001b[0m\u001b[0m\n",
      "\u001b[0;32mpandas/_libs/parsers.pyx\u001b[0m in \u001b[0;36mpandas._libs.parsers.TextReader.__cinit__\u001b[0;34m()\u001b[0m\n",
      "\u001b[0;32mpandas/_libs/parsers.pyx\u001b[0m in \u001b[0;36mpandas._libs.parsers.TextReader._setup_parser_source\u001b[0;34m()\u001b[0m\n",
      "\u001b[0;31mFileNotFoundError\u001b[0m: [Errno 2] File b'/Users/jiristodulka/GoogleDrive/GitHub/Netflix_Movie_Filter/data/ratings_sample.csv' does not exist: b'/Users/jiristodulka/GoogleDrive/GitHub/Netflix_Movie_Filter/data/ratings_sample.csv'"
     ]
    }
   ],
   "source": [
    "ratings = pd.read_csv(data_dir + '/ratings_sample.csv').drop_duplicates(subset=['reviewerID', 'title'])"
   ]
  },
  {
   "cell_type": "code",
   "execution_count": 349,
   "metadata": {},
   "outputs": [
    {
     "data": {
      "text/html": [
       "<div>\n",
       "<style scoped>\n",
       "    .dataframe tbody tr th:only-of-type {\n",
       "        vertical-align: middle;\n",
       "    }\n",
       "\n",
       "    .dataframe tbody tr th {\n",
       "        vertical-align: top;\n",
       "    }\n",
       "\n",
       "    .dataframe thead th {\n",
       "        text-align: right;\n",
       "    }\n",
       "</style>\n",
       "<table border=\"1\" class=\"dataframe\">\n",
       "  <thead>\n",
       "    <tr style=\"text-align: right;\">\n",
       "      <th></th>\n",
       "      <th>reviewerID</th>\n",
       "      <th>title</th>\n",
       "      <th>overall</th>\n",
       "    </tr>\n",
       "  </thead>\n",
       "  <tbody>\n",
       "    <tr>\n",
       "      <th>0</th>\n",
       "      <td>A2U7DG83EXUSFP</td>\n",
       "      <td>An American Christmas Carol VHS</td>\n",
       "      <td>5.0</td>\n",
       "    </tr>\n",
       "    <tr>\n",
       "      <th>1</th>\n",
       "      <td>A2L3Y17SPNJ918</td>\n",
       "      <td>An American Christmas Carol VHS</td>\n",
       "      <td>4.0</td>\n",
       "    </tr>\n",
       "    <tr>\n",
       "      <th>2</th>\n",
       "      <td>A340KTL9KUGYB7</td>\n",
       "      <td>An American Christmas Carol VHS</td>\n",
       "      <td>3.0</td>\n",
       "    </tr>\n",
       "    <tr>\n",
       "      <th>3</th>\n",
       "      <td>AM87PNTXTKLOI</td>\n",
       "      <td>An American Christmas Carol VHS</td>\n",
       "      <td>4.0</td>\n",
       "    </tr>\n",
       "    <tr>\n",
       "      <th>4</th>\n",
       "      <td>AURHUEDIPJ4T9</td>\n",
       "      <td>An American Christmas Carol VHS</td>\n",
       "      <td>5.0</td>\n",
       "    </tr>\n",
       "    <tr>\n",
       "      <th>...</th>\n",
       "      <td>...</td>\n",
       "      <td>...</td>\n",
       "      <td>...</td>\n",
       "    </tr>\n",
       "    <tr>\n",
       "      <th>296498</th>\n",
       "      <td>A1NSDP9YZXLMDX</td>\n",
       "      <td>Innocence</td>\n",
       "      <td>3.0</td>\n",
       "    </tr>\n",
       "    <tr>\n",
       "      <th>296499</th>\n",
       "      <td>A23DFB8IUTIZM0</td>\n",
       "      <td>Verdi: Falstaff</td>\n",
       "      <td>5.0</td>\n",
       "    </tr>\n",
       "    <tr>\n",
       "      <th>296500</th>\n",
       "      <td>A2RG7OPDXVQZU2</td>\n",
       "      <td>Terminator Genisys</td>\n",
       "      <td>2.0</td>\n",
       "    </tr>\n",
       "    <tr>\n",
       "      <th>296501</th>\n",
       "      <td>AP6KDSZPSP288</td>\n",
       "      <td>Terminator Genisys</td>\n",
       "      <td>3.0</td>\n",
       "    </tr>\n",
       "    <tr>\n",
       "      <th>296502</th>\n",
       "      <td>A271QDD41UTD0S</td>\n",
       "      <td>Terminator Genisys</td>\n",
       "      <td>5.0</td>\n",
       "    </tr>\n",
       "  </tbody>\n",
       "</table>\n",
       "<p>296503 rows × 3 columns</p>\n",
       "</div>"
      ],
      "text/plain": [
       "            reviewerID                            title  overall\n",
       "0       A2U7DG83EXUSFP  An American Christmas Carol VHS      5.0\n",
       "1       A2L3Y17SPNJ918  An American Christmas Carol VHS      4.0\n",
       "2       A340KTL9KUGYB7  An American Christmas Carol VHS      3.0\n",
       "3        AM87PNTXTKLOI  An American Christmas Carol VHS      4.0\n",
       "4        AURHUEDIPJ4T9  An American Christmas Carol VHS      5.0\n",
       "...                ...                              ...      ...\n",
       "296498  A1NSDP9YZXLMDX                        Innocence      3.0\n",
       "296499  A23DFB8IUTIZM0                  Verdi: Falstaff      5.0\n",
       "296500  A2RG7OPDXVQZU2               Terminator Genisys      2.0\n",
       "296501   AP6KDSZPSP288               Terminator Genisys      3.0\n",
       "296502  A271QDD41UTD0S               Terminator Genisys      5.0\n",
       "\n",
       "[296503 rows x 3 columns]"
      ]
     },
     "execution_count": 349,
     "metadata": {},
     "output_type": "execute_result"
    }
   ],
   "source": [
    "ratings"
   ]
  },
  {
   "cell_type": "code",
   "execution_count": 103,
   "metadata": {},
   "outputs": [],
   "source": [
    "dime = ratings.reviewerID.nunique()*(ratings.title.nunique())\n",
    "count_ratings = ratings.overall.count()"
   ]
  },
  {
   "cell_type": "code",
   "execution_count": 350,
   "metadata": {},
   "outputs": [],
   "source": [
    "def utility_matrix_info(ratings):\n",
    "    dime = ratings.reviewerID.nunique()*(ratings.title.nunique())\n",
    "    count_ratings = ratings.overall.count()\n",
    "    print('There are {0}: userss'.format(ratings.reviewerID.nunique()))\n",
    "    print('There are {0}: movie titles'.format(ratings.title.nunique()))\n",
    "    print('The utility matrix has: {0} entries'.format(dime))\n",
    "    print('There are {0}: ratings in the utility matrix'.format(count_ratings))\n",
    "    print('Sparsity: {0}'.format((1-(count_ratings/dime))*100),'%')"
   ]
  },
  {
   "cell_type": "code",
   "execution_count": 351,
   "metadata": {},
   "outputs": [
    {
     "name": "stdout",
     "output_type": "stream",
     "text": [
      "There are 13773: userss\n",
      "There are 19632: movie titles\n",
      "The utility matrix has: 270391536 entries\n",
      "There are 296503: ratings in the utility matrix\n",
      "Sparsity: 99.89034309121274 %\n"
     ]
    }
   ],
   "source": [
    " utility_matrix_info(ratings)"
   ]
  },
  {
   "cell_type": "markdown",
   "metadata": {},
   "source": [
    "`^^^ We need to subsample !!!!!`"
   ]
  },
  {
   "cell_type": "code",
   "execution_count": 309,
   "metadata": {},
   "outputs": [],
   "source": [
    "def subsample_utility_matrix(ratings, reviewer_rating_min, title_rating_min):\n",
    "\n",
    "    ratings['reviewer_rating_count'] = ratings.groupby(\n",
    "        'reviewerID')['overall'].transform('count')\n",
    "    ratings['title_rating_count'] = ratings.groupby(\n",
    "        'title')['overall'].transform('count')\n",
    "    subsample = ratings[(ratings['reviewer_rating_count'] > reviewer_rating_min) & (\n",
    "        ratings['title_rating_count'] > title_rating_min)].drop(['reviewer_rating_count', 'title_rating_count'], axis=1)\n",
    "    utility_matrix_info(subsample)\n",
    "    return subsample"
   ]
  },
  {
   "cell_type": "code",
   "execution_count": 310,
   "metadata": {
    "scrolled": false
   },
   "outputs": [
    {
     "name": "stdout",
     "output_type": "stream",
     "text": [
      "There are 557: userss\n",
      "There are 1285: movie titles\n",
      "The utility matrix has: 715745 entries\n",
      "There are 14702: ratings in the utility matrix\n",
      "Sparsity: 97.9459164926056 %\n"
     ]
    },
    {
     "data": {
      "text/html": [
       "<div>\n",
       "<style scoped>\n",
       "    .dataframe tbody tr th:only-of-type {\n",
       "        vertical-align: middle;\n",
       "    }\n",
       "\n",
       "    .dataframe tbody tr th {\n",
       "        vertical-align: top;\n",
       "    }\n",
       "\n",
       "    .dataframe thead th {\n",
       "        text-align: right;\n",
       "    }\n",
       "</style>\n",
       "<table border=\"1\" class=\"dataframe\">\n",
       "  <thead>\n",
       "    <tr style=\"text-align: right;\">\n",
       "      <th></th>\n",
       "      <th>reviewerID</th>\n",
       "      <th>title</th>\n",
       "      <th>overall</th>\n",
       "    </tr>\n",
       "  </thead>\n",
       "  <tbody>\n",
       "    <tr>\n",
       "      <th>54</th>\n",
       "      <td>A2OI3HU0KN4118</td>\n",
       "      <td>Joseph VHS</td>\n",
       "      <td>5.0</td>\n",
       "    </tr>\n",
       "    <tr>\n",
       "      <th>67</th>\n",
       "      <td>A385J7MEM932DL</td>\n",
       "      <td>Joseph VHS</td>\n",
       "      <td>5.0</td>\n",
       "    </tr>\n",
       "    <tr>\n",
       "      <th>171</th>\n",
       "      <td>AIVTZDMB297BG</td>\n",
       "      <td>The Very Best of the Bob Newhart Show 6 VHS</td>\n",
       "      <td>5.0</td>\n",
       "    </tr>\n",
       "    <tr>\n",
       "      <th>173</th>\n",
       "      <td>AXOX48S8K994V</td>\n",
       "      <td>The Very Best of the Bob Newhart Show 6 VHS</td>\n",
       "      <td>4.0</td>\n",
       "    </tr>\n",
       "    <tr>\n",
       "      <th>174</th>\n",
       "      <td>A3J9LLWHZH15HG</td>\n",
       "      <td>The Very Best of the Bob Newhart Show 6 VHS</td>\n",
       "      <td>4.0</td>\n",
       "    </tr>\n",
       "    <tr>\n",
       "      <th>...</th>\n",
       "      <td>...</td>\n",
       "      <td>...</td>\n",
       "      <td>...</td>\n",
       "    </tr>\n",
       "    <tr>\n",
       "      <th>351767</th>\n",
       "      <td>A3G6QZJBB466TC</td>\n",
       "      <td>Independence Day Resurgence</td>\n",
       "      <td>5.0</td>\n",
       "    </tr>\n",
       "    <tr>\n",
       "      <th>351768</th>\n",
       "      <td>A137WEXVKECX61</td>\n",
       "      <td>Independence Day Resurgence</td>\n",
       "      <td>5.0</td>\n",
       "    </tr>\n",
       "    <tr>\n",
       "      <th>351769</th>\n",
       "      <td>A1IRFAUJUS0IWY</td>\n",
       "      <td>Independence Day Resurgence</td>\n",
       "      <td>4.0</td>\n",
       "    </tr>\n",
       "    <tr>\n",
       "      <th>351773</th>\n",
       "      <td>A2PA624DT1CXOS</td>\n",
       "      <td>Independence Day Resurgence</td>\n",
       "      <td>5.0</td>\n",
       "    </tr>\n",
       "    <tr>\n",
       "      <th>351781</th>\n",
       "      <td>AJ2LH4FFW4QYX</td>\n",
       "      <td>Independence Day Resurgence</td>\n",
       "      <td>2.0</td>\n",
       "    </tr>\n",
       "  </tbody>\n",
       "</table>\n",
       "<p>14702 rows × 3 columns</p>\n",
       "</div>"
      ],
      "text/plain": [
       "            reviewerID                                        title  overall\n",
       "54      A2OI3HU0KN4118                                   Joseph VHS      5.0\n",
       "67      A385J7MEM932DL                                   Joseph VHS      5.0\n",
       "171      AIVTZDMB297BG  The Very Best of the Bob Newhart Show 6 VHS      5.0\n",
       "173      AXOX48S8K994V  The Very Best of the Bob Newhart Show 6 VHS      4.0\n",
       "174     A3J9LLWHZH15HG  The Very Best of the Bob Newhart Show 6 VHS      4.0\n",
       "...                ...                                          ...      ...\n",
       "351767  A3G6QZJBB466TC                  Independence Day Resurgence      5.0\n",
       "351768  A137WEXVKECX61                  Independence Day Resurgence      5.0\n",
       "351769  A1IRFAUJUS0IWY                  Independence Day Resurgence      4.0\n",
       "351773  A2PA624DT1CXOS                  Independence Day Resurgence      5.0\n",
       "351781   AJ2LH4FFW4QYX                  Independence Day Resurgence      2.0\n",
       "\n",
       "[14702 rows x 3 columns]"
      ]
     },
     "execution_count": 310,
     "metadata": {},
     "output_type": "execute_result"
    }
   ],
   "source": [
    "subsample_ratings = subsample_utility_matrix(ratings, reviewer_rating_min = 60, title_rating_min = 40)\n",
    "subsample_ratings"
   ]
  },
  {
   "cell_type": "code",
   "execution_count": 334,
   "metadata": {},
   "outputs": [],
   "source": []
  },
  {
   "cell_type": "code",
   "execution_count": 319,
   "metadata": {},
   "outputs": [
    {
     "data": {
      "image/png": "[encoded data removed]",
      "text/plain": [
       "<Figure size 432x288 with 1 Axes>"
      ]
     },
     "metadata": {
      "needs_background": "light"
     },
     "output_type": "display_data"
    }
   ],
   "source": [
    "subsample_ratings.overall.hist()\n",
    "plt.show()"
   ]
  },
  {
   "cell_type": "code",
   "execution_count": 320,
   "metadata": {},
   "outputs": [
    {
     "data": {
      "text/plain": [
       "<matplotlib.axes._subplots.AxesSubplot at 0x7fd57894dc10>"
      ]
     },
     "execution_count": 320,
     "metadata": {},
     "output_type": "execute_result"
    },
    {
     "data": {
      "image/png": "[encoded data removed]",
      "text/plain": [
       "<Figure size 432x288 with 1 Axes>"
      ]
     },
     "metadata": {
      "needs_background": "light"
     },
     "output_type": "display_data"
    }
   ],
   "source": [
    "subsample_ratings.title.value_counts().hist()"
   ]
  },
  {
   "cell_type": "markdown",
   "metadata": {},
   "source": [
    "## MODELING on Subsample"
   ]
  },
  {
   "cell_type": "code",
   "execution_count": 282,
   "metadata": {},
   "outputs": [],
   "source": [
    "reader = Reader(rating_scale=(1, 5)) #line_format by default order of the fields\n",
    "data = Dataset.load_from_df(subsample_ratings[[\"reviewerID\",\"title\",\"overall\"]], reader=reader)"
   ]
  },
  {
   "cell_type": "code",
   "execution_count": 283,
   "metadata": {},
   "outputs": [],
   "source": [
    "trainset = data.build_full_trainset()\n",
    "testset = trainset.build_anti_testset()"
   ]
  },
  {
   "cell_type": "code",
   "execution_count": 284,
   "metadata": {},
   "outputs": [
    {
     "data": {
      "text/plain": [
       "<surprise.prediction_algorithms.matrix_factorization.SVD at 0x7fd579572940>"
      ]
     },
     "execution_count": 284,
     "metadata": {},
     "output_type": "execute_result"
    }
   ],
   "source": [
    "algo_SVD = SVD(n_factors = 5,\n",
    "               n_epochs = 20,\n",
    "               lr_all = 0.005)\n",
    "\n",
    "algo_SVD.fit(trainset)"
   ]
  },
  {
   "cell_type": "code",
   "execution_count": 285,
   "metadata": {},
   "outputs": [
    {
     "name": "stdout",
     "output_type": "stream",
     "text": [
      "<surprise.prediction_algorithms.matrix_factorization.SVD object at 0x7fd5bdf8cdc0>\n",
      "{'n_factors': 5, 'n_epochs': 20, 'lr_all': 0.005}\n"
     ]
    }
   ],
   "source": [
    "print(gs.best_estimator['rmse'])\n",
    "print(gs.best_params['rmse'])"
   ]
  },
  {
   "cell_type": "code",
   "execution_count": 312,
   "metadata": {},
   "outputs": [
    {
     "name": "stdout",
     "output_type": "stream",
     "text": [
      "RMSE: 0.3688\n"
     ]
    },
    {
     "data": {
      "text/plain": [
       "0.368824258166261"
      ]
     },
     "execution_count": 312,
     "metadata": {},
     "output_type": "execute_result"
    }
   ],
   "source": [
    "#testset = trainset.build_testset()\n",
    "predictions = algo_SVD.test(testset)\n",
    "# RMSE should be low as we are biased\n",
    "accuracy.rmse(predictions, verbose=True)"
   ]
  },
  {
   "cell_type": "markdown",
   "metadata": {},
   "source": [
    "### Double Check: `Is the rating matrix filled now?`"
   ]
  },
  {
   "cell_type": "code",
   "execution_count": 306,
   "metadata": {
    "scrolled": true
   },
   "outputs": [
    {
     "name": "stdout",
     "output_type": "stream",
     "text": [
      "Yes, count of rui and rui^head add up to:715745\n"
     ]
    }
   ],
   "source": [
    "# doublecheck: does the count of predictions plus counts of rattings add up to 715745 entries inside the matrix?\n",
    "assert len(predictions) + subsample_ratings.overall.count() ==  subsample_ratings.reviewerID.nunique()*(subsample_ratings.title.nunique())\n",
    "print('Yes, count of rui and rui^head add up to:{0}'.format(subsample_ratings.reviewerID.nunique()*(subsample_ratings.title.nunique())))"
   ]
  },
  {
   "cell_type": "code",
   "execution_count": 299,
   "metadata": {},
   "outputs": [
    {
     "data": {
      "text/plain": [
       "715745"
      ]
     },
     "execution_count": 299,
     "metadata": {},
     "output_type": "execute_result"
    }
   ],
   "source": [
    "subsample_ratings.reviewerID.nunique()*(subsample_ratings.title.nunique())"
   ]
  },
  {
   "cell_type": "code",
   "execution_count": 278,
   "metadata": {},
   "outputs": [
    {
     "name": "stdout",
     "output_type": "stream",
     "text": [
      "Prec.: 0.9075157232704409\n",
      "Rec.: 0.7957139535354866\n",
      "Prec.: 0.9060691823899377\n",
      "Rec.: 0.7893570102619231\n",
      "Prec.: 0.8959737827715363\n",
      "Rec.: 0.7920029818109728\n",
      "Prec.: 0.8986215538847124\n",
      "Rec.: 0.7816400183879686\n",
      "Prec.: 0.9177398989898994\n",
      "Rec.: 0.7936742382403033\n"
     ]
    }
   ],
   "source": [
    "def precision_recall_at_k(predictions, k=10, threshold=3.5):\n",
    "    \"\"\"Return precision and recall at k metrics for each user\"\"\"\n",
    "\n",
    "    # First map the predictions to each user.\n",
    "    user_est_true = defaultdict(list)\n",
    "    for uid, _, true_r, est, _ in predictions:\n",
    "        user_est_true[uid].append((est, true_r))\n",
    "\n",
    "    precisions = dict()\n",
    "    recalls = dict()\n",
    "    for uid, user_ratings in user_est_true.items():\n",
    "\n",
    "        # Sort user ratings by estimated value\n",
    "        user_ratings.sort(key=lambda x: x[0], reverse=True)\n",
    "\n",
    "        # Number of relevant items\n",
    "        n_rel = sum((true_r >= threshold) for (_, true_r) in user_ratings)\n",
    "\n",
    "        # Number of recommended items in top k\n",
    "        n_rec_k = sum((est >= threshold) for (est, _) in user_ratings[:k])\n",
    "\n",
    "        # Number of relevant and recommended items in top k\n",
    "        n_rel_and_rec_k = sum(((true_r >= threshold) and (est >= threshold))\n",
    "                              for (est, true_r) in user_ratings[:k])\n",
    "\n",
    "        # Precision@K: Proportion of recommended items that are relevant\n",
    "        # When n_rec_k is 0, Precision is undefined. We here set it to 0.\n",
    "\n",
    "        precisions[uid] = n_rel_and_rec_k / n_rec_k if n_rec_k != 0 else 0\n",
    "\n",
    "        # Recall@K: Proportion of relevant items that are recommended\n",
    "        # When n_rel is 0, Recall is undefined. We here set it to 0.\n",
    "\n",
    "        recalls[uid] = n_rel_and_rec_k / n_rel if n_rel != 0 else 0\n",
    "\n",
    "    return precisions, recalls\n",
    "\n",
    "\n",
    "kf = KFold(n_splits = 5)\n",
    "algo = SVD()\n",
    "\n",
    "for trainset, testset in kf.split(data):\n",
    "    algo.fit(trainset)\n",
    "    predictions = algo.test(testset)\n",
    "    precisions, recalls = precision_recall_at_k(predictions, k=5, threshold=4)\n",
    "\n",
    "    # Precision and recall can then be averaged over all users\n",
    "    print('Prec.:',sum(prec for prec in precisions.values()) / len(precisions))\n",
    "    print('Rec.:',sum(rec for rec in recalls.values()) / len(recalls))"
   ]
  },
  {
   "cell_type": "code",
   "execution_count": 280,
   "metadata": {},
   "outputs": [
    {
     "data": {
      "text/plain": [
       "17642"
      ]
     },
     "execution_count": 280,
     "metadata": {},
     "output_type": "execute_result"
    }
   ],
   "source": [
    "len(predictions) + 14702 "
   ]
  },
  {
   "cell_type": "markdown",
   "metadata": {},
   "source": [
    "### Doump the Model"
   ]
  },
  {
   "cell_type": "code",
   "execution_count": 253,
   "metadata": {},
   "outputs": [
    {
     "name": "stdout",
     "output_type": "stream",
     "text": [
      "Predictions are the same\n"
     ]
    }
   ],
   "source": [
    "# Compute predictions of the 'original' algorithm.\n",
    "predictions = algo_SVD.test(trainset.build_testset())\n",
    "\n",
    "# Dump algorithm and reload it.\n",
    "file_name = os.path.expanduser('~/dump_file')\n",
    "dump.dump(file_name, algo=algo_SVD)\n",
    "_, loaded_algo = dump.load(file_name)\n",
    "\n",
    "# We now ensure that the algo is still the same by checking the predictions.\n",
    "predictions_loaded_algo = loaded_algo.test(trainset.build_testset())\n",
    "assert predictions == predictions_loaded_algo\n",
    "print('Predictions are the same')"
   ]
  },
  {
   "cell_type": "code",
   "execution_count": 254,
   "metadata": {},
   "outputs": [
    {
     "data": {
      "text/plain": [
       "<module 'posixpath' from '/Users/jiristodulka/anaconda3/envs/product_filter/lib/python3.8/posixpath.py'>"
      ]
     },
     "execution_count": 254,
     "metadata": {},
     "output_type": "execute_result"
    }
   ],
   "source": [
    "os.path"
   ]
  },
  {
   "cell_type": "markdown",
   "metadata": {},
   "source": [
    "`<module 'posixpath' from '/Users/jiristodulka/anaconda3/envs/product_filter/lib/python3.8/posixpath.py'>`"
   ]
  },
  {
   "cell_type": "markdown",
   "metadata": {},
   "source": [
    "# Predictions and History"
   ]
  },
  {
   "cell_type": "code",
   "execution_count": 323,
   "metadata": {},
   "outputs": [
    {
     "data": {
      "text/plain": [
       "15627    A2YCJ7XQ7HASKB\n",
       "Name: reviewerID, dtype: object"
      ]
     },
     "execution_count": 323,
     "metadata": {},
     "output_type": "execute_result"
    }
   ],
   "source": [
    "subsample_ratings['reviewerID'].sample()"
   ]
  },
  {
   "cell_type": "code",
   "execution_count": 324,
   "metadata": {},
   "outputs": [
    {
     "name": "stdout",
     "output_type": "stream",
     "text": [
      "User A2YCJ7XQ7HASKB has already rated 48 movies.\n"
     ]
    }
   ],
   "source": [
    "pred_, hist_ = get_top_n(predictions, 'A2YCJ7XQ7HASKB',\n",
    "                         ratings_df=subsample_ratings, n=100)"
   ]
  },
  {
   "cell_type": "code",
   "execution_count": 325,
   "metadata": {},
   "outputs": [
    {
     "data": {
      "text/html": [
       "<div>\n",
       "<style scoped>\n",
       "    .dataframe tbody tr th:only-of-type {\n",
       "        vertical-align: middle;\n",
       "    }\n",
       "\n",
       "    .dataframe tbody tr th {\n",
       "        vertical-align: top;\n",
       "    }\n",
       "\n",
       "    .dataframe thead th {\n",
       "        text-align: right;\n",
       "    }\n",
       "</style>\n",
       "<table border=\"1\" class=\"dataframe\">\n",
       "  <thead>\n",
       "    <tr style=\"text-align: right;\">\n",
       "      <th></th>\n",
       "      <th>reviewerID</th>\n",
       "      <th>title</th>\n",
       "      <th>rat_pred</th>\n",
       "    </tr>\n",
       "  </thead>\n",
       "  <tbody>\n",
       "    <tr>\n",
       "      <th>17800</th>\n",
       "      <td>A2YCJ7XQ7HASKB</td>\n",
       "      <td>JFK Director's Cut</td>\n",
       "      <td>5.000000</td>\n",
       "    </tr>\n",
       "    <tr>\n",
       "      <th>17801</th>\n",
       "      <td>A2YCJ7XQ7HASKB</td>\n",
       "      <td>North by Northwest VHS</td>\n",
       "      <td>5.000000</td>\n",
       "    </tr>\n",
       "    <tr>\n",
       "      <th>17802</th>\n",
       "      <td>A2YCJ7XQ7HASKB</td>\n",
       "      <td>Tuskegee Airmen VHS</td>\n",
       "      <td>5.000000</td>\n",
       "    </tr>\n",
       "    <tr>\n",
       "      <th>17803</th>\n",
       "      <td>A2YCJ7XQ7HASKB</td>\n",
       "      <td>Dawn of the Dead VHS</td>\n",
       "      <td>5.000000</td>\n",
       "    </tr>\n",
       "    <tr>\n",
       "      <th>17804</th>\n",
       "      <td>A2YCJ7XQ7HASKB</td>\n",
       "      <td>The Magnificent Seven VHS</td>\n",
       "      <td>5.000000</td>\n",
       "    </tr>\n",
       "    <tr>\n",
       "      <th>17805</th>\n",
       "      <td>A2YCJ7XQ7HASKB</td>\n",
       "      <td>Up (Mandarin Chinese Edition)</td>\n",
       "      <td>5.000000</td>\n",
       "    </tr>\n",
       "    <tr>\n",
       "      <th>17806</th>\n",
       "      <td>A2YCJ7XQ7HASKB</td>\n",
       "      <td>Gran Torino</td>\n",
       "      <td>5.000000</td>\n",
       "    </tr>\n",
       "    <tr>\n",
       "      <th>17807</th>\n",
       "      <td>A2YCJ7XQ7HASKB</td>\n",
       "      <td>4 Film Favorites: Dirty Harry (Dirty Harry, Th...</td>\n",
       "      <td>5.000000</td>\n",
       "    </tr>\n",
       "    <tr>\n",
       "      <th>17808</th>\n",
       "      <td>A2YCJ7XQ7HASKB</td>\n",
       "      <td>The King's Speech</td>\n",
       "      <td>5.000000</td>\n",
       "    </tr>\n",
       "    <tr>\n",
       "      <th>17809</th>\n",
       "      <td>A2YCJ7XQ7HASKB</td>\n",
       "      <td>Murder, She Wrote: 4 Movie Collection</td>\n",
       "      <td>5.000000</td>\n",
       "    </tr>\n",
       "    <tr>\n",
       "      <th>17810</th>\n",
       "      <td>A2YCJ7XQ7HASKB</td>\n",
       "      <td>Barney Miller: The Complete Series</td>\n",
       "      <td>5.000000</td>\n",
       "    </tr>\n",
       "    <tr>\n",
       "      <th>17811</th>\n",
       "      <td>A2YCJ7XQ7HASKB</td>\n",
       "      <td>TCM Greatest Classic Films Collection: The Thi...</td>\n",
       "      <td>5.000000</td>\n",
       "    </tr>\n",
       "    <tr>\n",
       "      <th>17812</th>\n",
       "      <td>A2YCJ7XQ7HASKB</td>\n",
       "      <td>The Way</td>\n",
       "      <td>5.000000</td>\n",
       "    </tr>\n",
       "    <tr>\n",
       "      <th>17813</th>\n",
       "      <td>A2YCJ7XQ7HASKB</td>\n",
       "      <td>Lewis - Series 6 [NON-U.S.A. FORMAT: PAL + REG...</td>\n",
       "      <td>5.000000</td>\n",
       "    </tr>\n",
       "    <tr>\n",
       "      <th>17814</th>\n",
       "      <td>A2YCJ7XQ7HASKB</td>\n",
       "      <td>Downton Abbey - Series 4</td>\n",
       "      <td>5.000000</td>\n",
       "    </tr>\n",
       "    <tr>\n",
       "      <th>17815</th>\n",
       "      <td>A2YCJ7XQ7HASKB</td>\n",
       "      <td>Prisoners</td>\n",
       "      <td>5.000000</td>\n",
       "    </tr>\n",
       "    <tr>\n",
       "      <th>17816</th>\n",
       "      <td>A2YCJ7XQ7HASKB</td>\n",
       "      <td>Agatha Christie's Poirot: Series 13</td>\n",
       "      <td>5.000000</td>\n",
       "    </tr>\n",
       "    <tr>\n",
       "      <th>17817</th>\n",
       "      <td>A2YCJ7XQ7HASKB</td>\n",
       "      <td>Batman Complete Series</td>\n",
       "      <td>5.000000</td>\n",
       "    </tr>\n",
       "    <tr>\n",
       "      <th>17818</th>\n",
       "      <td>A2YCJ7XQ7HASKB</td>\n",
       "      <td>Up TM 3/SD/EC</td>\n",
       "      <td>5.000000</td>\n",
       "    </tr>\n",
       "    <tr>\n",
       "      <th>17819</th>\n",
       "      <td>A2YCJ7XQ7HASKB</td>\n",
       "      <td>American Sniper 2014</td>\n",
       "      <td>4.998879</td>\n",
       "    </tr>\n",
       "    <tr>\n",
       "      <th>17820</th>\n",
       "      <td>A2YCJ7XQ7HASKB</td>\n",
       "      <td>The African Queen VHS</td>\n",
       "      <td>4.998721</td>\n",
       "    </tr>\n",
       "    <tr>\n",
       "      <th>17821</th>\n",
       "      <td>A2YCJ7XQ7HASKB</td>\n",
       "      <td>Christmas Collector's Pack The Bells of St. Ma...</td>\n",
       "      <td>4.994600</td>\n",
       "    </tr>\n",
       "    <tr>\n",
       "      <th>17822</th>\n",
       "      <td>A2YCJ7XQ7HASKB</td>\n",
       "      <td>TCM Greatest Classic Legends Film Collection: ...</td>\n",
       "      <td>4.994366</td>\n",
       "    </tr>\n",
       "    <tr>\n",
       "      <th>17823</th>\n",
       "      <td>A2YCJ7XQ7HASKB</td>\n",
       "      <td>For Multi-titled</td>\n",
       "      <td>4.991372</td>\n",
       "    </tr>\n",
       "    <tr>\n",
       "      <th>17824</th>\n",
       "      <td>A2YCJ7XQ7HASKB</td>\n",
       "      <td>Person of Interest-Complete Series 2</td>\n",
       "      <td>4.984170</td>\n",
       "    </tr>\n",
       "    <tr>\n",
       "      <th>17825</th>\n",
       "      <td>A2YCJ7XQ7HASKB</td>\n",
       "      <td>Band Of Brothers (DVD)</td>\n",
       "      <td>4.981973</td>\n",
       "    </tr>\n",
       "    <tr>\n",
       "      <th>17826</th>\n",
       "      <td>A2YCJ7XQ7HASKB</td>\n",
       "      <td>The Best Exotic Marigold Hotel</td>\n",
       "      <td>4.980198</td>\n",
       "    </tr>\n",
       "    <tr>\n",
       "      <th>17827</th>\n",
       "      <td>A2YCJ7XQ7HASKB</td>\n",
       "      <td>Star Wars Trilogy THX Digitally Mastered Edition</td>\n",
       "      <td>4.979984</td>\n",
       "    </tr>\n",
       "    <tr>\n",
       "      <th>17828</th>\n",
       "      <td>A2YCJ7XQ7HASKB</td>\n",
       "      <td>Fast &amp; Furious 6</td>\n",
       "      <td>4.979363</td>\n",
       "    </tr>\n",
       "    <tr>\n",
       "      <th>17829</th>\n",
       "      <td>A2YCJ7XQ7HASKB</td>\n",
       "      <td>Farscape</td>\n",
       "      <td>4.977026</td>\n",
       "    </tr>\n",
       "    <tr>\n",
       "      <th>17830</th>\n",
       "      <td>A2YCJ7XQ7HASKB</td>\n",
       "      <td>Walt Disney's Classic The Jungle Book Clamshell</td>\n",
       "      <td>4.975861</td>\n",
       "    </tr>\n",
       "    <tr>\n",
       "      <th>17831</th>\n",
       "      <td>A2YCJ7XQ7HASKB</td>\n",
       "      <td>Big Hero 6</td>\n",
       "      <td>4.975749</td>\n",
       "    </tr>\n",
       "    <tr>\n",
       "      <th>17832</th>\n",
       "      <td>A2YCJ7XQ7HASKB</td>\n",
       "      <td>Enchanted</td>\n",
       "      <td>4.972462</td>\n",
       "    </tr>\n",
       "    <tr>\n",
       "      <th>17833</th>\n",
       "      <td>A2YCJ7XQ7HASKB</td>\n",
       "      <td>Much Ado About Nothing</td>\n",
       "      <td>4.972459</td>\n",
       "    </tr>\n",
       "    <tr>\n",
       "      <th>17834</th>\n",
       "      <td>A2YCJ7XQ7HASKB</td>\n",
       "      <td>Life of Pi</td>\n",
       "      <td>4.970230</td>\n",
       "    </tr>\n",
       "    <tr>\n",
       "      <th>17835</th>\n",
       "      <td>A2YCJ7XQ7HASKB</td>\n",
       "      <td>Now You See Me</td>\n",
       "      <td>4.967165</td>\n",
       "    </tr>\n",
       "    <tr>\n",
       "      <th>17836</th>\n",
       "      <td>A2YCJ7XQ7HASKB</td>\n",
       "      <td>The Lord Of The Rings: Trilogy</td>\n",
       "      <td>4.966409</td>\n",
       "    </tr>\n",
       "    <tr>\n",
       "      <th>17837</th>\n",
       "      <td>A2YCJ7XQ7HASKB</td>\n",
       "      <td>Breaking Bad: Season 2</td>\n",
       "      <td>4.966240</td>\n",
       "    </tr>\n",
       "    <tr>\n",
       "      <th>17838</th>\n",
       "      <td>A2YCJ7XQ7HASKB</td>\n",
       "      <td>God's Not Dead</td>\n",
       "      <td>4.965998</td>\n",
       "    </tr>\n",
       "    <tr>\n",
       "      <th>17839</th>\n",
       "      <td>A2YCJ7XQ7HASKB</td>\n",
       "      <td>Magnum P.I.: The Complete Series</td>\n",
       "      <td>4.963727</td>\n",
       "    </tr>\n",
       "    <tr>\n",
       "      <th>17840</th>\n",
       "      <td>A2YCJ7XQ7HASKB</td>\n",
       "      <td>Abbott &amp; Costello: The Complete Universal Pict...</td>\n",
       "      <td>4.961627</td>\n",
       "    </tr>\n",
       "    <tr>\n",
       "      <th>17841</th>\n",
       "      <td>A2YCJ7XQ7HASKB</td>\n",
       "      <td>The Silence of the Lambs VHS</td>\n",
       "      <td>4.960536</td>\n",
       "    </tr>\n",
       "    <tr>\n",
       "      <th>17842</th>\n",
       "      <td>A2YCJ7XQ7HASKB</td>\n",
       "      <td>Laura VHS</td>\n",
       "      <td>4.954675</td>\n",
       "    </tr>\n",
       "    <tr>\n",
       "      <th>17843</th>\n",
       "      <td>A2YCJ7XQ7HASKB</td>\n",
       "      <td>Police Squad! The Complete Series</td>\n",
       "      <td>4.953599</td>\n",
       "    </tr>\n",
       "    <tr>\n",
       "      <th>17844</th>\n",
       "      <td>A2YCJ7XQ7HASKB</td>\n",
       "      <td>MURDOCH MYSTERIES COLLECTION: SEASONS 1-4</td>\n",
       "      <td>4.953070</td>\n",
       "    </tr>\n",
       "    <tr>\n",
       "      <th>17845</th>\n",
       "      <td>A2YCJ7XQ7HASKB</td>\n",
       "      <td>The Lost Battalion</td>\n",
       "      <td>4.952965</td>\n",
       "    </tr>\n",
       "    <tr>\n",
       "      <th>17846</th>\n",
       "      <td>A2YCJ7XQ7HASKB</td>\n",
       "      <td>The Horse Whisperer</td>\n",
       "      <td>4.951981</td>\n",
       "    </tr>\n",
       "    <tr>\n",
       "      <th>17847</th>\n",
       "      <td>A2YCJ7XQ7HASKB</td>\n",
       "      <td>The Christmas Candle</td>\n",
       "      <td>4.951917</td>\n",
       "    </tr>\n",
       "    <tr>\n",
       "      <th>17848</th>\n",
       "      <td>A2YCJ7XQ7HASKB</td>\n",
       "      <td>Cinderella</td>\n",
       "      <td>4.951634</td>\n",
       "    </tr>\n",
       "    <tr>\n",
       "      <th>17849</th>\n",
       "      <td>A2YCJ7XQ7HASKB</td>\n",
       "      <td>Bones: Season 7</td>\n",
       "      <td>4.951523</td>\n",
       "    </tr>\n",
       "  </tbody>\n",
       "</table>\n",
       "</div>"
      ],
      "text/plain": [
       "           reviewerID                                              title  \\\n",
       "17800  A2YCJ7XQ7HASKB                                 JFK Director's Cut   \n",
       "17801  A2YCJ7XQ7HASKB                             North by Northwest VHS   \n",
       "17802  A2YCJ7XQ7HASKB                                Tuskegee Airmen VHS   \n",
       "17803  A2YCJ7XQ7HASKB                               Dawn of the Dead VHS   \n",
       "17804  A2YCJ7XQ7HASKB                          The Magnificent Seven VHS   \n",
       "17805  A2YCJ7XQ7HASKB                      Up (Mandarin Chinese Edition)   \n",
       "17806  A2YCJ7XQ7HASKB                                        Gran Torino   \n",
       "17807  A2YCJ7XQ7HASKB  4 Film Favorites: Dirty Harry (Dirty Harry, Th...   \n",
       "17808  A2YCJ7XQ7HASKB                                  The King's Speech   \n",
       "17809  A2YCJ7XQ7HASKB              Murder, She Wrote: 4 Movie Collection   \n",
       "17810  A2YCJ7XQ7HASKB                 Barney Miller: The Complete Series   \n",
       "17811  A2YCJ7XQ7HASKB  TCM Greatest Classic Films Collection: The Thi...   \n",
       "17812  A2YCJ7XQ7HASKB                                            The Way   \n",
       "17813  A2YCJ7XQ7HASKB  Lewis - Series 6 [NON-U.S.A. FORMAT: PAL + REG...   \n",
       "17814  A2YCJ7XQ7HASKB                           Downton Abbey - Series 4   \n",
       "17815  A2YCJ7XQ7HASKB                                          Prisoners   \n",
       "17816  A2YCJ7XQ7HASKB                Agatha Christie's Poirot: Series 13   \n",
       "17817  A2YCJ7XQ7HASKB                             Batman Complete Series   \n",
       "17818  A2YCJ7XQ7HASKB                                      Up TM 3/SD/EC   \n",
       "17819  A2YCJ7XQ7HASKB                               American Sniper 2014   \n",
       "17820  A2YCJ7XQ7HASKB                              The African Queen VHS   \n",
       "17821  A2YCJ7XQ7HASKB  Christmas Collector's Pack The Bells of St. Ma...   \n",
       "17822  A2YCJ7XQ7HASKB  TCM Greatest Classic Legends Film Collection: ...   \n",
       "17823  A2YCJ7XQ7HASKB                                   For Multi-titled   \n",
       "17824  A2YCJ7XQ7HASKB               Person of Interest-Complete Series 2   \n",
       "17825  A2YCJ7XQ7HASKB                             Band Of Brothers (DVD)   \n",
       "17826  A2YCJ7XQ7HASKB                     The Best Exotic Marigold Hotel   \n",
       "17827  A2YCJ7XQ7HASKB   Star Wars Trilogy THX Digitally Mastered Edition   \n",
       "17828  A2YCJ7XQ7HASKB                                   Fast & Furious 6   \n",
       "17829  A2YCJ7XQ7HASKB                                           Farscape   \n",
       "17830  A2YCJ7XQ7HASKB    Walt Disney's Classic The Jungle Book Clamshell   \n",
       "17831  A2YCJ7XQ7HASKB                                         Big Hero 6   \n",
       "17832  A2YCJ7XQ7HASKB                                          Enchanted   \n",
       "17833  A2YCJ7XQ7HASKB                             Much Ado About Nothing   \n",
       "17834  A2YCJ7XQ7HASKB                                         Life of Pi   \n",
       "17835  A2YCJ7XQ7HASKB                                     Now You See Me   \n",
       "17836  A2YCJ7XQ7HASKB                     The Lord Of The Rings: Trilogy   \n",
       "17837  A2YCJ7XQ7HASKB                             Breaking Bad: Season 2   \n",
       "17838  A2YCJ7XQ7HASKB                                     God's Not Dead   \n",
       "17839  A2YCJ7XQ7HASKB                   Magnum P.I.: The Complete Series   \n",
       "17840  A2YCJ7XQ7HASKB  Abbott & Costello: The Complete Universal Pict...   \n",
       "17841  A2YCJ7XQ7HASKB                       The Silence of the Lambs VHS   \n",
       "17842  A2YCJ7XQ7HASKB                                          Laura VHS   \n",
       "17843  A2YCJ7XQ7HASKB                  Police Squad! The Complete Series   \n",
       "17844  A2YCJ7XQ7HASKB          MURDOCH MYSTERIES COLLECTION: SEASONS 1-4   \n",
       "17845  A2YCJ7XQ7HASKB                                 The Lost Battalion   \n",
       "17846  A2YCJ7XQ7HASKB                                The Horse Whisperer   \n",
       "17847  A2YCJ7XQ7HASKB                               The Christmas Candle   \n",
       "17848  A2YCJ7XQ7HASKB                                         Cinderella   \n",
       "17849  A2YCJ7XQ7HASKB                                    Bones: Season 7   \n",
       "\n",
       "       rat_pred  \n",
       "17800  5.000000  \n",
       "17801  5.000000  \n",
       "17802  5.000000  \n",
       "17803  5.000000  \n",
       "17804  5.000000  \n",
       "17805  5.000000  \n",
       "17806  5.000000  \n",
       "17807  5.000000  \n",
       "17808  5.000000  \n",
       "17809  5.000000  \n",
       "17810  5.000000  \n",
       "17811  5.000000  \n",
       "17812  5.000000  \n",
       "17813  5.000000  \n",
       "17814  5.000000  \n",
       "17815  5.000000  \n",
       "17816  5.000000  \n",
       "17817  5.000000  \n",
       "17818  5.000000  \n",
       "17819  4.998879  \n",
       "17820  4.998721  \n",
       "17821  4.994600  \n",
       "17822  4.994366  \n",
       "17823  4.991372  \n",
       "17824  4.984170  \n",
       "17825  4.981973  \n",
       "17826  4.980198  \n",
       "17827  4.979984  \n",
       "17828  4.979363  \n",
       "17829  4.977026  \n",
       "17830  4.975861  \n",
       "17831  4.975749  \n",
       "17832  4.972462  \n",
       "17833  4.972459  \n",
       "17834  4.970230  \n",
       "17835  4.967165  \n",
       "17836  4.966409  \n",
       "17837  4.966240  \n",
       "17838  4.965998  \n",
       "17839  4.963727  \n",
       "17840  4.961627  \n",
       "17841  4.960536  \n",
       "17842  4.954675  \n",
       "17843  4.953599  \n",
       "17844  4.953070  \n",
       "17845  4.952965  \n",
       "17846  4.951981  \n",
       "17847  4.951917  \n",
       "17848  4.951634  \n",
       "17849  4.951523  "
      ]
     },
     "execution_count": 325,
     "metadata": {},
     "output_type": "execute_result"
    }
   ],
   "source": [
    "pred_[:50]"
   ]
  },
  {
   "cell_type": "code",
   "execution_count": 326,
   "metadata": {},
   "outputs": [
    {
     "data": {
      "text/html": [
       "<div>\n",
       "<style scoped>\n",
       "    .dataframe tbody tr th:only-of-type {\n",
       "        vertical-align: middle;\n",
       "    }\n",
       "\n",
       "    .dataframe tbody tr th {\n",
       "        vertical-align: top;\n",
       "    }\n",
       "\n",
       "    .dataframe thead th {\n",
       "        text-align: right;\n",
       "    }\n",
       "</style>\n",
       "<table border=\"1\" class=\"dataframe\">\n",
       "  <thead>\n",
       "    <tr style=\"text-align: right;\">\n",
       "      <th></th>\n",
       "      <th>reviewerID</th>\n",
       "      <th>title</th>\n",
       "      <th>overall</th>\n",
       "    </tr>\n",
       "  </thead>\n",
       "  <tbody>\n",
       "    <tr>\n",
       "      <th>285247</th>\n",
       "      <td>A2YCJ7XQ7HASKB</td>\n",
       "      <td>Captain America: The Winter Soldier</td>\n",
       "      <td>5.0</td>\n",
       "    </tr>\n",
       "    <tr>\n",
       "      <th>284522</th>\n",
       "      <td>A2YCJ7XQ7HASKB</td>\n",
       "      <td>Pitch Perfect</td>\n",
       "      <td>5.0</td>\n",
       "    </tr>\n",
       "    <tr>\n",
       "      <th>291366</th>\n",
       "      <td>A2YCJ7XQ7HASKB</td>\n",
       "      <td>Safe Haven (Blu-ray + Digital Copy) [Bilingual]</td>\n",
       "      <td>5.0</td>\n",
       "    </tr>\n",
       "    <tr>\n",
       "      <th>297409</th>\n",
       "      <td>A2YCJ7XQ7HASKB</td>\n",
       "      <td>Olympus has Fallen</td>\n",
       "      <td>5.0</td>\n",
       "    </tr>\n",
       "    <tr>\n",
       "      <th>297923</th>\n",
       "      <td>A2YCJ7XQ7HASKB</td>\n",
       "      <td>300: Rise of an Empire</td>\n",
       "      <td>5.0</td>\n",
       "    </tr>\n",
       "    <tr>\n",
       "      <th>299024</th>\n",
       "      <td>A2YCJ7XQ7HASKB</td>\n",
       "      <td>Looper (Dvd,2012)</td>\n",
       "      <td>5.0</td>\n",
       "    </tr>\n",
       "    <tr>\n",
       "      <th>309273</th>\n",
       "      <td>A2YCJ7XQ7HASKB</td>\n",
       "      <td>Elysium (Bilingual) [DVD + UltraViolet]</td>\n",
       "      <td>5.0</td>\n",
       "    </tr>\n",
       "    <tr>\n",
       "      <th>312022</th>\n",
       "      <td>A2YCJ7XQ7HASKB</td>\n",
       "      <td>The Hunger Games: Catching Fire 2013</td>\n",
       "      <td>5.0</td>\n",
       "    </tr>\n",
       "    <tr>\n",
       "      <th>312736</th>\n",
       "      <td>A2YCJ7XQ7HASKB</td>\n",
       "      <td>The Family</td>\n",
       "      <td>5.0</td>\n",
       "    </tr>\n",
       "    <tr>\n",
       "      <th>313238</th>\n",
       "      <td>A2YCJ7XQ7HASKB</td>\n",
       "      <td>Lone Survivor [DVD]</td>\n",
       "      <td>5.0</td>\n",
       "    </tr>\n",
       "    <tr>\n",
       "      <th>314390</th>\n",
       "      <td>A2YCJ7XQ7HASKB</td>\n",
       "      <td>Thor: The Dark World (Blu-ray)</td>\n",
       "      <td>5.0</td>\n",
       "    </tr>\n",
       "    <tr>\n",
       "      <th>314695</th>\n",
       "      <td>A2YCJ7XQ7HASKB</td>\n",
       "      <td>American Hustle</td>\n",
       "      <td>5.0</td>\n",
       "    </tr>\n",
       "    <tr>\n",
       "      <th>315095</th>\n",
       "      <td>A2YCJ7XQ7HASKB</td>\n",
       "      <td>Divergent</td>\n",
       "      <td>5.0</td>\n",
       "    </tr>\n",
       "    <tr>\n",
       "      <th>316207</th>\n",
       "      <td>A2YCJ7XQ7HASKB</td>\n",
       "      <td>The Amazing Spider-Man 2 2014</td>\n",
       "      <td>5.0</td>\n",
       "    </tr>\n",
       "    <tr>\n",
       "      <th>321808</th>\n",
       "      <td>A2YCJ7XQ7HASKB</td>\n",
       "      <td>Jersey Boys 2014</td>\n",
       "      <td>5.0</td>\n",
       "    </tr>\n",
       "    <tr>\n",
       "      <th>321995</th>\n",
       "      <td>A2YCJ7XQ7HASKB</td>\n",
       "      <td>3 Days to Kill</td>\n",
       "      <td>5.0</td>\n",
       "    </tr>\n",
       "    <tr>\n",
       "      <th>322570</th>\n",
       "      <td>A2YCJ7XQ7HASKB</td>\n",
       "      <td>A Million Ways to Die in the West 2014</td>\n",
       "      <td>5.0</td>\n",
       "    </tr>\n",
       "    <tr>\n",
       "      <th>333589</th>\n",
       "      <td>A2YCJ7XQ7HASKB</td>\n",
       "      <td>Guardians of the Galaxy</td>\n",
       "      <td>5.0</td>\n",
       "    </tr>\n",
       "    <tr>\n",
       "      <th>333840</th>\n",
       "      <td>A2YCJ7XQ7HASKB</td>\n",
       "      <td>Guardians Of The Galaxy Region Free</td>\n",
       "      <td>5.0</td>\n",
       "    </tr>\n",
       "    <tr>\n",
       "      <th>335019</th>\n",
       "      <td>A2YCJ7XQ7HASKB</td>\n",
       "      <td>Guardians of the Galaxy [Blu-ray]</td>\n",
       "      <td>5.0</td>\n",
       "    </tr>\n",
       "    <tr>\n",
       "      <th>341835</th>\n",
       "      <td>A2YCJ7XQ7HASKB</td>\n",
       "      <td>The Lord Of The Rings: The Return Of The King</td>\n",
       "      <td>5.0</td>\n",
       "    </tr>\n",
       "    <tr>\n",
       "      <th>289727</th>\n",
       "      <td>A2YCJ7XQ7HASKB</td>\n",
       "      <td>White House Down</td>\n",
       "      <td>5.0</td>\n",
       "    </tr>\n",
       "    <tr>\n",
       "      <th>348307</th>\n",
       "      <td>A2YCJ7XQ7HASKB</td>\n",
       "      <td>Lord of the Rings Return of the King 2 Disc Ex...</td>\n",
       "      <td>5.0</td>\n",
       "    </tr>\n",
       "    <tr>\n",
       "      <th>262629</th>\n",
       "      <td>A2YCJ7XQ7HASKB</td>\n",
       "      <td>The Hobbit: The Desolation of Smaug</td>\n",
       "      <td>5.0</td>\n",
       "    </tr>\n",
       "    <tr>\n",
       "      <th>281923</th>\n",
       "      <td>A2YCJ7XQ7HASKB</td>\n",
       "      <td>End of Watch</td>\n",
       "      <td>5.0</td>\n",
       "    </tr>\n",
       "    <tr>\n",
       "      <th>275483</th>\n",
       "      <td>A2YCJ7XQ7HASKB</td>\n",
       "      <td>Taken 2</td>\n",
       "      <td>5.0</td>\n",
       "    </tr>\n",
       "    <tr>\n",
       "      <th>69379</th>\n",
       "      <td>A2YCJ7XQ7HASKB</td>\n",
       "      <td>The Lord of the Rings: The Fellowship of the Ring</td>\n",
       "      <td>5.0</td>\n",
       "    </tr>\n",
       "    <tr>\n",
       "      <th>274550</th>\n",
       "      <td>A2YCJ7XQ7HASKB</td>\n",
       "      <td>The Hunger Games (2 Disc) [Region 2] [UK Import]</td>\n",
       "      <td>5.0</td>\n",
       "    </tr>\n",
       "    <tr>\n",
       "      <th>82043</th>\n",
       "      <td>A2YCJ7XQ7HASKB</td>\n",
       "      <td>The Lord of the Rings - The Two Towers VHS</td>\n",
       "      <td>5.0</td>\n",
       "    </tr>\n",
       "    <tr>\n",
       "      <th>82747</th>\n",
       "      <td>A2YCJ7XQ7HASKB</td>\n",
       "      <td>The Lord of the Rings: The Return of the King</td>\n",
       "      <td>5.0</td>\n",
       "    </tr>\n",
       "    <tr>\n",
       "      <th>90801</th>\n",
       "      <td>A2YCJ7XQ7HASKB</td>\n",
       "      <td>The Day After Tomorrow</td>\n",
       "      <td>5.0</td>\n",
       "    </tr>\n",
       "    <tr>\n",
       "      <th>268809</th>\n",
       "      <td>A2YCJ7XQ7HASKB</td>\n",
       "      <td>Looper</td>\n",
       "      <td>5.0</td>\n",
       "    </tr>\n",
       "    <tr>\n",
       "      <th>171341</th>\n",
       "      <td>A2YCJ7XQ7HASKB</td>\n",
       "      <td>Gatekeepers:for Tomorrow VHS</td>\n",
       "      <td>5.0</td>\n",
       "    </tr>\n",
       "    <tr>\n",
       "      <th>262875</th>\n",
       "      <td>A2YCJ7XQ7HASKB</td>\n",
       "      <td>The Hobbit: An Unexpected Journey</td>\n",
       "      <td>5.0</td>\n",
       "    </tr>\n",
       "    <tr>\n",
       "      <th>253980</th>\n",
       "      <td>A2YCJ7XQ7HASKB</td>\n",
       "      <td>The Amazing Spider-Man</td>\n",
       "      <td>5.0</td>\n",
       "    </tr>\n",
       "    <tr>\n",
       "      <th>244579</th>\n",
       "      <td>A2YCJ7XQ7HASKB</td>\n",
       "      <td>True Grit</td>\n",
       "      <td>5.0</td>\n",
       "    </tr>\n",
       "    <tr>\n",
       "      <th>248989</th>\n",
       "      <td>A2YCJ7XQ7HASKB</td>\n",
       "      <td>The Tourist</td>\n",
       "      <td>4.0</td>\n",
       "    </tr>\n",
       "    <tr>\n",
       "      <th>239932</th>\n",
       "      <td>A2YCJ7XQ7HASKB</td>\n",
       "      <td>Percy Jackson and the Lightning Thief</td>\n",
       "      <td>4.0</td>\n",
       "    </tr>\n",
       "    <tr>\n",
       "      <th>282605</th>\n",
       "      <td>A2YCJ7XQ7HASKB</td>\n",
       "      <td>The Bourne Legacy Steelbook</td>\n",
       "      <td>4.0</td>\n",
       "    </tr>\n",
       "    <tr>\n",
       "      <th>251830</th>\n",
       "      <td>A2YCJ7XQ7HASKB</td>\n",
       "      <td>Unstoppable</td>\n",
       "      <td>4.0</td>\n",
       "    </tr>\n",
       "    <tr>\n",
       "      <th>15627</th>\n",
       "      <td>A2YCJ7XQ7HASKB</td>\n",
       "      <td>Adventures in Babysitting VHS</td>\n",
       "      <td>4.0</td>\n",
       "    </tr>\n",
       "    <tr>\n",
       "      <th>268135</th>\n",
       "      <td>A2YCJ7XQ7HASKB</td>\n",
       "      <td>The Vow</td>\n",
       "      <td>4.0</td>\n",
       "    </tr>\n",
       "    <tr>\n",
       "      <th>304679</th>\n",
       "      <td>A2YCJ7XQ7HASKB</td>\n",
       "      <td>Percy Jackson: Sea of Monsters</td>\n",
       "      <td>4.0</td>\n",
       "    </tr>\n",
       "    <tr>\n",
       "      <th>269927</th>\n",
       "      <td>A2YCJ7XQ7HASKB</td>\n",
       "      <td>The Bourne Legacy</td>\n",
       "      <td>4.0</td>\n",
       "    </tr>\n",
       "    <tr>\n",
       "      <th>271842</th>\n",
       "      <td>A2YCJ7XQ7HASKB</td>\n",
       "      <td>Argo</td>\n",
       "      <td>4.0</td>\n",
       "    </tr>\n",
       "    <tr>\n",
       "      <th>296755</th>\n",
       "      <td>A2YCJ7XQ7HASKB</td>\n",
       "      <td>We're the Millers</td>\n",
       "      <td>4.0</td>\n",
       "    </tr>\n",
       "    <tr>\n",
       "      <th>252057</th>\n",
       "      <td>A2YCJ7XQ7HASKB</td>\n",
       "      <td>4 Movie Marathon: Family Comedy Collection</td>\n",
       "      <td>3.0</td>\n",
       "    </tr>\n",
       "    <tr>\n",
       "      <th>4445</th>\n",
       "      <td>A2YCJ7XQ7HASKB</td>\n",
       "      <td>One Flew Over the Cuckoo's Nest</td>\n",
       "      <td>3.0</td>\n",
       "    </tr>\n",
       "  </tbody>\n",
       "</table>\n",
       "</div>"
      ],
      "text/plain": [
       "            reviewerID                                              title  \\\n",
       "285247  A2YCJ7XQ7HASKB                Captain America: The Winter Soldier   \n",
       "284522  A2YCJ7XQ7HASKB                                      Pitch Perfect   \n",
       "291366  A2YCJ7XQ7HASKB    Safe Haven (Blu-ray + Digital Copy) [Bilingual]   \n",
       "297409  A2YCJ7XQ7HASKB                                 Olympus has Fallen   \n",
       "297923  A2YCJ7XQ7HASKB                             300: Rise of an Empire   \n",
       "299024  A2YCJ7XQ7HASKB                                  Looper (Dvd,2012)   \n",
       "309273  A2YCJ7XQ7HASKB            Elysium (Bilingual) [DVD + UltraViolet]   \n",
       "312022  A2YCJ7XQ7HASKB               The Hunger Games: Catching Fire 2013   \n",
       "312736  A2YCJ7XQ7HASKB                                         The Family   \n",
       "313238  A2YCJ7XQ7HASKB                                Lone Survivor [DVD]   \n",
       "314390  A2YCJ7XQ7HASKB                     Thor: The Dark World (Blu-ray)   \n",
       "314695  A2YCJ7XQ7HASKB                                    American Hustle   \n",
       "315095  A2YCJ7XQ7HASKB                                          Divergent   \n",
       "316207  A2YCJ7XQ7HASKB                      The Amazing Spider-Man 2 2014   \n",
       "321808  A2YCJ7XQ7HASKB                                   Jersey Boys 2014   \n",
       "321995  A2YCJ7XQ7HASKB                                     3 Days to Kill   \n",
       "322570  A2YCJ7XQ7HASKB             A Million Ways to Die in the West 2014   \n",
       "333589  A2YCJ7XQ7HASKB                            Guardians of the Galaxy   \n",
       "333840  A2YCJ7XQ7HASKB                Guardians Of The Galaxy Region Free   \n",
       "335019  A2YCJ7XQ7HASKB                  Guardians of the Galaxy [Blu-ray]   \n",
       "341835  A2YCJ7XQ7HASKB      The Lord Of The Rings: The Return Of The King   \n",
       "289727  A2YCJ7XQ7HASKB                                   White House Down   \n",
       "348307  A2YCJ7XQ7HASKB  Lord of the Rings Return of the King 2 Disc Ex...   \n",
       "262629  A2YCJ7XQ7HASKB                The Hobbit: The Desolation of Smaug   \n",
       "281923  A2YCJ7XQ7HASKB                                       End of Watch   \n",
       "275483  A2YCJ7XQ7HASKB                                            Taken 2   \n",
       "69379   A2YCJ7XQ7HASKB  The Lord of the Rings: The Fellowship of the Ring   \n",
       "274550  A2YCJ7XQ7HASKB   The Hunger Games (2 Disc) [Region 2] [UK Import]   \n",
       "82043   A2YCJ7XQ7HASKB         The Lord of the Rings - The Two Towers VHS   \n",
       "82747   A2YCJ7XQ7HASKB      The Lord of the Rings: The Return of the King   \n",
       "90801   A2YCJ7XQ7HASKB                             The Day After Tomorrow   \n",
       "268809  A2YCJ7XQ7HASKB                                             Looper   \n",
       "171341  A2YCJ7XQ7HASKB                       Gatekeepers:for Tomorrow VHS   \n",
       "262875  A2YCJ7XQ7HASKB                  The Hobbit: An Unexpected Journey   \n",
       "253980  A2YCJ7XQ7HASKB                             The Amazing Spider-Man   \n",
       "244579  A2YCJ7XQ7HASKB                                          True Grit   \n",
       "248989  A2YCJ7XQ7HASKB                                        The Tourist   \n",
       "239932  A2YCJ7XQ7HASKB              Percy Jackson and the Lightning Thief   \n",
       "282605  A2YCJ7XQ7HASKB                        The Bourne Legacy Steelbook   \n",
       "251830  A2YCJ7XQ7HASKB                                        Unstoppable   \n",
       "15627   A2YCJ7XQ7HASKB                      Adventures in Babysitting VHS   \n",
       "268135  A2YCJ7XQ7HASKB                                            The Vow   \n",
       "304679  A2YCJ7XQ7HASKB                     Percy Jackson: Sea of Monsters   \n",
       "269927  A2YCJ7XQ7HASKB                                  The Bourne Legacy   \n",
       "271842  A2YCJ7XQ7HASKB                                               Argo   \n",
       "296755  A2YCJ7XQ7HASKB                                  We're the Millers   \n",
       "252057  A2YCJ7XQ7HASKB         4 Movie Marathon: Family Comedy Collection   \n",
       "4445    A2YCJ7XQ7HASKB                    One Flew Over the Cuckoo's Nest   \n",
       "\n",
       "        overall  \n",
       "285247      5.0  \n",
       "284522      5.0  \n",
       "291366      5.0  \n",
       "297409      5.0  \n",
       "297923      5.0  \n",
       "299024      5.0  \n",
       "309273      5.0  \n",
       "312022      5.0  \n",
       "312736      5.0  \n",
       "313238      5.0  \n",
       "314390      5.0  \n",
       "314695      5.0  \n",
       "315095      5.0  \n",
       "316207      5.0  \n",
       "321808      5.0  \n",
       "321995      5.0  \n",
       "322570      5.0  \n",
       "333589      5.0  \n",
       "333840      5.0  \n",
       "335019      5.0  \n",
       "341835      5.0  \n",
       "289727      5.0  \n",
       "348307      5.0  \n",
       "262629      5.0  \n",
       "281923      5.0  \n",
       "275483      5.0  \n",
       "69379       5.0  \n",
       "274550      5.0  \n",
       "82043       5.0  \n",
       "82747       5.0  \n",
       "90801       5.0  \n",
       "268809      5.0  \n",
       "171341      5.0  \n",
       "262875      5.0  \n",
       "253980      5.0  \n",
       "244579      5.0  \n",
       "248989      4.0  \n",
       "239932      4.0  \n",
       "282605      4.0  \n",
       "251830      4.0  \n",
       "15627       4.0  \n",
       "268135      4.0  \n",
       "304679      4.0  \n",
       "269927      4.0  \n",
       "271842      4.0  \n",
       "296755      4.0  \n",
       "252057      3.0  \n",
       "4445        3.0  "
      ]
     },
     "execution_count": 326,
     "metadata": {},
     "output_type": "execute_result"
    }
   ],
   "source": [
    "hist_"
   ]
  },
  {
   "cell_type": "code",
   "execution_count": null,
   "metadata": {},
   "outputs": [],
   "source": []
  },
  {
   "cell_type": "code",
   "execution_count": 338,
   "metadata": {},
   "outputs": [],
   "source": [
    "subsample_ratings.drop_duplicates().to_csv(data_dir + '/sampled_titles_baseline.csv', index=False)"
   ]
  },
  {
   "cell_type": "code",
   "execution_count": null,
   "metadata": {},
   "outputs": [],
   "source": []
  }
 ],
 "metadata": {
  "kernelspec": {
   "display_name": "Python 3",
   "language": "python",
   "name": "python3"
  },
  "language_info": {
   "codemirror_mode": {
    "name": "ipython",
    "version": 3
   },
   "file_extension": ".py",
   "mimetype": "text/x-python",
   "name": "python",
   "nbconvert_exporter": "python",
   "pygments_lexer": "ipython3",
   "version": "3.7.4"
  },
  "toc": {
   "base_numbering": 1,
   "nav_menu": {},
   "number_sections": true,
   "sideBar": true,
   "skip_h1_title": false,
   "title_cell": "Table of Contents",
   "title_sidebar": "Contents",
   "toc_cell": false,
   "toc_position": {},
   "toc_section_display": true,
   "toc_window_display": false
  }
 },
 "nbformat": 4,
 "nbformat_minor": 4
}
