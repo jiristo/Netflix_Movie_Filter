{
 "cells": [
  {
   "cell_type": "code",
   "execution_count": 353,
   "metadata": {},
   "outputs": [],
   "source": [
    "import pandas as pd\n",
    "import json, os\n",
    "import numpy as np\n",
    "\n",
    "pd.set_option('display.max_columns', 500)\n"
   ]
  },
  {
   "cell_type": "code",
   "execution_count": 2,
   "metadata": {},
   "outputs": [
    {
     "data": {
      "text/plain": [
       "'/Users/jiristodulka/GoogleDrive/GitHub/Netflix_Movie_Filter/data'"
      ]
     },
     "execution_count": 2,
     "metadata": {},
     "output_type": "execute_result"
    }
   ],
   "source": [
    "data_dir = os.path.join(os.path.dirname(os.getcwd()),'data')\n",
    "data_dir"
   ]
  },
  {
   "cell_type": "code",
   "execution_count": 31,
   "metadata": {},
   "outputs": [],
   "source": [
    "file_path = os.path.join(data_dir, \"imdb_scraped_less.txt\")\n",
    "df = pd.read_json(file_path, orient = 'records')"
   ]
  },
  {
   "cell_type": "code",
   "execution_count": 32,
   "metadata": {},
   "outputs": [
    {
     "name": "stdout",
     "output_type": "stream",
     "text": [
      "(65406, 16)\n",
      "Index(['title', 'rating', 'year', 'users_rating', 'votes', 'metascore',\n",
      "       'img_url', 'countries', 'languages', 'actors', 'genre', 'tagline',\n",
      "       'description', 'directors', 'runtime', 'imdb_url'],\n",
      "      dtype='object')\n"
     ]
    }
   ],
   "source": [
    "print(df.shape)\n",
    "print(df.columns)"
   ]
  },
  {
   "cell_type": "code",
   "execution_count": 41,
   "metadata": {},
   "outputs": [],
   "source": [
    "votes = [s.replace(',', '') if s is not None else None for s in df.votes]\n",
    "df['votes_int'] = pd.to_numeric(votes, errors='coerce')"
   ]
  },
  {
   "cell_type": "code",
   "execution_count": 306,
   "metadata": {},
   "outputs": [
    {
     "data": {
      "text/plain": [
       "6.0     0.020029\n",
       "7.0     0.019555\n",
       "8.0     0.018439\n",
       "9.0     0.016926\n",
       "10.0    0.016559\n",
       "11.0    0.014357\n",
       "12.0    0.012981\n",
       "5.0     0.012446\n",
       "13.0    0.011788\n",
       "14.0    0.010886\n",
       "15.0    0.010091\n",
       "16.0    0.009006\n",
       "17.0    0.008944\n",
       "18.0    0.008302\n",
       "19.0    0.007782\n",
       "20.0    0.007003\n",
       "Name: votes_int, dtype: float64"
      ]
     },
     "execution_count": 306,
     "metadata": {},
     "output_type": "execute_result"
    }
   ],
   "source": [
    "df.votes_int.value_counts(normalize = True)[:20]"
   ]
  },
  {
   "cell_type": "code",
   "execution_count": 425,
   "metadata": {},
   "outputs": [],
   "source": [
    "df_filtered = df[(df.users_rating >= 2.0) & (df.votes_int >= 20000)]\n"
   ]
  },
  {
   "cell_type": "code",
   "execution_count": 426,
   "metadata": {},
   "outputs": [
    {
     "data": {
      "text/html": [
       "<div>\n",
       "<style scoped>\n",
       "    .dataframe tbody tr th:only-of-type {\n",
       "        vertical-align: middle;\n",
       "    }\n",
       "\n",
       "    .dataframe tbody tr th {\n",
       "        vertical-align: top;\n",
       "    }\n",
       "\n",
       "    .dataframe thead th {\n",
       "        text-align: right;\n",
       "    }\n",
       "</style>\n",
       "<table border=\"1\" class=\"dataframe\">\n",
       "  <thead>\n",
       "    <tr style=\"text-align: right;\">\n",
       "      <th></th>\n",
       "      <th>title</th>\n",
       "      <th>rating</th>\n",
       "      <th>year</th>\n",
       "      <th>users_rating</th>\n",
       "      <th>votes</th>\n",
       "      <th>metascore</th>\n",
       "      <th>img_url</th>\n",
       "      <th>countries</th>\n",
       "      <th>languages</th>\n",
       "      <th>actors</th>\n",
       "      <th>genre</th>\n",
       "      <th>tagline</th>\n",
       "      <th>description</th>\n",
       "      <th>directors</th>\n",
       "      <th>runtime</th>\n",
       "      <th>imdb_url</th>\n",
       "      <th>votes_int</th>\n",
       "    </tr>\n",
       "  </thead>\n",
       "  <tbody>\n",
       "    <tr>\n",
       "      <th>0</th>\n",
       "      <td>For Love of the Game</td>\n",
       "      <td>PG-13</td>\n",
       "      <td>1999.0</td>\n",
       "      <td>6.6</td>\n",
       "      <td>31,110</td>\n",
       "      <td>43.0</td>\n",
       "      <td>https://m.media-amazon.com/images/M/MV5BZDgzY2...</td>\n",
       "      <td>[USA]</td>\n",
       "      <td>[English]</td>\n",
       "      <td>[Kevin Costner, Kelly Preston, John C. Reilly,...</td>\n",
       "      <td>[Drama, Romance, Sport]</td>\n",
       "      <td>Billy Chapel must choose between the woman he ...</td>\n",
       "      <td>After 19 years of playing the game he's loved ...</td>\n",
       "      <td>[Sam Raimi]</td>\n",
       "      <td>137 min</td>\n",
       "      <td>https://www.imdb.com/title/tt0126916/</td>\n",
       "      <td>31110.0</td>\n",
       "    </tr>\n",
       "    <tr>\n",
       "      <th>1</th>\n",
       "      <td>Tombstone</td>\n",
       "      <td>R</td>\n",
       "      <td>1993.0</td>\n",
       "      <td>7.8</td>\n",
       "      <td>122,341</td>\n",
       "      <td>50.0</td>\n",
       "      <td>https://m.media-amazon.com/images/M/MV5BODRkYz...</td>\n",
       "      <td>[USA]</td>\n",
       "      <td>[English, Latin]</td>\n",
       "      <td>[Kurt Russell, Val Kilmer, Sam Elliott, Bill P...</td>\n",
       "      <td>[Action, Biography, Drama, History, Western]</td>\n",
       "      <td>I'm your huckleberry!</td>\n",
       "      <td>A successful lawman's plans to retire anonymou...</td>\n",
       "      <td>[George P. Cosmatos, Kevin Jarre]</td>\n",
       "      <td>130 min</td>\n",
       "      <td>https://www.imdb.com/title/tt0108358/</td>\n",
       "      <td>122341.0</td>\n",
       "    </tr>\n",
       "    <tr>\n",
       "      <th>2</th>\n",
       "      <td>Sleepy Hollow</td>\n",
       "      <td>R</td>\n",
       "      <td>1999.0</td>\n",
       "      <td>7.3</td>\n",
       "      <td>321,559</td>\n",
       "      <td>65.0</td>\n",
       "      <td>https://m.media-amazon.com/images/M/MV5BMTQ4Yj...</td>\n",
       "      <td>[Germany, USA]</td>\n",
       "      <td>[English, Latin]</td>\n",
       "      <td>[Johnny Depp, Christina Ricci, Miranda Richard...</td>\n",
       "      <td>[Fantasy, Horror, Mystery]</td>\n",
       "      <td>Close Your Eyes.  Say Your Prayers.  Sleep If ...</td>\n",
       "      <td>Ichabod Crane is sent to Sleepy Hollow to inve...</td>\n",
       "      <td>[Tim Burton]</td>\n",
       "      <td>105 min</td>\n",
       "      <td>https://www.imdb.com/title/tt0162661/</td>\n",
       "      <td>321559.0</td>\n",
       "    </tr>\n",
       "    <tr>\n",
       "      <th>3</th>\n",
       "      <td>Whiplash</td>\n",
       "      <td>R</td>\n",
       "      <td>2014.0</td>\n",
       "      <td>8.5</td>\n",
       "      <td>685,087</td>\n",
       "      <td>88.0</td>\n",
       "      <td>https://m.media-amazon.com/images/M/MV5BOTA5ND...</td>\n",
       "      <td>[USA]</td>\n",
       "      <td>[English]</td>\n",
       "      <td>[Miles Teller, J.K. Simmons, Paul Reiser, Meli...</td>\n",
       "      <td>[Drama, Music]</td>\n",
       "      <td>The road to greatness can take you to the edge</td>\n",
       "      <td>A promising young drummer enrolls at a cut-thr...</td>\n",
       "      <td>[Damien Chazelle]</td>\n",
       "      <td>106 min</td>\n",
       "      <td>https://www.imdb.com/title/tt2582802/</td>\n",
       "      <td>685087.0</td>\n",
       "    </tr>\n",
       "    <tr>\n",
       "      <th>4</th>\n",
       "      <td>The Lord of the Rings: The Return of the King</td>\n",
       "      <td>PG-13</td>\n",
       "      <td>2003.0</td>\n",
       "      <td>8.9</td>\n",
       "      <td>1,596,400</td>\n",
       "      <td>94.0</td>\n",
       "      <td>https://m.media-amazon.com/images/M/MV5BNzA5ZD...</td>\n",
       "      <td>[New Zealand, USA]</td>\n",
       "      <td>[English, Quenya, Old English, Sindarin]</td>\n",
       "      <td>[Noel Appleby, Ali Astin, Sean Astin, David As...</td>\n",
       "      <td>[Adventure, Drama, Fantasy]</td>\n",
       "      <td>This Christmas the journey ends.</td>\n",
       "      <td>Gandalf and Aragorn lead the World of Men agai...</td>\n",
       "      <td>[Peter Jackson]</td>\n",
       "      <td>201 min</td>\n",
       "      <td>https://www.imdb.com/title/tt0167260/</td>\n",
       "      <td>1596400.0</td>\n",
       "    </tr>\n",
       "  </tbody>\n",
       "</table>\n",
       "</div>"
      ],
      "text/plain": [
       "                                           title rating    year  users_rating  \\\n",
       "0                           For Love of the Game  PG-13  1999.0           6.6   \n",
       "1                                      Tombstone      R  1993.0           7.8   \n",
       "2                                  Sleepy Hollow      R  1999.0           7.3   \n",
       "3                                       Whiplash      R  2014.0           8.5   \n",
       "4  The Lord of the Rings: The Return of the King  PG-13  2003.0           8.9   \n",
       "\n",
       "       votes  metascore                                            img_url  \\\n",
       "0     31,110       43.0  https://m.media-amazon.com/images/M/MV5BZDgzY2...   \n",
       "1    122,341       50.0  https://m.media-amazon.com/images/M/MV5BODRkYz...   \n",
       "2    321,559       65.0  https://m.media-amazon.com/images/M/MV5BMTQ4Yj...   \n",
       "3    685,087       88.0  https://m.media-amazon.com/images/M/MV5BOTA5ND...   \n",
       "4  1,596,400       94.0  https://m.media-amazon.com/images/M/MV5BNzA5ZD...   \n",
       "\n",
       "            countries                                 languages  \\\n",
       "0               [USA]                                 [English]   \n",
       "1               [USA]                          [English, Latin]   \n",
       "2      [Germany, USA]                          [English, Latin]   \n",
       "3               [USA]                                 [English]   \n",
       "4  [New Zealand, USA]  [English, Quenya, Old English, Sindarin]   \n",
       "\n",
       "                                              actors  \\\n",
       "0  [Kevin Costner, Kelly Preston, John C. Reilly,...   \n",
       "1  [Kurt Russell, Val Kilmer, Sam Elliott, Bill P...   \n",
       "2  [Johnny Depp, Christina Ricci, Miranda Richard...   \n",
       "3  [Miles Teller, J.K. Simmons, Paul Reiser, Meli...   \n",
       "4  [Noel Appleby, Ali Astin, Sean Astin, David As...   \n",
       "\n",
       "                                          genre  \\\n",
       "0                       [Drama, Romance, Sport]   \n",
       "1  [Action, Biography, Drama, History, Western]   \n",
       "2                    [Fantasy, Horror, Mystery]   \n",
       "3                                [Drama, Music]   \n",
       "4                   [Adventure, Drama, Fantasy]   \n",
       "\n",
       "                                             tagline  \\\n",
       "0  Billy Chapel must choose between the woman he ...   \n",
       "1                              I'm your huckleberry!   \n",
       "2  Close Your Eyes.  Say Your Prayers.  Sleep If ...   \n",
       "3     The road to greatness can take you to the edge   \n",
       "4                   This Christmas the journey ends.   \n",
       "\n",
       "                                         description  \\\n",
       "0  After 19 years of playing the game he's loved ...   \n",
       "1  A successful lawman's plans to retire anonymou...   \n",
       "2  Ichabod Crane is sent to Sleepy Hollow to inve...   \n",
       "3  A promising young drummer enrolls at a cut-thr...   \n",
       "4  Gandalf and Aragorn lead the World of Men agai...   \n",
       "\n",
       "                           directors  runtime  \\\n",
       "0                        [Sam Raimi]  137 min   \n",
       "1  [George P. Cosmatos, Kevin Jarre]  130 min   \n",
       "2                       [Tim Burton]  105 min   \n",
       "3                  [Damien Chazelle]  106 min   \n",
       "4                    [Peter Jackson]  201 min   \n",
       "\n",
       "                                imdb_url  votes_int  \n",
       "0  https://www.imdb.com/title/tt0126916/    31110.0  \n",
       "1  https://www.imdb.com/title/tt0108358/   122341.0  \n",
       "2  https://www.imdb.com/title/tt0162661/   321559.0  \n",
       "3  https://www.imdb.com/title/tt2582802/   685087.0  \n",
       "4  https://www.imdb.com/title/tt0167260/  1596400.0  "
      ]
     },
     "execution_count": 426,
     "metadata": {},
     "output_type": "execute_result"
    }
   ],
   "source": [
    "df_filtered.head()"
   ]
  },
  {
   "cell_type": "code",
   "execution_count": 427,
   "metadata": {},
   "outputs": [
    {
     "data": {
      "text/plain": [
       "(4458, 17)"
      ]
     },
     "execution_count": 427,
     "metadata": {},
     "output_type": "execute_result"
    }
   ],
   "source": [
    "df_filtered.shape"
   ]
  },
  {
   "cell_type": "code",
   "execution_count": 428,
   "metadata": {},
   "outputs": [
    {
     "name": "stderr",
     "output_type": "stream",
     "text": [
      "/Users/jiristodulka/anaconda3/lib/python3.7/site-packages/ipykernel_launcher.py:1: SettingWithCopyWarning: \n",
      "A value is trying to be set on a copy of a slice from a DataFrame\n",
      "\n",
      "See the caveats in the documentation: http://pandas.pydata.org/pandas-docs/stable/user_guide/indexing.html#returning-a-view-versus-a-copy\n",
      "  \"\"\"Entry point for launching an IPython kernel.\n"
     ]
    }
   ],
   "source": [
    "df_filtered.drop_duplicates(subset = ['title'], inplace = True)"
   ]
  },
  {
   "cell_type": "code",
   "execution_count": 429,
   "metadata": {},
   "outputs": [
    {
     "data": {
      "text/plain": [
       "(3667, 17)"
      ]
     },
     "execution_count": 429,
     "metadata": {},
     "output_type": "execute_result"
    }
   ],
   "source": [
    "df_filtered.shape"
   ]
  },
  {
   "cell_type": "markdown",
   "metadata": {},
   "source": [
    "# Amazon Data"
   ]
  },
  {
   "cell_type": "code",
   "execution_count": 46,
   "metadata": {},
   "outputs": [],
   "source": [
    "amz = pd.read_csv(data_dir + '/baseline_data_ful_info.csv')"
   ]
  },
  {
   "cell_type": "code",
   "execution_count": 47,
   "metadata": {},
   "outputs": [
    {
     "name": "stdout",
     "output_type": "stream",
     "text": [
      "(14658, 16)\n",
      "Index(['overall', 'verified', 'reviewTime', 'reviewerID', 'asin', 'style',\n",
      "       'reviewerName', 'reviewText', 'summary', 'unixReviewTime', 'vote',\n",
      "       'image', 'title', 'char_count', 'reviewer_rating_count',\n",
      "       'title_rating_count'],\n",
      "      dtype='object')\n"
     ]
    }
   ],
   "source": [
    "print(amz.shape)\n",
    "print(amz.columns)"
   ]
  },
  {
   "cell_type": "code",
   "execution_count": 312,
   "metadata": {},
   "outputs": [
    {
     "name": "stdout",
     "output_type": "stream",
     "text": [
      "Red 2                                                  55\n",
      "Guardians of the Galaxy                                52\n",
      "Guardians of the Galaxy [Blu-ray]                      52\n",
      "Guardians Of The Galaxy Region Free                    51\n",
      "Star Trek Into Darkness                                47\n",
      "                                                       ..\n",
      "The Andy Griffith Show - The Complete Second Season     2\n",
      "This Christmas                                          2\n",
      "The Carol Burnett Show: Carol's Favorites               1\n",
      "Doc Martin, Series 7                                    1\n",
      "I Can Do Bad All By Myself                              1\n",
      "Name: title, Length: 1284, dtype: int64\n"
     ]
    }
   ],
   "source": [
    "print(amz.title.value_counts())"
   ]
  },
  {
   "cell_type": "code",
   "execution_count": 55,
   "metadata": {},
   "outputs": [],
   "source": [
    "# YOU WILL NEED TO INSTALL fuzzywuzzy PACKAGE\n",
    "from fuzzywuzzy import fuzz\n",
    "from fuzzywuzzy import process"
   ]
  },
  {
   "cell_type": "code",
   "execution_count": 53,
   "metadata": {},
   "outputs": [
    {
     "data": {
      "text/plain": [
       "1253"
      ]
     },
     "execution_count": 53,
     "metadata": {},
     "output_type": "execute_result"
    }
   ],
   "source": [
    "df_filtered.title.nunique()"
   ]
  },
  {
   "cell_type": "code",
   "execution_count": null,
   "metadata": {},
   "outputs": [],
   "source": [
    "def FindCloseTitle(df_filtered, amz):\n",
    "    '''\n",
    "    Desc.: Replace titles in amazon dataset with the ones that are the clossest match in IMBD\n",
    "        \n",
    "    '''\n",
    "    neat_titles = df_filtered['title'].astype(str).unique().tolist()\n",
    "    amazon_title= amz['title'].astype(str).unique().tolist()\n",
    "\n",
    "    new_amazon_neat_titles = [] # here we will want to replace\n",
    "    highest_ratio = []\n",
    "    \n",
    "    for i in range (len(amazon_title)):\n",
    "        ratios_list = []\n",
    "        for j in range (len(neat_titles)):\n",
    "            ratio = fuzz.token_sort_ratio(amazon_title[i].lower(), neat_titles[j].lower())\n",
    "            ratios_list.append(ratio)\n",
    "        highest_ratio_index = ratios_list.index(max(ratios_list))\n",
    "        highest_ratio.append(max(ratios_list))\n",
    "        new_amazon_neat_titles.append(neat_titles[highest_ratio_index])\n",
    "\n",
    "    old_new = pd.DataFrame({'old': amazon_title ,'new': new_amazon_neat_titles , 'ratio': highest_ratio})\n",
    "    old_new['is_same'] = old_new['old'] == old_new['new']\n",
    "    old_new['above_trashold'] = np.where(old_new['ratio']>=85, True, False)\n",
    "\n",
    "    \n",
    "    old_new_selected = old_new[old_new['above_trashold']==True]\n",
    "    merged_selec = pd.merge(amz,old_new_selected, how = 'left', left_on = 'title', right_on = 'old' )\n",
    "    merged_selec['ratio'] = merged_selec['ratio'].fillna('missing')\n",
    "    \n",
    "    \n",
    "    def replace_old(merged_selec):\n",
    "        if merged_selec['ratio'] == 'missing':\n",
    "            return np.nan\n",
    "        else:\n",
    "            return(merged_selec['new'])\n",
    "\n",
    "    merged_selec['title'] = merged_selec.apply(lambda x:replace_old(x), axis = 1 )\n",
    "    neat_titles_amazon = merged_selec.drop(['ratio', 'is_same', 'above_trashold'], axis = 1)\n",
    "    neat_titles_amazon\n",
    "    \n",
    "    return neat_titles_amazon"
   ]
  },
  {
   "cell_type": "markdown",
   "metadata": {},
   "source": [
    "### The bellow is the function broken down to smaller parts"
   ]
  },
  {
   "cell_type": "code",
   "execution_count": 430,
   "metadata": {},
   "outputs": [],
   "source": [
    "neat_titles = df_filtered['title'].astype(str).unique().tolist()\n",
    "amazon_title= amz['title'].astype(str).unique().tolist()\n",
    "    \n",
    "new_amazon_neat_titles = [] # here we will want to replace\n",
    "highest_ratio = []\n",
    "\n",
    "\n",
    "for i in range (len(amazon_title)):\n",
    "    ratios_list = []\n",
    "    for j in range (len(neat_titles)):\n",
    "        ratio = fuzz.token_sort_ratio(amazon_title[i].lower(), neat_titles[j].lower())\n",
    "        ratios_list.append(ratio)\n",
    "    highest_ratio_index = ratios_list.index(max(ratios_list))\n",
    "    highest_ratio.append(max(ratios_list))\n",
    "    new_amazon_neat_titles.append(neat_titles[highest_ratio_index])"
   ]
  },
  {
   "cell_type": "code",
   "execution_count": 449,
   "metadata": {
    "scrolled": true
   },
   "outputs": [],
   "source": [
    "old_new = pd.DataFrame({'old': amazon_title ,'new': new_amazon_neat_titles , 'ratio': highest_ratio})\n",
    "old_new['is_same'] = old_new['old'] == old_new['new']\n",
    "old_new['above_trashold'] = np.where(old_new['ratio']>=85, True, False)\n"
   ]
  },
  {
   "cell_type": "code",
   "execution_count": 452,
   "metadata": {},
   "outputs": [
    {
     "data": {
      "text/html": [
       "<div>\n",
       "<style scoped>\n",
       "    .dataframe tbody tr th:only-of-type {\n",
       "        vertical-align: middle;\n",
       "    }\n",
       "\n",
       "    .dataframe tbody tr th {\n",
       "        vertical-align: top;\n",
       "    }\n",
       "\n",
       "    .dataframe thead th {\n",
       "        text-align: right;\n",
       "    }\n",
       "</style>\n",
       "<table border=\"1\" class=\"dataframe\">\n",
       "  <thead>\n",
       "    <tr style=\"text-align: right;\">\n",
       "      <th></th>\n",
       "      <th>old</th>\n",
       "      <th>new</th>\n",
       "      <th>above_trashold</th>\n",
       "      <th>ratio</th>\n",
       "    </tr>\n",
       "  </thead>\n",
       "  <tbody>\n",
       "    <tr>\n",
       "      <th>0</th>\n",
       "      <td>Joseph VHS</td>\n",
       "      <td>The Joneses</td>\n",
       "      <td>False</td>\n",
       "      <td>57</td>\n",
       "    </tr>\n",
       "    <tr>\n",
       "      <th>1</th>\n",
       "      <td>The Very Best of the Bob Newhart Show 6 VHS</td>\n",
       "      <td>Beneath the Planet of the Apes</td>\n",
       "      <td>False</td>\n",
       "      <td>55</td>\n",
       "    </tr>\n",
       "    <tr>\n",
       "      <th>2</th>\n",
       "      <td>The Crossing VHS</td>\n",
       "      <td>Miller's Crossing</td>\n",
       "      <td>False</td>\n",
       "      <td>73</td>\n",
       "    </tr>\n",
       "    <tr>\n",
       "      <th>3</th>\n",
       "      <td>Air Force One</td>\n",
       "      <td>One Fine Day</td>\n",
       "      <td>False</td>\n",
       "      <td>64</td>\n",
       "    </tr>\n",
       "    <tr>\n",
       "      <th>4</th>\n",
       "      <td>Steel Magnolias VHS</td>\n",
       "      <td>Steel Magnolias</td>\n",
       "      <td>True</td>\n",
       "      <td>88</td>\n",
       "    </tr>\n",
       "    <tr>\n",
       "      <th>...</th>\n",
       "      <td>...</td>\n",
       "      <td>...</td>\n",
       "      <td>...</td>\n",
       "      <td>...</td>\n",
       "    </tr>\n",
       "    <tr>\n",
       "      <th>1279</th>\n",
       "      <td>Victory at Sea: The Complete Series by Mill Cr...</td>\n",
       "      <td>Star Wars: Episode V - The Empire Strikes Back</td>\n",
       "      <td>False</td>\n",
       "      <td>50</td>\n",
       "    </tr>\n",
       "    <tr>\n",
       "      <th>1280</th>\n",
       "      <td>Game of Thrones: The Complete 6th Season</td>\n",
       "      <td>Halloween III: Season of the Witch</td>\n",
       "      <td>False</td>\n",
       "      <td>61</td>\n",
       "    </tr>\n",
       "    <tr>\n",
       "      <th>1281</th>\n",
       "      <td>The Legend of Tarzan</td>\n",
       "      <td>The Legend of Zorro</td>\n",
       "      <td>False</td>\n",
       "      <td>67</td>\n",
       "    </tr>\n",
       "    <tr>\n",
       "      <th>1282</th>\n",
       "      <td>Central Intelligence</td>\n",
       "      <td>A.I. Artificial Intelligence</td>\n",
       "      <td>False</td>\n",
       "      <td>68</td>\n",
       "    </tr>\n",
       "    <tr>\n",
       "      <th>1283</th>\n",
       "      <td>Independence Day Resurgence</td>\n",
       "      <td>Independence Day</td>\n",
       "      <td>False</td>\n",
       "      <td>74</td>\n",
       "    </tr>\n",
       "  </tbody>\n",
       "</table>\n",
       "<p>1284 rows × 4 columns</p>\n",
       "</div>"
      ],
      "text/plain": [
       "                                                    old  \\\n",
       "0                                            Joseph VHS   \n",
       "1           The Very Best of the Bob Newhart Show 6 VHS   \n",
       "2                                      The Crossing VHS   \n",
       "3                                         Air Force One   \n",
       "4                                   Steel Magnolias VHS   \n",
       "...                                                 ...   \n",
       "1279  Victory at Sea: The Complete Series by Mill Cr...   \n",
       "1280           Game of Thrones: The Complete 6th Season   \n",
       "1281                               The Legend of Tarzan   \n",
       "1282                               Central Intelligence   \n",
       "1283                        Independence Day Resurgence   \n",
       "\n",
       "                                                 new  above_trashold  ratio  \n",
       "0                                        The Joneses           False     57  \n",
       "1                     Beneath the Planet of the Apes           False     55  \n",
       "2                                  Miller's Crossing           False     73  \n",
       "3                                       One Fine Day           False     64  \n",
       "4                                    Steel Magnolias            True     88  \n",
       "...                                              ...             ...    ...  \n",
       "1279  Star Wars: Episode V - The Empire Strikes Back           False     50  \n",
       "1280              Halloween III: Season of the Witch           False     61  \n",
       "1281                             The Legend of Zorro           False     67  \n",
       "1282                    A.I. Artificial Intelligence           False     68  \n",
       "1283                                Independence Day           False     74  \n",
       "\n",
       "[1284 rows x 4 columns]"
      ]
     },
     "execution_count": 452,
     "metadata": {},
     "output_type": "execute_result"
    }
   ],
   "source": [
    "old_new[['old','new', 'above_trashold','ratio']]"
   ]
  },
  {
   "cell_type": "markdown",
   "metadata": {},
   "source": [
    "### just keeping up those above the trashold (those that are more likely to match)"
   ]
  },
  {
   "cell_type": "code",
   "execution_count": 453,
   "metadata": {},
   "outputs": [],
   "source": [
    "old_new_selected = old_new[old_new['above_trashold']==True]\n",
    "merged_selec = pd.merge(amz,old_new_selected, how = 'left', left_on = 'title', right_on = 'old' )\n",
    "merged_selec['ratio'] = merged_selec['ratio'].fillna('missing')"
   ]
  },
  {
   "cell_type": "markdown",
   "metadata": {},
   "source": [
    "#### Replacing"
   ]
  },
  {
   "cell_type": "code",
   "execution_count": 454,
   "metadata": {
    "scrolled": false
   },
   "outputs": [
    {
     "data": {
      "text/html": [
       "<div>\n",
       "<style scoped>\n",
       "    .dataframe tbody tr th:only-of-type {\n",
       "        vertical-align: middle;\n",
       "    }\n",
       "\n",
       "    .dataframe tbody tr th {\n",
       "        vertical-align: top;\n",
       "    }\n",
       "\n",
       "    .dataframe thead th {\n",
       "        text-align: right;\n",
       "    }\n",
       "</style>\n",
       "<table border=\"1\" class=\"dataframe\">\n",
       "  <thead>\n",
       "    <tr style=\"text-align: right;\">\n",
       "      <th></th>\n",
       "      <th>overall</th>\n",
       "      <th>verified</th>\n",
       "      <th>reviewTime</th>\n",
       "      <th>reviewerID</th>\n",
       "      <th>asin</th>\n",
       "      <th>style</th>\n",
       "      <th>reviewerName</th>\n",
       "      <th>reviewText</th>\n",
       "      <th>summary</th>\n",
       "      <th>unixReviewTime</th>\n",
       "      <th>vote</th>\n",
       "      <th>image</th>\n",
       "      <th>title</th>\n",
       "      <th>char_count</th>\n",
       "      <th>reviewer_rating_count</th>\n",
       "      <th>title_rating_count</th>\n",
       "      <th>old</th>\n",
       "      <th>new</th>\n",
       "    </tr>\n",
       "  </thead>\n",
       "  <tbody>\n",
       "    <tr>\n",
       "      <th>0</th>\n",
       "      <td>5.0</td>\n",
       "      <td>True</td>\n",
       "      <td>04 13, 2015</td>\n",
       "      <td>A2OI3HU0KN4118</td>\n",
       "      <td>0005119367</td>\n",
       "      <td>{'Format:': ' DVD'}</td>\n",
       "      <td>Shantal N.</td>\n",
       "      <td>Thanks for everything.</td>\n",
       "      <td>Five Stars</td>\n",
       "      <td>1428883200</td>\n",
       "      <td>NaN</td>\n",
       "      <td>NaN</td>\n",
       "      <td>NaN</td>\n",
       "      <td>22.0</td>\n",
       "      <td>78</td>\n",
       "      <td>50</td>\n",
       "      <td>NaN</td>\n",
       "      <td>NaN</td>\n",
       "    </tr>\n",
       "    <tr>\n",
       "      <th>1</th>\n",
       "      <td>5.0</td>\n",
       "      <td>True</td>\n",
       "      <td>04 15, 2014</td>\n",
       "      <td>A385J7MEM932DL</td>\n",
       "      <td>0005119367</td>\n",
       "      <td>{'Format:': ' DVD'}</td>\n",
       "      <td>Jim</td>\n",
       "      <td>This one was really interesting!  Loved it com...</td>\n",
       "      <td>Bible Story</td>\n",
       "      <td>1397520000</td>\n",
       "      <td>NaN</td>\n",
       "      <td>NaN</td>\n",
       "      <td>NaN</td>\n",
       "      <td>208.0</td>\n",
       "      <td>82</td>\n",
       "      <td>50</td>\n",
       "      <td>NaN</td>\n",
       "      <td>NaN</td>\n",
       "    </tr>\n",
       "    <tr>\n",
       "      <th>2</th>\n",
       "      <td>5.0</td>\n",
       "      <td>True</td>\n",
       "      <td>04 27, 2017</td>\n",
       "      <td>AIVTZDMB297BG</td>\n",
       "      <td>0767001311</td>\n",
       "      <td>{'Format:': ' DVD'}</td>\n",
       "      <td>Alan Denman</td>\n",
       "      <td>funny</td>\n",
       "      <td>Five Stars</td>\n",
       "      <td>1493251200</td>\n",
       "      <td>NaN</td>\n",
       "      <td>NaN</td>\n",
       "      <td>NaN</td>\n",
       "      <td>5.0</td>\n",
       "      <td>101</td>\n",
       "      <td>42</td>\n",
       "      <td>NaN</td>\n",
       "      <td>NaN</td>\n",
       "    </tr>\n",
       "    <tr>\n",
       "      <th>3</th>\n",
       "      <td>4.0</td>\n",
       "      <td>True</td>\n",
       "      <td>12 2, 2016</td>\n",
       "      <td>AXOX48S8K994V</td>\n",
       "      <td>0767001311</td>\n",
       "      <td>{'Format:': ' DVD'}</td>\n",
       "      <td>Amazon Customer</td>\n",
       "      <td>Great series</td>\n",
       "      <td>Four Stars</td>\n",
       "      <td>1480636800</td>\n",
       "      <td>NaN</td>\n",
       "      <td>NaN</td>\n",
       "      <td>NaN</td>\n",
       "      <td>12.0</td>\n",
       "      <td>64</td>\n",
       "      <td>42</td>\n",
       "      <td>NaN</td>\n",
       "      <td>NaN</td>\n",
       "    </tr>\n",
       "    <tr>\n",
       "      <th>4</th>\n",
       "      <td>4.0</td>\n",
       "      <td>True</td>\n",
       "      <td>10 13, 2016</td>\n",
       "      <td>A3J9LLWHZH15HG</td>\n",
       "      <td>0767001311</td>\n",
       "      <td>{'Format:': ' DVD'}</td>\n",
       "      <td>JJ</td>\n",
       "      <td>I happen to like Bob Newhart even though he is...</td>\n",
       "      <td>Well done, amusing series.</td>\n",
       "      <td>1476316800</td>\n",
       "      <td>NaN</td>\n",
       "      <td>NaN</td>\n",
       "      <td>NaN</td>\n",
       "      <td>535.0</td>\n",
       "      <td>93</td>\n",
       "      <td>42</td>\n",
       "      <td>NaN</td>\n",
       "      <td>NaN</td>\n",
       "    </tr>\n",
       "    <tr>\n",
       "      <th>...</th>\n",
       "      <td>...</td>\n",
       "      <td>...</td>\n",
       "      <td>...</td>\n",
       "      <td>...</td>\n",
       "      <td>...</td>\n",
       "      <td>...</td>\n",
       "      <td>...</td>\n",
       "      <td>...</td>\n",
       "      <td>...</td>\n",
       "      <td>...</td>\n",
       "      <td>...</td>\n",
       "      <td>...</td>\n",
       "      <td>...</td>\n",
       "      <td>...</td>\n",
       "      <td>...</td>\n",
       "      <td>...</td>\n",
       "      <td>...</td>\n",
       "      <td>...</td>\n",
       "    </tr>\n",
       "    <tr>\n",
       "      <th>14653</th>\n",
       "      <td>5.0</td>\n",
       "      <td>True</td>\n",
       "      <td>11 14, 2016</td>\n",
       "      <td>A3G6QZJBB466TC</td>\n",
       "      <td>B01HC3880G</td>\n",
       "      <td>{'Format:': ' DVD'}</td>\n",
       "      <td>tundrakid</td>\n",
       "      <td>good</td>\n",
       "      <td>Five Stars</td>\n",
       "      <td>1479081600</td>\n",
       "      <td>NaN</td>\n",
       "      <td>NaN</td>\n",
       "      <td>NaN</td>\n",
       "      <td>4.0</td>\n",
       "      <td>76</td>\n",
       "      <td>72</td>\n",
       "      <td>NaN</td>\n",
       "      <td>NaN</td>\n",
       "    </tr>\n",
       "    <tr>\n",
       "      <th>14654</th>\n",
       "      <td>5.0</td>\n",
       "      <td>True</td>\n",
       "      <td>11 13, 2016</td>\n",
       "      <td>A137WEXVKECX61</td>\n",
       "      <td>B01HC3880G</td>\n",
       "      <td>{'Format:': ' DVD'}</td>\n",
       "      <td>Michael Militello</td>\n",
       "      <td>Great movie. Just as good as the first.</td>\n",
       "      <td>DVD</td>\n",
       "      <td>1478995200</td>\n",
       "      <td>NaN</td>\n",
       "      <td>NaN</td>\n",
       "      <td>NaN</td>\n",
       "      <td>39.0</td>\n",
       "      <td>69</td>\n",
       "      <td>72</td>\n",
       "      <td>NaN</td>\n",
       "      <td>NaN</td>\n",
       "    </tr>\n",
       "    <tr>\n",
       "      <th>14655</th>\n",
       "      <td>4.0</td>\n",
       "      <td>True</td>\n",
       "      <td>11 13, 2016</td>\n",
       "      <td>A1IRFAUJUS0IWY</td>\n",
       "      <td>B01HC3880G</td>\n",
       "      <td>{'Format:': ' DVD'}</td>\n",
       "      <td>Lynda Dunbar</td>\n",
       "      <td>Pretty good movie.  Not as good as the first o...</td>\n",
       "      <td>Pretty Good Movie</td>\n",
       "      <td>1478995200</td>\n",
       "      <td>NaN</td>\n",
       "      <td>NaN</td>\n",
       "      <td>NaN</td>\n",
       "      <td>161.0</td>\n",
       "      <td>185</td>\n",
       "      <td>72</td>\n",
       "      <td>NaN</td>\n",
       "      <td>NaN</td>\n",
       "    </tr>\n",
       "    <tr>\n",
       "      <th>14656</th>\n",
       "      <td>5.0</td>\n",
       "      <td>True</td>\n",
       "      <td>10 30, 2016</td>\n",
       "      <td>A2PA624DT1CXOS</td>\n",
       "      <td>B01HC3880G</td>\n",
       "      <td>{'Format:': ' DVD'}</td>\n",
       "      <td>Laura</td>\n",
       "      <td>Haven't watched this movie yet but I'm sure it...</td>\n",
       "      <td>DVD</td>\n",
       "      <td>1477785600</td>\n",
       "      <td>NaN</td>\n",
       "      <td>NaN</td>\n",
       "      <td>NaN</td>\n",
       "      <td>53.0</td>\n",
       "      <td>87</td>\n",
       "      <td>72</td>\n",
       "      <td>NaN</td>\n",
       "      <td>NaN</td>\n",
       "    </tr>\n",
       "    <tr>\n",
       "      <th>14657</th>\n",
       "      <td>2.0</td>\n",
       "      <td>True</td>\n",
       "      <td>10 18, 2016</td>\n",
       "      <td>AJ2LH4FFW4QYX</td>\n",
       "      <td>B01HC3880G</td>\n",
       "      <td>{'Format:': ' DVD'}</td>\n",
       "      <td>warren</td>\n",
       "      <td>poop!  it's all poop!  writer, director on cra...</td>\n",
       "      <td>poop</td>\n",
       "      <td>1476748800</td>\n",
       "      <td>NaN</td>\n",
       "      <td>NaN</td>\n",
       "      <td>NaN</td>\n",
       "      <td>101.0</td>\n",
       "      <td>95</td>\n",
       "      <td>72</td>\n",
       "      <td>NaN</td>\n",
       "      <td>NaN</td>\n",
       "    </tr>\n",
       "  </tbody>\n",
       "</table>\n",
       "<p>14658 rows × 18 columns</p>\n",
       "</div>"
      ],
      "text/plain": [
       "       overall  verified   reviewTime      reviewerID        asin  \\\n",
       "0          5.0      True  04 13, 2015  A2OI3HU0KN4118  0005119367   \n",
       "1          5.0      True  04 15, 2014  A385J7MEM932DL  0005119367   \n",
       "2          5.0      True  04 27, 2017   AIVTZDMB297BG  0767001311   \n",
       "3          4.0      True   12 2, 2016   AXOX48S8K994V  0767001311   \n",
       "4          4.0      True  10 13, 2016  A3J9LLWHZH15HG  0767001311   \n",
       "...        ...       ...          ...             ...         ...   \n",
       "14653      5.0      True  11 14, 2016  A3G6QZJBB466TC  B01HC3880G   \n",
       "14654      5.0      True  11 13, 2016  A137WEXVKECX61  B01HC3880G   \n",
       "14655      4.0      True  11 13, 2016  A1IRFAUJUS0IWY  B01HC3880G   \n",
       "14656      5.0      True  10 30, 2016  A2PA624DT1CXOS  B01HC3880G   \n",
       "14657      2.0      True  10 18, 2016   AJ2LH4FFW4QYX  B01HC3880G   \n",
       "\n",
       "                     style       reviewerName  \\\n",
       "0      {'Format:': ' DVD'}         Shantal N.   \n",
       "1      {'Format:': ' DVD'}                Jim   \n",
       "2      {'Format:': ' DVD'}        Alan Denman   \n",
       "3      {'Format:': ' DVD'}    Amazon Customer   \n",
       "4      {'Format:': ' DVD'}                 JJ   \n",
       "...                    ...                ...   \n",
       "14653  {'Format:': ' DVD'}          tundrakid   \n",
       "14654  {'Format:': ' DVD'}  Michael Militello   \n",
       "14655  {'Format:': ' DVD'}       Lynda Dunbar   \n",
       "14656  {'Format:': ' DVD'}              Laura   \n",
       "14657  {'Format:': ' DVD'}             warren   \n",
       "\n",
       "                                              reviewText  \\\n",
       "0                                 Thanks for everything.   \n",
       "1      This one was really interesting!  Loved it com...   \n",
       "2                                                  funny   \n",
       "3                                           Great series   \n",
       "4      I happen to like Bob Newhart even though he is...   \n",
       "...                                                  ...   \n",
       "14653                                               good   \n",
       "14654            Great movie. Just as good as the first.   \n",
       "14655  Pretty good movie.  Not as good as the first o...   \n",
       "14656  Haven't watched this movie yet but I'm sure it...   \n",
       "14657  poop!  it's all poop!  writer, director on cra...   \n",
       "\n",
       "                          summary  unixReviewTime vote image title  \\\n",
       "0                      Five Stars      1428883200  NaN   NaN   NaN   \n",
       "1                     Bible Story      1397520000  NaN   NaN   NaN   \n",
       "2                      Five Stars      1493251200  NaN   NaN   NaN   \n",
       "3                      Four Stars      1480636800  NaN   NaN   NaN   \n",
       "4      Well done, amusing series.      1476316800  NaN   NaN   NaN   \n",
       "...                           ...             ...  ...   ...   ...   \n",
       "14653                  Five Stars      1479081600  NaN   NaN   NaN   \n",
       "14654                         DVD      1478995200  NaN   NaN   NaN   \n",
       "14655           Pretty Good Movie      1478995200  NaN   NaN   NaN   \n",
       "14656                         DVD      1477785600  NaN   NaN   NaN   \n",
       "14657                        poop      1476748800  NaN   NaN   NaN   \n",
       "\n",
       "       char_count  reviewer_rating_count  title_rating_count  old  new  \n",
       "0            22.0                     78                  50  NaN  NaN  \n",
       "1           208.0                     82                  50  NaN  NaN  \n",
       "2             5.0                    101                  42  NaN  NaN  \n",
       "3            12.0                     64                  42  NaN  NaN  \n",
       "4           535.0                     93                  42  NaN  NaN  \n",
       "...           ...                    ...                 ...  ...  ...  \n",
       "14653         4.0                     76                  72  NaN  NaN  \n",
       "14654        39.0                     69                  72  NaN  NaN  \n",
       "14655       161.0                    185                  72  NaN  NaN  \n",
       "14656        53.0                     87                  72  NaN  NaN  \n",
       "14657       101.0                     95                  72  NaN  NaN  \n",
       "\n",
       "[14658 rows x 18 columns]"
      ]
     },
     "execution_count": 454,
     "metadata": {},
     "output_type": "execute_result"
    }
   ],
   "source": [
    "def replace_old(merged_selec):\n",
    "    if merged_selec['ratio'] == 'missing':\n",
    "        return np.nan\n",
    "    else:\n",
    "        return(merged_selec['new'])\n",
    "    \n",
    "merged_selec['title'] = merged_selec.apply(lambda x:replace_old(x), axis = 1 )\n",
    "neat_titles_amazon = merged_selec.drop(['ratio', 'is_same', 'above_trashold'], axis = 1)\n",
    "neat_titles_amazon"
   ]
  },
  {
   "cell_type": "code",
   "execution_count": 455,
   "metadata": {},
   "outputs": [],
   "source": [
    "final_df = pd.merge(neat_titles_amazon, df_filtered, how = 'left', left_on = 'title', right_on = 'title')"
   ]
  },
  {
   "cell_type": "markdown",
   "metadata": {},
   "source": [
    "`^^^: new amazon dataset that has the same titles corresponding to ones in IMBD `"
   ]
  },
  {
   "cell_type": "code",
   "execution_count": 456,
   "metadata": {
    "scrolled": false
   },
   "outputs": [
    {
     "data": {
      "text/plain": [
       "373"
      ]
     },
     "execution_count": 456,
     "metadata": {},
     "output_type": "execute_result"
    }
   ],
   "source": [
    "final_df.title.nunique()"
   ]
  },
  {
   "cell_type": "code",
   "execution_count": 481,
   "metadata": {},
   "outputs": [],
   "source": [
    "final_df.dropna( subset= ['title'],axis = 'rows',inplace = True)"
   ]
  },
  {
   "cell_type": "code",
   "execution_count": null,
   "metadata": {},
   "outputs": [],
   "source": []
  },
  {
   "cell_type": "code",
   "execution_count": 480,
   "metadata": {},
   "outputs": [],
   "source": [
    "final_df.to_csv(data_dir + '/amazon_unique_title_common_imbd_info.csv',index = False)"
   ]
  },
  {
   "cell_type": "code",
   "execution_count": null,
   "metadata": {},
   "outputs": [],
   "source": [
    "###"
   ]
  },
  {
   "cell_type": "code",
   "execution_count": null,
   "metadata": {},
   "outputs": [],
   "source": []
  }
 ],
 "metadata": {
  "kernelspec": {
   "display_name": "Python 3",
   "language": "python",
   "name": "python3"
  },
  "language_info": {
   "codemirror_mode": {
    "name": "ipython",
    "version": 3
   },
   "file_extension": ".py",
   "mimetype": "text/x-python",
   "name": "python",
   "nbconvert_exporter": "python",
   "pygments_lexer": "ipython3",
   "version": "3.7.4"
  },
  "toc": {
   "base_numbering": 1,
   "nav_menu": {},
   "number_sections": true,
   "sideBar": true,
   "skip_h1_title": false,
   "title_cell": "Table of Contents",
   "title_sidebar": "Contents",
   "toc_cell": false,
   "toc_position": {},
   "toc_section_display": true,
   "toc_window_display": false
  }
 },
 "nbformat": 4,
 "nbformat_minor": 2
}
